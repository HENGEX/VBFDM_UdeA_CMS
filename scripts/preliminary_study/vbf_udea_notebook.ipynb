{
 "cells": [
  {
   "cell_type": "code",
   "execution_count": 1,
   "metadata": {},
   "outputs": [
    {
     "name": "stdout",
     "output_type": "stream",
     "text": [
      "Welcome to JupyROOT 6.19/01\n",
      "Delphes classes imported\n"
     ]
    }
   ],
   "source": [
    "import pyroot_module as pr"
   ]
  },
  {
   "cell_type": "markdown",
   "metadata": {},
   "source": [
    "### Importing signal and background to create `Data` objects for a Delphes tree"
   ]
  },
  {
   "cell_type": "code",
   "execution_count": 2,
   "metadata": {},
   "outputs": [],
   "source": [
    "signal_path = \"/home/daniel/VBF/data/signal/daniel_run_05.root\"\n",
    "background_path = \"/home/daniel/VBF/data/background/santiago_run_04.root\"\n",
    "\n",
    "signal = pr.Data(signal_path, \"signal\")\n",
    "background = pr.Data(background_path, \"background\")"
   ]
  },
  {
   "cell_type": "markdown",
   "metadata": {},
   "source": [
    "we can see the number of events with the `number_of_events` attribute"
   ]
  },
  {
   "cell_type": "code",
   "execution_count": 3,
   "metadata": {},
   "outputs": [
    {
     "name": "stdout",
     "output_type": "stream",
     "text": [
      "signal number of events:  50000\n",
      "background number of events:  48974\n"
     ]
    }
   ],
   "source": [
    "ns = signal.number_of_events\n",
    "nb = background.number_of_events\n",
    "\n",
    "print \"signal number of events: \",ns\n",
    "print \"background number of events: \",nb"
   ]
  },
  {
   "cell_type": "markdown",
   "metadata": {},
   "source": [
    "### Creating and filling histograms \n",
    "\n",
    "We can see the histograms than can be created using the `DisplayHistograms` method on some Data class instance"
   ]
  },
  {
   "cell_type": "code",
   "execution_count": 4,
   "metadata": {},
   "outputs": [
    {
     "name": "stdout",
     "output_type": "stream",
     "text": [
      "hPT[j]: Transverse momentum\n",
      "hEta[j]: jets pseudorapidity\n",
      "hDeltaEta[j]: Difference on pseudorapidity between MET and jets\n",
      "hDeltaPhiMetJet[j]: Difference on the azimuthal angle between the Met and jets\n",
      "hDeltaPhi: Difference on the azimuthal angle between the two leading jets\n",
      "hMass: Invariant mass for the two leading jets\n",
      "hPTdiv: Ratio between the transverse momentum of the two leading jets\n",
      "hMetET: MET transverse energy\n",
      "hMetPhi: Azimuthal angle of the MET\n",
      "hDeltaEtaJet: Difference on pseudorapidity between the two leading jets\n",
      "hDeltaPhiMax: Difference on the azimuthal angle between the two jets with greatest invariant mass\n",
      "hMassMax: Invariant mass for the jets with greatest invariant mass\n",
      "hPTdivMax: Ratio between the transverse momentum of the jets with greatest invariant mass\n",
      "hDeltaEtaJetMax: Difference on pseudorapidity between the jets with greatest invariant mass\n"
     ]
    }
   ],
   "source": [
    "signal.DisplayHistograms()"
   ]
  },
  {
   "cell_type": "markdown",
   "metadata": {},
   "source": [
    "We can see/change some histogram features through the `<histName>_feature` attribute, which contains the number of bins, lower and upper limits, respectively  "
   ]
  },
  {
   "cell_type": "code",
   "execution_count": 5,
   "metadata": {},
   "outputs": [
    {
     "name": "stdout",
     "output_type": "stream",
     "text": [
      "hMass number of bins:  100\n",
      "hMass lower limit:  0.0\n",
      "hMass upper limit:  1800\n"
     ]
    }
   ],
   "source": [
    "print \"hMass number of bins: \",signal.hPT_feature[0]\n",
    "print \"hMass lower limit: \",signal.hPT_feature[1]\n",
    "print \"hMass upper limit: \",signal.hPT_feature[2]"
   ]
  },
  {
   "cell_type": "markdown",
   "metadata": {},
   "source": [
    "Let's initialize the histograms for the signal and background data "
   ]
  },
  {
   "cell_type": "code",
   "execution_count": 6,
   "metadata": {},
   "outputs": [],
   "source": [
    "signal.Histograms()\n",
    "background.Histograms()"
   ]
  },
  {
   "cell_type": "markdown",
   "metadata": {},
   "source": [
    "Before filling the histograms, we must call the `GetObjects()` method to get well-defined jet and met objects. "
   ]
  },
  {
   "cell_type": "code",
   "execution_count": 8,
   "metadata": {},
   "outputs": [],
   "source": [
    "sig_obj = signal.GetObjects()\n",
    "bac_obj = background.GetObjects()"
   ]
  },
  {
   "cell_type": "markdown",
   "metadata": {},
   "source": [
    "By default, the method `Fill()`filters jets with $P_T > 30 \\: \\text{GeV}$ and $|\\eta| < 5$. Additionally, it filters events with at least two jets in opposite hemispheres."
   ]
  },
  {
   "cell_type": "code",
   "execution_count": 9,
   "metadata": {},
   "outputs": [],
   "source": [
    "signal.Fill(*sig_obj)\n",
    "background.Fill(*bac_obj)"
   ]
  },
  {
   "cell_type": "markdown",
   "metadata": {},
   "source": [
    "To visualize some histogram, we can use the `PlotHistogram()` method. By default, it will create a folder named `Histograms` in the current directory and save the plot there. To change this path use the kwarg `savePath`."
   ]
  },
  {
   "cell_type": "code",
   "execution_count": 10,
   "metadata": {},
   "outputs": [
    {
     "data": {
      "image/png": "[encoded data removed]",
      "text/plain": [
       "<IPython.core.display.Image object>"
      ]
     },
     "metadata": {},
     "output_type": "display_data"
    }
   ],
   "source": [
    "# plotting the MET transverse energy for the signal data\n",
    "pr.PlotHisto(signal.hMetET, title=\"Signal MET ET\", save=False)"
   ]
  },
  {
   "cell_type": "markdown",
   "metadata": {},
   "source": [
    "Alternative, we can plot two histograms in the same canvas using the `PlotHistograms()` method:"
   ]
  },
  {
   "cell_type": "code",
   "execution_count": 11,
   "metadata": {},
   "outputs": [
    {
     "data": {
      "image/png": "[encoded data removed]",
      "text/plain": [
       "<IPython.core.display.Image object>"
      ]
     },
     "metadata": {},
     "output_type": "display_data"
    }
   ],
   "source": [
    "# plotting the tranverse momentum for the leading jets in signal and background data\n",
    "hs = signal.hPT[0]\n",
    "hb = background.hPT[0]\n",
    "\n",
    "pr.PlotHistos(hs, hb, save=False, title=\"Transverse momentum for the leading Jet\")"
   ]
  },
  {
   "cell_type": "markdown",
   "metadata": {},
   "source": [
    "we can obtain a significance histogram made out of hs and hb using the `Significance` method:"
   ]
  },
  {
   "cell_type": "code",
   "execution_count": 12,
   "metadata": {},
   "outputs": [
    {
     "data": {
      "image/png": "[encoded data removed]",
      "text/plain": [
       "<IPython.core.display.Image object>"
      ]
     },
     "metadata": {},
     "output_type": "display_data"
    }
   ],
   "source": [
    "hz = pr.Significance(hs, hb, ns=ns, nb=nb)\n",
    "\n",
    "pr.PlotHisto(hz, title=\"Significance for hPT[0]\" ,save=False)"
   ]
  },
  {
   "cell_type": "markdown",
   "metadata": {},
   "source": [
    "### Applying cuts\n",
    "\n",
    "The number of events that pass some cut are store in the `cuts` attribute (there is a latex-like string of the cuts in the `cuts_keys` attribute): "
   ]
  },
  {
   "cell_type": "code",
   "execution_count": 13,
   "metadata": {},
   "outputs": [
    {
     "data": {
      "text/plain": [
       "{'cut0': 50000L,\n",
       " 'cut1': 39474,\n",
       " 'cut2': 17312,\n",
       " 'cut3': 0,\n",
       " 'cut4': 0,\n",
       " 'cut5': 0,\n",
       " 'cut6': 0,\n",
       " 'cut7': 0}"
      ]
     },
     "execution_count": 13,
     "metadata": {},
     "output_type": "execute_result"
    }
   ],
   "source": [
    "# number of signal events that pass some cut (only default cuts)\n",
    "signal.cuts"
   ]
  },
  {
   "cell_type": "markdown",
   "metadata": {},
   "source": [
    "we can activate/deactivate an individual cut or modify its value"
   ]
  },
  {
   "cell_type": "code",
   "execution_count": 14,
   "metadata": {},
   "outputs": [],
   "source": [
    "signal.Fill(*sig_obj, h_cut=True, h_cut_value=500)\n",
    "background.Fill(*bac_obj, h_cut=True, h_cut_value=500)"
   ]
  },
  {
   "cell_type": "code",
   "execution_count": 15,
   "metadata": {},
   "outputs": [
    {
     "data": {
      "text/plain": [
       "{'cut0': 50000L,\n",
       " 'cut1': 39474,\n",
       " 'cut2': 17312,\n",
       " 'cut3': 0,\n",
       " 'cut4': 0,\n",
       " 'cut5': 0,\n",
       " 'cut6': 3610,\n",
       " 'cut7': 0}"
      ]
     },
     "execution_count": 15,
     "metadata": {},
     "output_type": "execute_result"
    }
   ],
   "source": [
    "# number of signal events that pass some cut (with an additional cut)\n",
    "signal.cuts"
   ]
  },
  {
   "cell_type": "markdown",
   "metadata": {},
   "source": [
    "To apply all the cuts at once we can set the `apply_cut` (`False` by default) attribute to `True` before calling the `Fill` method:"
   ]
  },
  {
   "cell_type": "code",
   "execution_count": 16,
   "metadata": {},
   "outputs": [],
   "source": [
    "pr.Data.apply_cut = True\n",
    "\n",
    "signal.Fill(*sig_obj)\n",
    "background.Fill(*bac_obj)"
   ]
  },
  {
   "cell_type": "code",
   "execution_count": 17,
   "metadata": {},
   "outputs": [
    {
     "data": {
      "text/plain": [
       "{'cut0': 50000L,\n",
       " 'cut1': 39474,\n",
       " 'cut2': 17312,\n",
       " 'cut3': 1541,\n",
       " 'cut4': 351,\n",
       " 'cut5': 118,\n",
       " 'cut6': 116,\n",
       " 'cut7': 34}"
      ]
     },
     "execution_count": 17,
     "metadata": {},
     "output_type": "execute_result"
    }
   ],
   "source": [
    "# number of signal events that pass some cut (all cuts)\n",
    "signal.cuts"
   ]
  },
  {
   "cell_type": "markdown",
   "metadata": {},
   "source": [
    "We can see the cutflow with the `CutFlow` function:"
   ]
  },
  {
   "cell_type": "code",
   "execution_count": 18,
   "metadata": {},
   "outputs": [],
   "source": [
    "t1, t2 = pr.CutFlow(signal.cuts, background.cuts, signal.cuts_keys, ns=ns, nb=nb)"
   ]
  },
  {
   "cell_type": "code",
   "execution_count": 19,
   "metadata": {},
   "outputs": [
    {
     "data": {
      "text/html": [
       "<div>\n",
       "<style scoped>\n",
       "    .dataframe tbody tr th:only-of-type {\n",
       "        vertical-align: middle;\n",
       "    }\n",
       "\n",
       "    .dataframe tbody tr th {\n",
       "        vertical-align: top;\n",
       "    }\n",
       "\n",
       "    .dataframe thead th {\n",
       "        text-align: right;\n",
       "    }\n",
       "</style>\n",
       "<table border=\"1\" class=\"dataframe\">\n",
       "  <thead>\n",
       "    <tr style=\"text-align: right;\">\n",
       "      <th></th>\n",
       "      <th>${\\textbf{[bold]: GeV}}$</th>\n",
       "      <th>S</th>\n",
       "      <th>B</th>\n",
       "      <th>Z</th>\n",
       "    </tr>\n",
       "  </thead>\n",
       "  <tbody>\n",
       "    <tr>\n",
       "      <th>cut0</th>\n",
       "      <td>${\\mathbf{P_T&gt;30}}$, $|\\eta(j)|&lt;5$</td>\n",
       "      <td>50000.0</td>\n",
       "      <td>48974.0</td>\n",
       "      <td>234.415327</td>\n",
       "    </tr>\n",
       "    <tr>\n",
       "      <th>cut1</th>\n",
       "      <td>Number of jets $\\geq$ 2</td>\n",
       "      <td>39474.0</td>\n",
       "      <td>38487.0</td>\n",
       "      <td>208.686058</td>\n",
       "    </tr>\n",
       "    <tr>\n",
       "      <th>cut2</th>\n",
       "      <td>$\\eta (j_1) * \\eta (j_2) &lt; 0$</td>\n",
       "      <td>17312.0</td>\n",
       "      <td>16125.0</td>\n",
       "      <td>140.868625</td>\n",
       "    </tr>\n",
       "    <tr>\n",
       "      <th>cut3</th>\n",
       "      <td>$|\\Delta \\eta (j_1,j_2)| &gt; 4$</td>\n",
       "      <td>1541.0</td>\n",
       "      <td>1514.0</td>\n",
       "      <td>41.100243</td>\n",
       "    </tr>\n",
       "    <tr>\n",
       "      <th>cut4</th>\n",
       "      <td>$\\mathbf{M(j_1,j_2) &gt;}1000$</td>\n",
       "      <td>351.0</td>\n",
       "      <td>463.0</td>\n",
       "      <td>17.283618</td>\n",
       "    </tr>\n",
       "    <tr>\n",
       "      <th>cut5</th>\n",
       "      <td>$\\mathbf{MET &gt;}200$</td>\n",
       "      <td>118.0</td>\n",
       "      <td>195.0</td>\n",
       "      <td>9.067169</td>\n",
       "    </tr>\n",
       "    <tr>\n",
       "      <th>cut6</th>\n",
       "      <td>$\\mathbf{H_t &gt;}200$</td>\n",
       "      <td>116.0</td>\n",
       "      <td>194.0</td>\n",
       "      <td>8.941813</td>\n",
       "    </tr>\n",
       "    <tr>\n",
       "      <th>cut7</th>\n",
       "      <td>|$\\Delta\\phi(\\text{MET},j)| &gt; 0.5$</td>\n",
       "      <td>34.0</td>\n",
       "      <td>42.0</td>\n",
       "      <td>5.535512</td>\n",
       "    </tr>\n",
       "  </tbody>\n",
       "</table>\n",
       "</div>"
      ],
      "text/plain": [
       "                ${\\textbf{[bold]: GeV}}$        S        B           Z\n",
       "cut0  ${\\mathbf{P_T>30}}$, $|\\eta(j)|<5$  50000.0  48974.0  234.415327\n",
       "cut1             Number of jets $\\geq$ 2  39474.0  38487.0  208.686058\n",
       "cut2       $\\eta (j_1) * \\eta (j_2) < 0$  17312.0  16125.0  140.868625\n",
       "cut3       $|\\Delta \\eta (j_1,j_2)| > 4$   1541.0   1514.0   41.100243\n",
       "cut4         $\\mathbf{M(j_1,j_2) >}1000$    351.0    463.0   17.283618\n",
       "cut5                 $\\mathbf{MET >}200$    118.0    195.0    9.067169\n",
       "cut6                 $\\mathbf{H_t >}200$    116.0    194.0    8.941813\n",
       "cut7  |$\\Delta\\phi(\\text{MET},j)| > 0.5$     34.0     42.0    5.535512"
      ]
     },
     "execution_count": 19,
     "metadata": {},
     "output_type": "execute_result"
    }
   ],
   "source": [
    "t1"
   ]
  },
  {
   "cell_type": "code",
   "execution_count": 20,
   "metadata": {},
   "outputs": [
    {
     "data": {
      "text/html": [
       "<div>\n",
       "<style scoped>\n",
       "    .dataframe tbody tr th:only-of-type {\n",
       "        vertical-align: middle;\n",
       "    }\n",
       "\n",
       "    .dataframe tbody tr th {\n",
       "        vertical-align: top;\n",
       "    }\n",
       "\n",
       "    .dataframe thead th {\n",
       "        text-align: right;\n",
       "    }\n",
       "</style>\n",
       "<table border=\"1\" class=\"dataframe\">\n",
       "  <thead>\n",
       "    <tr style=\"text-align: right;\">\n",
       "      <th></th>\n",
       "      <th>${\\textbf{[bold]: GeV}}$</th>\n",
       "      <th>s_c</th>\n",
       "      <th>s_r</th>\n",
       "      <th>b_a</th>\n",
       "      <th>b_r</th>\n",
       "    </tr>\n",
       "  </thead>\n",
       "  <tbody>\n",
       "    <tr>\n",
       "      <th>cut0</th>\n",
       "      <td>${\\mathbf{P_T&gt;30}}$, $|\\eta(j)|&lt;5$</td>\n",
       "      <td>1</td>\n",
       "      <td>1</td>\n",
       "      <td>1</td>\n",
       "      <td>1</td>\n",
       "    </tr>\n",
       "    <tr>\n",
       "      <th>cut1</th>\n",
       "      <td>Number of jets $\\geq$ 2</td>\n",
       "      <td>0.78948</td>\n",
       "      <td>0.78948</td>\n",
       "      <td>0.785866</td>\n",
       "      <td>0.785866</td>\n",
       "    </tr>\n",
       "    <tr>\n",
       "      <th>cut2</th>\n",
       "      <td>$\\eta (j_1) * \\eta (j_2) &lt; 0$</td>\n",
       "      <td>0.34624</td>\n",
       "      <td>0.438567</td>\n",
       "      <td>0.329256</td>\n",
       "      <td>0.418973</td>\n",
       "    </tr>\n",
       "    <tr>\n",
       "      <th>cut3</th>\n",
       "      <td>$|\\Delta \\eta (j_1,j_2)| &gt; 4$</td>\n",
       "      <td>0.03082</td>\n",
       "      <td>0.0890134</td>\n",
       "      <td>0.0309144</td>\n",
       "      <td>0.0938915</td>\n",
       "    </tr>\n",
       "    <tr>\n",
       "      <th>cut4</th>\n",
       "      <td>$\\mathbf{M(j_1,j_2) &gt;}1000$</td>\n",
       "      <td>0.00702</td>\n",
       "      <td>0.227774</td>\n",
       "      <td>0.009454</td>\n",
       "      <td>0.305812</td>\n",
       "    </tr>\n",
       "    <tr>\n",
       "      <th>cut5</th>\n",
       "      <td>$\\mathbf{MET &gt;}200$</td>\n",
       "      <td>0.00236</td>\n",
       "      <td>0.336182</td>\n",
       "      <td>0.0039817</td>\n",
       "      <td>0.421166</td>\n",
       "    </tr>\n",
       "    <tr>\n",
       "      <th>cut6</th>\n",
       "      <td>$\\mathbf{H_t &gt;}200$</td>\n",
       "      <td>0.00232</td>\n",
       "      <td>0.983051</td>\n",
       "      <td>0.00396129</td>\n",
       "      <td>0.994872</td>\n",
       "    </tr>\n",
       "    <tr>\n",
       "      <th>cut7</th>\n",
       "      <td>|$\\Delta\\phi(\\text{MET},j)| &gt; 0.5$</td>\n",
       "      <td>0.00068</td>\n",
       "      <td>0.293103</td>\n",
       "      <td>0.000857598</td>\n",
       "      <td>0.216495</td>\n",
       "    </tr>\n",
       "  </tbody>\n",
       "</table>\n",
       "</div>"
      ],
      "text/plain": [
       "                ${\\textbf{[bold]: GeV}}$      s_c        s_r          b_a  \\\n",
       "cut0  ${\\mathbf{P_T>30}}$, $|\\eta(j)|<5$        1          1            1   \n",
       "cut1             Number of jets $\\geq$ 2  0.78948    0.78948     0.785866   \n",
       "cut2       $\\eta (j_1) * \\eta (j_2) < 0$  0.34624   0.438567     0.329256   \n",
       "cut3       $|\\Delta \\eta (j_1,j_2)| > 4$  0.03082  0.0890134    0.0309144   \n",
       "cut4         $\\mathbf{M(j_1,j_2) >}1000$  0.00702   0.227774     0.009454   \n",
       "cut5                 $\\mathbf{MET >}200$  0.00236   0.336182    0.0039817   \n",
       "cut6                 $\\mathbf{H_t >}200$  0.00232   0.983051   0.00396129   \n",
       "cut7  |$\\Delta\\phi(\\text{MET},j)| > 0.5$  0.00068   0.293103  0.000857598   \n",
       "\n",
       "            b_r  \n",
       "cut0          1  \n",
       "cut1   0.785866  \n",
       "cut2   0.418973  \n",
       "cut3  0.0938915  \n",
       "cut4   0.305812  \n",
       "cut5   0.421166  \n",
       "cut6   0.994872  \n",
       "cut7   0.216495  "
      ]
     },
     "execution_count": 20,
     "metadata": {},
     "output_type": "execute_result"
    }
   ],
   "source": [
    "t2"
   ]
  },
  {
   "cell_type": "markdown",
   "metadata": {},
   "source": [
    "To create a `Data` object for a `vbf_udea_tree`, first we have to convert the signal and background data with the `Convert` method. We just need to pass the new data name: "
   ]
  },
  {
   "cell_type": "code",
   "execution_count": null,
   "metadata": {},
   "outputs": [],
   "source": [
    "signal.Convert(\"signal_data.root\")\n",
    "background.Convert(\"background_data.root\")"
   ]
  },
  {
   "cell_type": "markdown",
   "metadata": {},
   "source": [
    "Then, the analysis is the same"
   ]
  },
  {
   "cell_type": "code",
   "execution_count": 23,
   "metadata": {},
   "outputs": [],
   "source": [
    "s_path = \"/home/daniel/VBF/scripts/signal_data.root\"\n",
    "b_path = \"/home/daniel/VBF/scripts/background_data.root\"\n",
    "\n",
    "# we need to pass the tree name (default is \"Delphes\")\n",
    "s = pr.Data(s_path, \"s\", \"vbf_udea_tree\")\n",
    "b = pr.Data(b_path, \"b\", \"vbf_udea_tree\")\n",
    "\n",
    "s.Histograms()\n",
    "b.Histograms()\n",
    "\n",
    "s_obj = s.GetObjects()\n",
    "b_obj = b.GetObjects()\n",
    "\n",
    "s.Fill(*s_obj)\n",
    "b.Fill(*b_obj)"
   ]
  },
  {
   "cell_type": "code",
   "execution_count": 24,
   "metadata": {},
   "outputs": [],
   "source": [
    "t11, t22 = pr.CutFlow(s.cuts, b.cuts, s.cuts_keys, ns=ns, nb=nb)"
   ]
  },
  {
   "cell_type": "code",
   "execution_count": 25,
   "metadata": {},
   "outputs": [
    {
     "data": {
      "text/html": [
       "<div>\n",
       "<style scoped>\n",
       "    .dataframe tbody tr th:only-of-type {\n",
       "        vertical-align: middle;\n",
       "    }\n",
       "\n",
       "    .dataframe tbody tr th {\n",
       "        vertical-align: top;\n",
       "    }\n",
       "\n",
       "    .dataframe thead th {\n",
       "        text-align: right;\n",
       "    }\n",
       "</style>\n",
       "<table border=\"1\" class=\"dataframe\">\n",
       "  <thead>\n",
       "    <tr style=\"text-align: right;\">\n",
       "      <th></th>\n",
       "      <th>${\\textbf{[bold]: GeV}}$</th>\n",
       "      <th>S</th>\n",
       "      <th>B</th>\n",
       "      <th>Z</th>\n",
       "    </tr>\n",
       "  </thead>\n",
       "  <tbody>\n",
       "    <tr>\n",
       "      <th>cut0</th>\n",
       "      <td>${\\mathbf{P_T&gt;30}}$, $|\\eta(j)|&lt;5$</td>\n",
       "      <td>50000.0</td>\n",
       "      <td>48974.0</td>\n",
       "      <td>234.415327</td>\n",
       "    </tr>\n",
       "    <tr>\n",
       "      <th>cut1</th>\n",
       "      <td>Number of jets $\\geq$ 2</td>\n",
       "      <td>39150.0</td>\n",
       "      <td>38296.0</td>\n",
       "      <td>207.542949</td>\n",
       "    </tr>\n",
       "    <tr>\n",
       "      <th>cut2</th>\n",
       "      <td>$\\eta (j_1) * \\eta (j_2) &lt; 0$</td>\n",
       "      <td>17078.0</td>\n",
       "      <td>15972.0</td>\n",
       "      <td>139.675886</td>\n",
       "    </tr>\n",
       "    <tr>\n",
       "      <th>cut3</th>\n",
       "      <td>$|\\Delta \\eta (j_1,j_2)| &gt; 4$</td>\n",
       "      <td>1556.0</td>\n",
       "      <td>1515.0</td>\n",
       "      <td>41.456676</td>\n",
       "    </tr>\n",
       "    <tr>\n",
       "      <th>cut4</th>\n",
       "      <td>$\\mathbf{M(j_1,j_2) &gt;}1000$</td>\n",
       "      <td>345.0</td>\n",
       "      <td>466.0</td>\n",
       "      <td>16.957985</td>\n",
       "    </tr>\n",
       "    <tr>\n",
       "      <th>cut5</th>\n",
       "      <td>$\\mathbf{MET &gt;}200$</td>\n",
       "      <td>116.0</td>\n",
       "      <td>201.0</td>\n",
       "      <td>8.800095</td>\n",
       "    </tr>\n",
       "    <tr>\n",
       "      <th>cut6</th>\n",
       "      <td>$\\mathbf{H_t &gt;}200$</td>\n",
       "      <td>113.0</td>\n",
       "      <td>198.0</td>\n",
       "      <td>8.641862</td>\n",
       "    </tr>\n",
       "    <tr>\n",
       "      <th>cut7</th>\n",
       "      <td>|$\\Delta\\phi(\\text{MET},j)| &gt; 0.5$</td>\n",
       "      <td>27.0</td>\n",
       "      <td>42.0</td>\n",
       "      <td>4.456351</td>\n",
       "    </tr>\n",
       "  </tbody>\n",
       "</table>\n",
       "</div>"
      ],
      "text/plain": [
       "                ${\\textbf{[bold]: GeV}}$        S        B           Z\n",
       "cut0  ${\\mathbf{P_T>30}}$, $|\\eta(j)|<5$  50000.0  48974.0  234.415327\n",
       "cut1             Number of jets $\\geq$ 2  39150.0  38296.0  207.542949\n",
       "cut2       $\\eta (j_1) * \\eta (j_2) < 0$  17078.0  15972.0  139.675886\n",
       "cut3       $|\\Delta \\eta (j_1,j_2)| > 4$   1556.0   1515.0   41.456676\n",
       "cut4         $\\mathbf{M(j_1,j_2) >}1000$    345.0    466.0   16.957985\n",
       "cut5                 $\\mathbf{MET >}200$    116.0    201.0    8.800095\n",
       "cut6                 $\\mathbf{H_t >}200$    113.0    198.0    8.641862\n",
       "cut7  |$\\Delta\\phi(\\text{MET},j)| > 0.5$     27.0     42.0    4.456351"
      ]
     },
     "execution_count": 25,
     "metadata": {},
     "output_type": "execute_result"
    }
   ],
   "source": [
    "t11"
   ]
  },
  {
   "cell_type": "code",
   "execution_count": 26,
   "metadata": {},
   "outputs": [
    {
     "data": {
      "text/html": [
       "<div>\n",
       "<style scoped>\n",
       "    .dataframe tbody tr th:only-of-type {\n",
       "        vertical-align: middle;\n",
       "    }\n",
       "\n",
       "    .dataframe tbody tr th {\n",
       "        vertical-align: top;\n",
       "    }\n",
       "\n",
       "    .dataframe thead th {\n",
       "        text-align: right;\n",
       "    }\n",
       "</style>\n",
       "<table border=\"1\" class=\"dataframe\">\n",
       "  <thead>\n",
       "    <tr style=\"text-align: right;\">\n",
       "      <th></th>\n",
       "      <th>${\\textbf{[bold]: GeV}}$</th>\n",
       "      <th>s_c</th>\n",
       "      <th>s_r</th>\n",
       "      <th>b_a</th>\n",
       "      <th>b_r</th>\n",
       "    </tr>\n",
       "  </thead>\n",
       "  <tbody>\n",
       "    <tr>\n",
       "      <th>cut0</th>\n",
       "      <td>${\\mathbf{P_T&gt;30}}$, $|\\eta(j)|&lt;5$</td>\n",
       "      <td>1</td>\n",
       "      <td>1</td>\n",
       "      <td>1</td>\n",
       "      <td>1</td>\n",
       "    </tr>\n",
       "    <tr>\n",
       "      <th>cut1</th>\n",
       "      <td>Number of jets $\\geq$ 2</td>\n",
       "      <td>0.783</td>\n",
       "      <td>0.783</td>\n",
       "      <td>0.781966</td>\n",
       "      <td>0.781966</td>\n",
       "    </tr>\n",
       "    <tr>\n",
       "      <th>cut2</th>\n",
       "      <td>$\\eta (j_1) * \\eta (j_2) &lt; 0$</td>\n",
       "      <td>0.34156</td>\n",
       "      <td>0.43622</td>\n",
       "      <td>0.326132</td>\n",
       "      <td>0.417067</td>\n",
       "    </tr>\n",
       "    <tr>\n",
       "      <th>cut3</th>\n",
       "      <td>$|\\Delta \\eta (j_1,j_2)| &gt; 4$</td>\n",
       "      <td>0.03112</td>\n",
       "      <td>0.0911114</td>\n",
       "      <td>0.0309348</td>\n",
       "      <td>0.0948535</td>\n",
       "    </tr>\n",
       "    <tr>\n",
       "      <th>cut4</th>\n",
       "      <td>$\\mathbf{M(j_1,j_2) &gt;}1000$</td>\n",
       "      <td>0.0069</td>\n",
       "      <td>0.221722</td>\n",
       "      <td>0.00951525</td>\n",
       "      <td>0.307591</td>\n",
       "    </tr>\n",
       "    <tr>\n",
       "      <th>cut5</th>\n",
       "      <td>$\\mathbf{MET &gt;}200$</td>\n",
       "      <td>0.00232</td>\n",
       "      <td>0.336232</td>\n",
       "      <td>0.00410422</td>\n",
       "      <td>0.43133</td>\n",
       "    </tr>\n",
       "    <tr>\n",
       "      <th>cut6</th>\n",
       "      <td>$\\mathbf{H_t &gt;}200$</td>\n",
       "      <td>0.00226</td>\n",
       "      <td>0.974138</td>\n",
       "      <td>0.00404296</td>\n",
       "      <td>0.985075</td>\n",
       "    </tr>\n",
       "    <tr>\n",
       "      <th>cut7</th>\n",
       "      <td>|$\\Delta\\phi(\\text{MET},j)| &gt; 0.5$</td>\n",
       "      <td>0.00054</td>\n",
       "      <td>0.238938</td>\n",
       "      <td>0.000857598</td>\n",
       "      <td>0.212121</td>\n",
       "    </tr>\n",
       "  </tbody>\n",
       "</table>\n",
       "</div>"
      ],
      "text/plain": [
       "                ${\\textbf{[bold]: GeV}}$      s_c        s_r          b_a  \\\n",
       "cut0  ${\\mathbf{P_T>30}}$, $|\\eta(j)|<5$        1          1            1   \n",
       "cut1             Number of jets $\\geq$ 2    0.783      0.783     0.781966   \n",
       "cut2       $\\eta (j_1) * \\eta (j_2) < 0$  0.34156    0.43622     0.326132   \n",
       "cut3       $|\\Delta \\eta (j_1,j_2)| > 4$  0.03112  0.0911114    0.0309348   \n",
       "cut4         $\\mathbf{M(j_1,j_2) >}1000$   0.0069   0.221722   0.00951525   \n",
       "cut5                 $\\mathbf{MET >}200$  0.00232   0.336232   0.00410422   \n",
       "cut6                 $\\mathbf{H_t >}200$  0.00226   0.974138   0.00404296   \n",
       "cut7  |$\\Delta\\phi(\\text{MET},j)| > 0.5$  0.00054   0.238938  0.000857598   \n",
       "\n",
       "            b_r  \n",
       "cut0          1  \n",
       "cut1   0.781966  \n",
       "cut2   0.417067  \n",
       "cut3  0.0948535  \n",
       "cut4   0.307591  \n",
       "cut5    0.43133  \n",
       "cut6   0.985075  \n",
       "cut7   0.212121  "
      ]
     },
     "execution_count": 26,
     "metadata": {},
     "output_type": "execute_result"
    }
   ],
   "source": [
    "t22"
   ]
  },
  {
   "cell_type": "code",
   "execution_count": null,
   "metadata": {},
   "outputs": [],
   "source": []
  }
 ],
 "metadata": {
  "kernelspec": {
   "display_name": "Python 2",
   "language": "python",
   "name": "python2"
  },
  "language_info": {
   "codemirror_mode": {
    "name": "ipython",
    "version": 2
   },
   "file_extension": ".py",
   "mimetype": "text/x-python",
   "name": "python",
   "nbconvert_exporter": "python",
   "pygments_lexer": "ipython2",
   "version": "2.7.17"
  }
 },
 "nbformat": 4,
 "nbformat_minor": 2
}
