{
 "cells": [
  {
   "cell_type": "code",
   "execution_count": null,
   "metadata": {
    "colab": {},
    "colab_type": "code",
    "id": "HcvUc818DpQP"
   },
   "outputs": [],
   "source": [
    "!pip3 install uproot\n",
    "!pip3 install mplhep"
   ]
  },
  {
   "cell_type": "code",
   "execution_count": null,
   "metadata": {
    "colab": {},
    "colab_type": "code",
    "id": "5N7IcvrJDrx0"
   },
   "outputs": [],
   "source": [
    "import uproot\n",
    "import awkward\n",
    "import mplhep as hep\n",
    "import numpy as np\n",
    "import pandas as pd\n",
    "import matplotlib.pyplot as plt\n",
    "import dask.dataframe as dd"
   ]
  },
  {
   "cell_type": "code",
   "execution_count": null,
   "metadata": {
    "colab": {},
    "colab_type": "code",
    "id": "o43aQUHsN2Jt"
   },
   "outputs": [],
   "source": [
    "def DeltaPhi(phi):\n",
    "  \"\"\"\n",
    "  phi: pandas series\n",
    "  \"\"\"\n",
    "  for i in range(len(phi)):\n",
    "    if phi[i] >= np.pi:\n",
    "      phi[i] -= 2*np.pi\n",
    "    elif phi[i] < -1*np.pi:\n",
    "      phi[i] += 2*np.pi \n",
    "\n",
    "  return phi  \n",
    "\n",
    "def permutations():\n",
    "\n",
    "  p = []\n",
    "  for i in range(1,7):\n",
    "    for j in range(1,7):\n",
    "      if i != j and (j,i) not in p:\n",
    "        p.append((i,j))\n",
    "\n",
    "  return p\n",
    "\n",
    "def invariant_mass(pt1, pt2, eta1, eta2, phi1, phi2):\n",
    "\n",
    "  return np.sqrt(2*pt1*pt2*(np.cosh(eta1 - eta2) - np.cos(phi1 - phi2)))\n",
    "\n",
    "def add_invariant_mass(df):\n",
    "\n",
    "  # invariant mass\n",
    "  df[\"inv_mass\"] = invariant_mass(df[\"jet_pt1\"],\n",
    "                                  df[\"jet_pt2\"],\n",
    "                                  df[\"jet_eta1\"],\n",
    "                                  df[\"jet_eta2\"],\n",
    "                                  df[\"jet_phi1\"],\n",
    "                                  df[\"jet_phi2\"])\n",
    "  \n",
    "  # max invariant mass\n",
    "  aux_df = pd.DataFrame(index=np.arange(len(df)))\n",
    "\n",
    "  for i,j in permutations():\n",
    "    aux_df[f\"{i,j}\"] =  invariant_mass(df[f\"jet_pt{i}\"],\n",
    "                                        df[f\"jet_pt{j}\"],\n",
    "                                        df[f\"jet_eta{i}\"],\n",
    "                                        df[f\"jet_eta{j}\"],\n",
    "                                        df[f\"jet_phi{i}\"],\n",
    "                                        df[f\"jet_phi{j}\"])\n",
    "    \n",
    "  df[\"max_inv_mass\"] = np.max(aux_df, axis=1)\n",
    "\n",
    "  return df\n",
    "\n",
    "def delta_phi_met_jet(df):\n",
    "\n",
    "  aux_df = pd.DataFrame(index=np.arange(len(df)))\n",
    "\n",
    "  for i in range(1,7):\n",
    "    phi = df[f\"jet_phi{i}\"] - df[\"missinget_phi\"]\n",
    "    aux_df[f\"{i}\"] = np.abs(DeltaPhi(phi))  \n",
    "    \n",
    "  df[\"min_delta_phi_met_jet\"] = aux_df.min(axis=1)\n",
    "\n",
    "  return df\n",
    "\n",
    "def CutFlow(sig_cut, bac_cut, n_cuts=8, ns=50000, nb=50000, L=25000, sigmab=72.38, sigmas=13.76):\n",
    "    \"\"\"\n",
    "    Returns the cut flow tables\n",
    "\n",
    "    sig_cut,bac_cut:  dictionaries with the signal \n",
    "                      and background cuts\n",
    "    cut_keys:         dictionary with the cuts keys\n",
    "    n_cuts:           number of available cuts \n",
    "    L:                integrated luminosity in pb^-1\n",
    "    \n",
    "    ns,nb:            number of signal and background events\n",
    "    \n",
    "    sigmas,sigmab:    cross sections for the signal and\n",
    "                      background events in pb\n",
    "\n",
    "    \"\"\"\n",
    "    deltaEta_cut_value = 0\n",
    "    invmass_cut_value = 1000\n",
    "    met_cut_value = 200\n",
    "    h_cut_value = 200\n",
    "    delta_phi_cut_value = 0.5\n",
    "\n",
    "    cut0 = \"No cuts\"\n",
    "    cut1 = f\"$\\mathbf{{H_t >}}{h_cut_value}$\"\n",
    "    cut2 = \"$n_jets \\geq 2$\"\n",
    "    cut3 = f\"$\\mathbf{{P_T>30}}$, $|\\eta(j)|<5$\"\n",
    "    cut4 = \"$\\eta (j_1) * \\eta (j_2) < 0$\"\n",
    "    cut5 = f\"$|\\Delta \\eta (j_1,j_2)| > {deltaEta_cut_value}$\"\n",
    "    cut6 = f\"$\\mathbf{{\\text{{max}}M(j_1,j_2) >}}{invmass_cut_value}$\"\n",
    "    cut7 = f\"|$\\Delta\\phi(\\text{{MET}},j)| > {delta_phi_cut_value}$\"\n",
    "\n",
    "    math_cuts = [cut0,\n",
    "                 cut1,\n",
    "                 cut2,\n",
    "                 cut3,\n",
    "                 cut4,\n",
    "                 cut5,\n",
    "                 cut6,\n",
    "                 cut7]\n",
    "\n",
    "    cut_keys = {f\"cut{i}\":key for i,key in zip(range(8), math_cuts)}\n",
    "    \n",
    "    # number of applied cuts\n",
    "    N_cuts = np.count_nonzero(list(s_cuts.values()))\n",
    "\n",
    "    # modified cut dics\n",
    "    s_cut = {key:value for key, value in zip(sig_cut.keys(), sig_cut.values()) if value !=0}\n",
    "    b_cut = {key:value for key, value in zip(bac_cut.keys(), bac_cut.values()) if value !=0}\n",
    "    c_keys = {f\"cut{i}\":cut_keys[f\"cut{i}\"] for i in range(N_cuts)}\n",
    "\n",
    "    # weights for signal and background events\n",
    "    ws = L*sigmas/ns\n",
    "    wb = L*sigmab/nb\n",
    "\n",
    "    # dataframes\n",
    "    s1 = pd.Series(s_cut, dtype=\"float64\") if N_cuts!=8 else pd.Series(sig_cut, dtype=\"float64\")\n",
    "    s2 = pd.Series(b_cut, dtype=\"float64\") if N_cuts!=8 else pd.Series(bac_cut, dtype=\"float64\")\n",
    "    s3 = pd.Series(c_keys) if N_cuts!=8 else pd.Series(cut_keys) \n",
    "\n",
    "    # cut flow tables\n",
    "    df1 = pd.concat([s3,s1,s2], axis=1, keys=[\"${\\textbf{[bold]: GeV}}$\",\"S\",\"B\"])\n",
    "    \n",
    "    df1[\"Z\"] = ws*df1[\"S\"]/np.sqrt(ws*df1[\"S\"]+wb*df1[\"B\"]) \n",
    "\n",
    "    df2 = pd.DataFrame(index=[f\"cut{i}\" for i in range(N_cuts)],\n",
    "                       columns=[\"${\\\\textbf{[bold]: GeV}}$\",\"s_c\",\"s_r\",\"b_a\",\"b_r\"])\n",
    "\n",
    "    for i in range(N_cuts):\n",
    "      df2.iloc[i,0] = cut_keys[f\"cut{i}\"]\n",
    "\n",
    "    for i in range(1,5):\n",
    "      df2.iloc[0,i] = 1\n",
    "\n",
    "    for i in range(1, N_cuts):\n",
    "      df2.iloc[i,1] = df1.iloc[i,1]/df1.iloc[0,1]\n",
    "      df2.iloc[i,3] = df1.iloc[i,2]/df1.iloc[0,2]\n",
    "      df2.iloc[i,2] = df1.iloc[i,1]/df1.iloc[i-1,1]\n",
    "      df2.iloc[i,4] = df1.iloc[i,2]/df1.iloc[i-1,2]\n",
    "\n",
    "    return df1, df2"
   ]
  },
  {
   "cell_type": "code",
   "execution_count": null,
   "metadata": {
    "colab": {},
    "colab_type": "code",
    "id": "JzpnjGQbneKD"
   },
   "outputs": [],
   "source": [
    "def df_lower_names(df):\n",
    "\n",
    "  df.columns = [name.lower().replace(\".\",\"_\") for name in df.columns]\n",
    "\n",
    "  return df\n",
    "\n",
    "def pad(jet):\n",
    "\n",
    "  for i in range(len(jet)):\n",
    "    while len(jet[i]) < 6:\n",
    "      jet[i] = np.hstack((jet[i], [None]))\n",
    "\n",
    "  return jet\n",
    "\n",
    "def read_jet_branch(data, branch_name):\n",
    "\n",
    "  return pad([jet[:6] for jet in data.array(branch_name)])\n",
    "\n",
    "def get_jet_dic(jet, name):\n",
    "\n",
    "  jets = {f\"{name}{i}\":[] for i in range(1,7)} \n",
    "\n",
    "  for jet in jet:\n",
    "    for i in range(6):\n",
    "      jets[f\"{name}{i+1}\"].append(jet[i])\n",
    "\n",
    "  return jets\n",
    "\n",
    "  {\"jet_pt1\":[], \"jet_pt2\":[]}\n",
    "\n",
    "def get_jet_series(jet_var, name):\n",
    "\n",
    "  keys = [name+f\"{i}\" for i in range(1,7)]\n",
    "  \n",
    "  return [pd.Series(jet_var[name], name=name) for name in keys]\n",
    "\n",
    "def get_jet_dataframe(data, *branch_names):\n",
    "\n",
    "  jet_keys = [key for key in branch_names if \"Jet\" in key]\n",
    "  jets = {key:read_jet_branch(data, key) for key in jet_keys}\n",
    "\n",
    "  names = [name for name in jets]\n",
    "\n",
    "  jet_columns = {name:get_jet_series(get_jet_dic(jets[name], name), name) for name in names}\n",
    "\n",
    "  df = pd.DataFrame(index=np.arange(len(jets[names[0]])))\n",
    "\n",
    "  for key in jet_columns.keys():\n",
    "    for i in range(6):\n",
    "      df = df.join(jet_columns[key][i])\n",
    "\n",
    "  # adding number of jets to dataframe\n",
    "  n_jets = [np.count_nonzero(jet) for jet in jets[jet_keys[0]]]\n",
    "  df[\"n_jets\"] = n_jets\n",
    "\n",
    "  return df_lower_names(df) \n",
    "\n",
    "def get_nonjet_dataframe(data, *branch_names):\n",
    "\n",
    "  df_keys = [key for key in branch_names if \"Jet\" not in key]\n",
    "  df = data.arrays(branches=[*df_keys], outputtype=pd.DataFrame).astype(\"float64\")\n",
    "\n",
    "  return df_lower_names(df)\n",
    "\n",
    "def get_dataframe(data, *branch_names):\n",
    "\n",
    "  # non-jet df\n",
    "  nonjet_df = get_nonjet_dataframe(data, *branch_names)\n",
    "\n",
    "  # jet df\n",
    "  jet_df = get_jet_dataframe(data, *branch_names)\n",
    "\n",
    "  # joining dataframes\n",
    "  df = nonjet_df.join(jet_df)\n",
    "\n",
    "  # adding H\n",
    "  jets_pt = [f\"jet_pt{i}\" for i in range(1,7)]\n",
    "  df[\"H\"] = df[jets_pt].sum(axis=1)\n",
    "\n",
    "  if \"Jet.Phi\" in branch_names:\n",
    "    pt1, pt2 = df[\"jet_pt1\"], df[\"jet_pt2\"] \n",
    "    eta1, eta2 = df[\"jet_eta1\"], df[\"jet_eta2\"]\n",
    "    phi1, phi2 = df[\"jet_phi1\"], df[\"jet_phi2\"]\n",
    "\n",
    "    # adding invariant mass \n",
    "    df = add_invariant_mass(df)  \n",
    "\n",
    "    # adding deltaPhi for leading jets\n",
    "    df[\"delta_phi\"] = np.abs(DeltaPhi(phi1 - phi2))\n",
    "\n",
    "    # adding min deltaPhi for met and jets\n",
    "    df = delta_phi_met_jet(df)\n",
    "\n",
    "  return df"
   ]
  },
  {
   "cell_type": "code",
   "execution_count": null,
   "metadata": {
    "colab": {},
    "colab_type": "code",
    "id": "uCWNFC9htZPa"
   },
   "outputs": [],
   "source": [
    "# Cuts\n",
    "\n",
    "def cut1(df, cuts):\n",
    "\n",
    "  # H > 200\n",
    "  mask = df.H > 200\n",
    "  df = df.loc[mask,:]\n",
    "  cuts[\"cut1\"] = len(df)\n",
    "\n",
    "  return df\n",
    "\n",
    "def cut2(df, cuts):\n",
    "\n",
    "  # at least two jets per event \n",
    "  mask = df.n_jets >=2\n",
    "  df = df.loc[mask,:]\n",
    "  cuts[\"cut2\"] = len(df)\n",
    "\n",
    "  return df\n",
    "\n",
    "def cut3(df, cuts):\n",
    "\n",
    "  # pt > 30 GeV and |eta| < 5 for leading and subleading jets  \n",
    "  mask = (df.jet_pt1 > 30) & (df.jet_pt2 > 30) & (abs(df.jet_eta1) < 5) & (abs(df.jet_eta2) < 5) \n",
    "  df = df.loc[mask,:]\n",
    "  cuts[\"cut3\"] = len(df)\n",
    "\n",
    "  return df\n",
    "\n",
    "def cut4(df, cuts):\n",
    "\n",
    "  # leading jets in opposite hemispheres\n",
    "  mask = df.jet_eta1 * df.jet_eta2 < 0\n",
    "  df = df.loc[mask,:]\n",
    "  cuts[\"cut4\"] = len(df)\n",
    "\n",
    "  return df\n",
    "\n",
    "def cut5(df, cuts):\n",
    "\n",
    "  # |DeltaPhi| >= 2.3 for leading jets\n",
    "  mask = abs(df.delta_phi) >= 2.3\n",
    "  df = df.loc[mask,:]\n",
    "  cuts[\"cut5\"] = len(df)\n",
    "\n",
    "  return df\n",
    "\n",
    "def cut6(df, cuts):\n",
    "\n",
    "  # max invariant mass >= 1000\n",
    "  mask = df.max_inv_mass >= 1000\n",
    "  df = df.loc[mask,:]\n",
    "  cuts[\"cut6\"] = len(df)\n",
    "\n",
    "  return df\n",
    "\n",
    "def cut7(df, cuts):\n",
    "\n",
    "  mask = df.min_delta_phi_met_jet > 0.5\n",
    "  df = df.loc[mask,:]\n",
    "  cuts[\"cut7\"] = len(df)\n",
    "\n",
    "  return df\n",
    "\n",
    "def Cuts(df, n_cuts=3):\n",
    "\n",
    "  cuts = {\"cut0\":len(df)}\n",
    "\n",
    "  while True:\n",
    "\n",
    "    df = cut1(df, cuts) \n",
    "    if n_cuts == 1: break\n",
    "    \n",
    "    df = cut2(df, cuts) \n",
    "    if n_cuts == 2: break\n",
    "\n",
    "    df = cut3(df, cuts) \n",
    "    if n_cuts == 3: break\n",
    "  \n",
    "    df = cut4(df, cuts)\n",
    "    if n_cuts == 4: break\n",
    "\n",
    "    df = cut5(df, cuts)\n",
    "    if n_cuts == 5: break  \n",
    "\n",
    "    df = cut6(df, cuts)\n",
    "    if n_cuts == 6: break\n",
    "\n",
    "    df = cut7(df, cuts)\n",
    "    if n_cuts == 7: break\n",
    "\n",
    "  return df, cuts"
   ]
  },
  {
   "cell_type": "markdown",
   "metadata": {
    "colab_type": "text",
    "id": "w0ogm38OOZQ4"
   },
   "source": [
    "## Reading the data"
   ]
  },
  {
   "cell_type": "code",
   "execution_count": null,
   "metadata": {
    "colab": {},
    "colab_type": "code",
    "id": "dnIpF3inEAdd"
   },
   "outputs": [],
   "source": [
    "signal_path = \"/content/drive/Shared drives/VBF_DM_UdeA/Samples/DMSimp_spin0/DMSimpSpin0_MY5000_MX1000_07042020.root\"\n",
    "back_path = \"/content/drive/Shared drives/VBF_DM_UdeA/Samples/ZjetstoNuNu/santiago_run_02.root\"\n",
    "\n",
    "signal = uproot.open(signal_path)[\"Delphes\"]\n",
    "background = uproot.open(back_path)[\"Delphes\"]"
   ]
  },
  {
   "cell_type": "code",
   "execution_count": null,
   "metadata": {
    "colab": {
     "base_uri": "https://localhost:8080/",
     "height": 34
    },
    "colab_type": "code",
    "id": "bQKP1M4wj1Rf",
    "outputId": "c0f37aac-2398-49a7-849e-8cdf195ab839"
   },
   "outputs": [],
   "source": [
    "ns = signal.numentries\n",
    "nb = background.numentries\n",
    "ns, nb  "
   ]
  },
  {
   "cell_type": "code",
   "execution_count": null,
   "metadata": {
    "colab": {
     "base_uri": "https://localhost:8080/",
     "height": 255
    },
    "colab_type": "code",
    "id": "sMShUAMom5Gt",
    "outputId": "9e737574-a17e-4ab1-fdc0-c0a87e756a52"
   },
   "outputs": [],
   "source": [
    "signal_df = get_dataframe(signal, \"Jet.PT\", \"MissingET.Phi\", \"MissingET.MET\", \"Jet.Eta\", \"MissingET.Eta\", \"Jet.Phi\")\n",
    "signal_df.head()"
   ]
  },
  {
   "cell_type": "code",
   "execution_count": null,
   "metadata": {
    "colab": {
     "base_uri": "https://localhost:8080/",
     "height": 255
    },
    "colab_type": "code",
    "id": "Kezzp_dNxCDl",
    "outputId": "1a2103c7-3681-48a6-b941-6c3b1cf8a868"
   },
   "outputs": [],
   "source": [
    "background_df = get_dataframe(background, \"Jet.PT\", \"MissingET.Phi\", \"MissingET.MET\", \"Jet.Eta\", \"MissingET.Eta\", \"Jet.Phi\")\n",
    "background_df.head()"
   ]
  },
  {
   "cell_type": "markdown",
   "metadata": {
    "colab_type": "text",
    "id": "KtnRxgFN3Pl7"
   },
   "source": [
    "## Applying cuts"
   ]
  },
  {
   "cell_type": "code",
   "execution_count": null,
   "metadata": {
    "colab": {},
    "colab_type": "code",
    "id": "VDR-uAljzZ9e"
   },
   "outputs": [],
   "source": [
    "s_df, s_cuts = Cuts(signal_df, n_cuts=7) "
   ]
  },
  {
   "cell_type": "code",
   "execution_count": null,
   "metadata": {
    "colab": {},
    "colab_type": "code",
    "id": "WQxbRCRQ0Eke"
   },
   "outputs": [],
   "source": [
    "b_df, b_cuts = Cuts(background_df, n_cuts=7)"
   ]
  },
  {
   "cell_type": "code",
   "execution_count": null,
   "metadata": {
    "colab": {},
    "colab_type": "code",
    "id": "jnxe9QG8to_P"
   },
   "outputs": [],
   "source": [
    "t1, t2 = CutFlow(s_cuts, b_cuts)"
   ]
  },
  {
   "cell_type": "code",
   "execution_count": null,
   "metadata": {
    "colab": {
     "base_uri": "https://localhost:8080/",
     "height": 297
    },
    "colab_type": "code",
    "id": "3LQS8vrgpn5T",
    "outputId": "6dc48874-0c2b-4a58-9253-e0ea2717a583"
   },
   "outputs": [],
   "source": [
    "t1"
   ]
  },
  {
   "cell_type": "code",
   "execution_count": null,
   "metadata": {
    "colab": {
     "base_uri": "https://localhost:8080/",
     "height": 297
    },
    "colab_type": "code",
    "id": "VgLPYa60TGk9",
    "outputId": "9feede6f-e0b9-47a8-a260-8d44c2344c4e"
   },
   "outputs": [],
   "source": [
    "t2"
   ]
  },
  {
   "cell_type": "code",
   "execution_count": null,
   "metadata": {
    "colab": {
     "base_uri": "https://localhost:8080/",
     "height": 417
    },
    "colab_type": "code",
    "id": "vFI0cpcZmtTl",
    "outputId": "3bc8be90-0d07-4e25-d029-39fd2ebf9b7c"
   },
   "outputs": [],
   "source": [
    "# set a CMS style \n",
    "plt.style.use(hep.style.CMS)\n",
    "\n",
    "fig, ax = plt.subplots(1, figsize=(9,6))\n",
    "\n",
    "#ax.hist(signal_df.met_met, histtype=\"step\" ,bins=100, label=\"s\", density=True)\n",
    "ax.hist(b_df.max_inv_mass, histtype=\"step\", bins=100, label=\"b\")#, density=True);\n",
    "ax.set_xlim(0,3000)\n",
    "\n",
    "# set the figure title with CMS style info\n",
    "hep.cms.label(data=False, paper=False, year='2020', ax=ax)\n",
    "# set the figure title with (CMS style) some text \n",
    "#hep.cms.text(\"Preliminary\")\n",
    "plt.legend();"
   ]
  }
 ],
 "metadata": {
  "colab": {
   "collapsed_sections": [],
   "name": "vbf_udea_uproot.ipynb",
   "provenance": []
  },
  "kernelspec": {
   "display_name": "Python 3",
   "language": "python",
   "name": "python3"
  },
  "language_info": {
   "codemirror_mode": {
    "name": "ipython",
    "version": 3
   },
   "file_extension": ".py",
   "mimetype": "text/x-python",
   "name": "python",
   "nbconvert_exporter": "python",
   "pygments_lexer": "ipython3",
   "version": "3.6.9"
  }
 },
 "nbformat": 4,
 "nbformat_minor": 1
}
