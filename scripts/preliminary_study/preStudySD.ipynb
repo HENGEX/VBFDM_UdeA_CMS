{
 "cells": [
  {
   "cell_type": "code",
   "execution_count": null,
   "metadata": {},
   "outputs": [],
   "source": [
    "import ROOT as root\n",
    "from ROOT import gROOT\n",
    "import numpy as np\n",
    "from math import pi\n",
    "from os import mkdir"
   ]
  },
  {
   "cell_type": "code",
   "execution_count": null,
   "metadata": {},
   "outputs": [],
   "source": [
    "#Import Delphes\n",
    "delphesPath = '/home/santiago/MG5_aMC_v2_6_5/Delphes'\n",
    "root.gSystem.AddDynamicPath(delphesPath)\n",
    "#root.gROOT.ProcessLine(\"#include <math.h>\")\n",
    "root.gSystem.Load(\"libDelphes\")\n",
    "\n",
    "#Images path\n",
    "# imgPath = \"./images/cut1_MET_inf_300/\"\n",
    "imgPath = \"./images/cut0_no_cut/\""
   ]
  },
  {
   "cell_type": "code",
   "execution_count": null,
   "metadata": {},
   "outputs": [],
   "source": [
    "try:\n",
    "    mkdir(imgPath)\n",
    "except OSError:\n",
    "    print (\"Creation of the directory %s failed\" % imgPath)\n",
    "else:\n",
    "    print (\"Successfully created the directory %s \" % imgPath)"
   ]
  },
  {
   "cell_type": "code",
   "execution_count": null,
   "metadata": {},
   "outputs": [],
   "source": [
    "#Maximum number of JETS\n",
    "nJets = 5\n",
    "\n",
    "#Minimum MET value\n",
    "minMET = 300"
   ]
  },
  {
   "cell_type": "code",
   "execution_count": null,
   "metadata": {},
   "outputs": [],
   "source": [
    "def absDeltaEta(eta1, eta2):\n",
    "    return abs(eta2-eta1)\n",
    "\n",
    "def deltaPhi(phi1,phi2):\n",
    "    PHI=phi1-phi2\n",
    "    if PHI >= pi:\n",
    "        PHI -= 2*pi\n",
    "    elif PHI < -1*pi:\n",
    "        PHI += 2*pi\n",
    "    return PHI\n",
    "\n",
    "def mass(jetBranch):\n",
    "    \"\"\"\n",
    "    @brief   Returns the invariant mass of the first two jets\n",
    "    \n",
    "    @warning Only use if the event has two or more jets\n",
    "    \"\"\"\n",
    "    jet1 = root.TLorentzVector()\n",
    "    jet2 = root.TLorentzVector()\n",
    "\n",
    "    pt1, pt2 = jetBranch.At(0).PT, jetBranch.At(1).PT\n",
    "    eta1, eta2 = jetBranch.At(0).Eta, jetBranch.At(1).Eta\n",
    "    phi1, phi2 = jetBranch.At(0).Phi, jetBranch.At(1).Phi\n",
    "    m1, m2 = jetBranch.At(0).Mass, jetBranch.At(1).Mass\n",
    "\n",
    "    jet1.SetPtEtaPhiE(pt1,eta1,phi1,m1)\n",
    "    jet1.SetPtEtaPhiE(pt2,eta2,phi2,m2)\n",
    "\n",
    "    jet12 = jet1 + jet2\n",
    "    jetMass = jet12.M()\n",
    "    return abs(jetMass)\n",
    "    \n",
    "\n",
    "def maxValueHist(h1, h2):\n",
    "    \"\"\"\n",
    "    Returns the maximum value of two histograms\n",
    "    \"\"\"\n",
    "    return max(h1.GetBinContent(h1.GetMaximumBin()),\n",
    "               h2.GetBinContent(h2.GetMaximumBin()))\n",
    "\n",
    "def plotHist(c,h1,h2=None):\n",
    "    \"\"\"\n",
    "    @brief Plot two histograms in the same canvas\n",
    "           nortmalized to one\n",
    "    @param c  Canvas\n",
    "    @param h1 Histogram 1\n",
    "    @param h2 Histogram 2\n",
    "    \"\"\"\n",
    "    c.Clear()\n",
    "    if h2 is not None:\n",
    "        h1.Scale(1/h1.Integral())\n",
    "        h2.Scale(1/h2.Integral())\n",
    "        h1.SetMaximum(maxValueHist(h1,h2)*1.1)    \n",
    "        h1.Draw()\n",
    "        h2.SetLineColor(3)\n",
    "        h2.Draw(\"SAME\")\n",
    "        label = root.TLegend(0,0,200,0.014)    \n",
    "        label.AddEntry(h1,\"Background\")\n",
    "        label.AddEntry(h2,\"Signal\")\n",
    "        label.Draw(\"SAME\")        \n",
    "    else:\n",
    "        h1.SetMaximum(maxValueHist(h1,h1)*1.1)    \n",
    "        h1.Draw()        \n",
    "    c.SaveAs(imgPath+h1.GetName()+'.png')\n",
    "        "
   ]
  },
  {
   "cell_type": "code",
   "execution_count": null,
   "metadata": {},
   "outputs": [],
   "source": [
    "try:\n",
    "  root.gInterpreter.Declare('#include \"classes/DelphesClasses.h\"')\n",
    "  root.gInterpreter.Declare('#include \"external/ExRootAnalysis/ExRootTreeReader.h\"')\n",
    "  print (\"Delphes classes imported\")\n",
    "except:\n",
    "  pass"
   ]
  },
  {
   "cell_type": "code",
   "execution_count": null,
   "metadata": {},
   "outputs": [],
   "source": [
    "treeName = 'Delphes'\n",
    "backgroundPath = './data/background/'\n",
    "# signalPath = './data/VBF_MDSimp_EWKExcluded/DMSimpSpin1_MY1000_MX100.root'\n",
    "signalPath = './data/VBF_MDSimp_EWKExcluded/daniel_run_05.root'\n",
    "\n",
    "\n",
    "#Declaration of TCanvas\n",
    "c1 = root.TCanvas(\"c1\")\n",
    "\n",
    "# Background \n",
    "dataChain = root.TChain(treeName)\n",
    "dataChain.Add(backgroundPath + \"*.root\")\n",
    "treeReader = root.ExRootTreeReader(dataChain)\n",
    "numOfEntries = treeReader.GetEntries()\n",
    "\n",
    "# Signal\n",
    "f = root.TFile(signalPath)\n",
    "sigTree = f.Get(treeName)\n",
    "sigTreeReader = root.ExRootTreeReader(sigTree)"
   ]
  },
  {
   "cell_type": "code",
   "execution_count": null,
   "metadata": {},
   "outputs": [],
   "source": [
    "# Selection of the branches\n",
    "bHTbranch = treeReader.UseBranch(\"ScalarHT\")\n",
    "bJetBranch = treeReader.UseBranch(\"Jet\")\n",
    "bMETBranch = treeReader.UseBranch(\"MissingET\")\n",
    "\n",
    "#Number of Bins\n",
    "nBins = int(np.sqrt(numOfEntries)) +1\n",
    "\n",
    "# Histograms\n",
    "bPtHist = []\n",
    "bEtaJetHist = []\n",
    "bDeltaPhiHist = []\n",
    "bDeltaEtaHist = []\n",
    "for i in range(nJets):\n",
    "    bPtHist.append(root.TH1F(\"Pt{0}Histo\".format(i),\"Pt_{0}\".format(i),1000,0,2000))\n",
    "    bEtaJetHist.append(root.TH1F(\"EtaJ{0}Histo\".format(i),\"Eta_[J_{0}]\".format(i),100,-5,5))\n",
    "    bDeltaPhiHist.append(root.TH1F(\"hb{0}DeltaPhi\".format(i), \"|\\Delta\\phi(j{0},MET)|\".format(i), 100, 0, 10))\n",
    "    bDeltaEtaHist.append(root.TH1F(\"hb{0}DeltaEta\".format(i), \"|\\Delta\\eta(j{0},MET)|\".format(i), 100, 0, 10))\n",
    "bHTHist = root.TH1F(\"bHTHist\",\"Signal HT\",200,0,1000)\n",
    "bRatioPtHist = root.TH1F(\"bRatioPtHist\",\"Pt_{J_{1}}/Pt_{J_{2}}\",nBins,0,20)\n",
    "bPhiMETHist = root.TH1F(\"bPhiMETHist\",\"Phi_{MET}\",100,-5,5)\n",
    "hBMass = root.TH1F(\"hBMass\", \"M(j1,j2)\", 150,0,1500)\n",
    "hBMetET = root.TH1F(\"hbMetET\", \"MET_ET\", 400,0.0, 2000)\n",
    "\n",
    "# Selection of the branches\n",
    "sHTBranch = sigTreeReader.UseBranch(\"ScalarHT\")\n",
    "sJetBranch = sigTreeReader.UseBranch(\"Jet\")\n",
    "sMETBranch = sigTreeReader.UseBranch(\"MissingET\")\n",
    "\n",
    "# Histograms\n",
    "nBins = int(np.sqrt(sigTreeReader.GetEntries())) +1\n",
    "\n",
    "sPtHist = []\n",
    "sEtaJetHist = []\n",
    "sDeltaPhiHist = []\n",
    "sDeltaEtaHist = []\n",
    "for i in range(nJets):\n",
    "    sPtHist.append(root.TH1F(\"sigPt{0}Histo\".format(i),\"Pt_{0}\".format(i),1000,0,2000))\n",
    "    sEtaJetHist.append(root.TH1F(\"sigEtaJ{0}Histo\".format(i),\"Eta_[J_{0}]\".format(i),100,-5,5))\n",
    "    sDeltaPhiHist.append(root.TH1F(\"hs{0}DeltaPhi\".format(i), \"|\\Delta\\phi(j{0},MET)|\".format(i), 100, 0, 10))\n",
    "    sDeltaEtaHist.append(root.TH1F(\"hs{0}DeltaEta\".format(i), \"|\\Delta\\eta(j{0},MET)|\".format(i), 100, 0, 10))\n",
    "sHTHist = root.TH1F(\"bHTHist\",\"HT\",200,0,1000)\n",
    "sRatioPtHist = root.TH1F(\"sRatioPtHist\",\"Pt_{J_{1}}/Pt_{J_{2}}\",nBins,0,20)\n",
    "sPhiMETHist = root.TH1F(\"sPhiMETHist\",\"Phi_{MET}\",100,-5,5)\n",
    "hSMass = root.TH1F(\"hSMass\", \"M(j1,j2)\", 150,0,1500)\n",
    "hSMetET = root.TH1F(\"hsMetET\", \"MET_ET\", 400, 0.0, 2000)\n"
   ]
  },
  {
   "cell_type": "code",
   "execution_count": null,
   "metadata": {},
   "outputs": [],
   "source": [
    "for entry in xrange(numOfEntries):\n",
    "    treeReader.ReadEntry(entry)\n",
    "    \n",
    "    #cuts\n",
    "    if (bJetBranch.GetEntries() < 2) or(bJetBranch.At(0).Eta*bJetBranch.At(1).Eta >= 0):\n",
    "        continue\n",
    "    if bMETBranch.At(0).MET < minMET: continue\n",
    "    \n",
    "    \n",
    "    if bHTbranch.GetEntries() > 0 :\n",
    "        bHTHist.Fill(bHTbranch.At(0).HT)\n",
    "    \n",
    "   \n",
    "    n =  nJets if bJetBranch.GetEntries()>5 else bJetBranch.GetEntries()\n",
    "    for i in range(n):\n",
    "        bPtHist[i].Fill(bJetBranch.At(i).PT)\n",
    "        bEtaJetHist[i].Fill(bJetBranch.At(i).Eta)\n",
    "        bDeltaEtaHist[i].Fill(absDeltaEta(bMETBranch.At(0).Eta, bJetBranch.At(i).Eta))\n",
    "        bDeltaPhiHist[i].Fill(deltaPhi(bMETBranch.At(0).Phi,bJetBranch.At(i).Phi))\n",
    "\n",
    "    bRatioPtHist.Fill(bJetBranch.At(0).PT / bJetBranch.At(1).PT)\n",
    "    hBMass.Fill(mass(bJetBranch))\n",
    "    \n",
    "    bPhiMETHist.Fill(bMETBranch.At(0).Phi)\n",
    "    hBMetET.Fill(bMETBranch.At(0).MET)"
   ]
  },
  {
   "cell_type": "code",
   "execution_count": null,
   "metadata": {},
   "outputs": [],
   "source": [
    "for entry in xrange(sigTreeReader.GetEntries()):\n",
    "    sigTreeReader.ReadEntry(entry)\n",
    "    \n",
    "    #cuts\n",
    "    if (sJetBranch.GetEntries() < 2) or (sJetBranch.At(0).Eta*sJetBranch.At(1).Eta >= 0):\n",
    "        continue\n",
    "    if sMETBranch.At(0).MET < minMET: continue\n",
    "    \n",
    "    if sHTBranch.GetEntries() > 0 :\n",
    "        sHTHist.Fill(sHTBranch.At(0).HT)\n",
    "        \n",
    "    n =  nJets if sJetBranch.GetEntries()>5 else sJetBranch.GetEntries()\n",
    "    for i in range(n):\n",
    "        sPtHist[i].Fill(sJetBranch.At(i).PT)\n",
    "        sEtaJetHist[i].Fill(sJetBranch.At(i).Eta)\n",
    "        sDeltaEtaHist[i].Fill(absDeltaEta(sMETBranch.At(0).Eta, sJetBranch.At(i).Eta))\n",
    "        sDeltaPhiHist[i].Fill(deltaPhi(sMETBranch.At(0).Phi, sJetBranch.At(i).Phi))\n",
    "\n",
    "    sRatioPtHist.Fill(sJetBranch.At(0).PT / sJetBranch.At(1).PT)\n",
    "    hSMass.Fill(mass(sJetBranch))\n",
    "    \n",
    "    sPhiMETHist.Fill(sMETBranch.At(0).Phi)\n",
    "    hSMetET.Fill(sMETBranch.At(0).MET)"
   ]
  },
  {
   "cell_type": "markdown",
   "metadata": {},
   "source": [
    "<H2>Gráficas</H2>\n",
    "<H3>HT</H3>"
   ]
  },
  {
   "cell_type": "code",
   "execution_count": null,
   "metadata": {},
   "outputs": [],
   "source": [
    "plotHist(c1,bHTHist,sHTHist)"
   ]
  },
  {
   "cell_type": "markdown",
   "metadata": {},
   "source": [
    "<H3>PT</H3>"
   ]
  },
  {
   "cell_type": "code",
   "execution_count": null,
   "metadata": {
    "scrolled": true
   },
   "outputs": [],
   "source": [
    "#for i in range(2):\n",
    "#    plotHist(c1,bPtHist[i],sPtHist[i])\n",
    "plotHist(c1,bPtHist[0],sPtHist[0])"
   ]
  },
  {
   "cell_type": "code",
   "execution_count": null,
   "metadata": {},
   "outputs": [],
   "source": [
    "plotHist(c1,bPtHist[1],sPtHist[1])"
   ]
  },
  {
   "cell_type": "markdown",
   "metadata": {},
   "source": [
    "<H3>Eta para los Jets 0 y 1</H3>"
   ]
  },
  {
   "cell_type": "code",
   "execution_count": null,
   "metadata": {},
   "outputs": [],
   "source": [
    "#for i in range(2):\n",
    "#    plotHist(c1,bEtaJetHist[i],sEtaJetHist[i])\n",
    "plotHist(c1,bEtaJetHist[0],sEtaJetHist[0])"
   ]
  },
  {
   "cell_type": "code",
   "execution_count": null,
   "metadata": {},
   "outputs": [],
   "source": [
    "plotHist(c1,bEtaJetHist[1],sEtaJetHist[1])"
   ]
  },
  {
   "cell_type": "markdown",
   "metadata": {},
   "source": [
    "<H3>PT(j1)/PT(j2)</H3>"
   ]
  },
  {
   "cell_type": "code",
   "execution_count": null,
   "metadata": {},
   "outputs": [],
   "source": [
    "plotHist(c1,bRatioPtHist, sRatioPtHist)"
   ]
  },
  {
   "cell_type": "markdown",
   "metadata": {},
   "source": [
    "<H3>Phi MET</H3>"
   ]
  },
  {
   "cell_type": "code",
   "execution_count": null,
   "metadata": {},
   "outputs": [],
   "source": [
    "plotHist(c1,bPhiMETHist,sPhiMETHist)"
   ]
  },
  {
   "cell_type": "markdown",
   "metadata": {},
   "source": [
    "<H3>Delta de Eta para los Jets</H3>"
   ]
  },
  {
   "cell_type": "code",
   "execution_count": null,
   "metadata": {},
   "outputs": [],
   "source": [
    "#for i in range(nJets):\n",
    "#    plotHist(c1,bDeltaEtaHist[i],sDeltaEtaHist[i])\n",
    "plotHist(c1,bDeltaEtaHist[0],sDeltaEtaHist[0])"
   ]
  },
  {
   "cell_type": "code",
   "execution_count": null,
   "metadata": {},
   "outputs": [],
   "source": [
    "plotHist(c1,bDeltaEtaHist[1],sDeltaEtaHist[1])"
   ]
  },
  {
   "cell_type": "code",
   "execution_count": null,
   "metadata": {},
   "outputs": [],
   "source": [
    "plotHist(c1,bDeltaEtaHist[2],sDeltaEtaHist[2])"
   ]
  },
  {
   "cell_type": "code",
   "execution_count": null,
   "metadata": {},
   "outputs": [],
   "source": [
    "plotHist(c1,bDeltaEtaHist[3],sDeltaEtaHist[3])"
   ]
  },
  {
   "cell_type": "code",
   "execution_count": null,
   "metadata": {},
   "outputs": [],
   "source": [
    "plotHist(c1,bDeltaEtaHist[4],sDeltaEtaHist[4])"
   ]
  },
  {
   "cell_type": "markdown",
   "metadata": {},
   "source": [
    "<H3>Delta de phi para los Jets</H3>"
   ]
  },
  {
   "cell_type": "code",
   "execution_count": null,
   "metadata": {
    "scrolled": true
   },
   "outputs": [],
   "source": [
    "#for i in range(nJets):\n",
    "#    plotHist(c1,bDeltaPhiHist[i],sDeltaPhiHist[i])\n",
    "plotHist(c1,bDeltaPhiHist[0],sDeltaPhiHist[0])"
   ]
  },
  {
   "cell_type": "code",
   "execution_count": null,
   "metadata": {},
   "outputs": [],
   "source": [
    "plotHist(c1,bDeltaPhiHist[1],sDeltaPhiHist[1])"
   ]
  },
  {
   "cell_type": "code",
   "execution_count": null,
   "metadata": {},
   "outputs": [],
   "source": [
    "plotHist(c1,bDeltaPhiHist[2],sDeltaPhiHist[2])"
   ]
  },
  {
   "cell_type": "code",
   "execution_count": null,
   "metadata": {},
   "outputs": [],
   "source": [
    "plotHist(c1,bDeltaPhiHist[3],sDeltaPhiHist[3])"
   ]
  },
  {
   "cell_type": "code",
   "execution_count": null,
   "metadata": {},
   "outputs": [],
   "source": [
    "plotHist(c1,bDeltaPhiHist[4],sDeltaPhiHist[4])"
   ]
  },
  {
   "cell_type": "markdown",
   "metadata": {},
   "source": [
    "<H3>Masa invariante</H3>"
   ]
  },
  {
   "cell_type": "code",
   "execution_count": null,
   "metadata": {},
   "outputs": [],
   "source": [
    "plotHist(c1,hBMass,hSMass)"
   ]
  },
  {
   "cell_type": "markdown",
   "metadata": {},
   "source": [
    "<H3>MET</H3>"
   ]
  },
  {
   "cell_type": "code",
   "execution_count": null,
   "metadata": {},
   "outputs": [],
   "source": [
    "plotHist(c1,hBMetET,hSMetET)"
   ]
  },
  {
   "cell_type": "markdown",
   "metadata": {},
   "source": [
    "<H3>Cálculo de la significancia</H3>"
   ]
  },
  {
   "cell_type": "code",
   "execution_count": null,
   "metadata": {},
   "outputs": [],
   "source": [
    "bH = hBMetET\n",
    "sH = hSMetET\n",
    "zHist = bH.Clone(\"z_{MET}\")\n",
    "# bH = hBMass\n",
    "# sH = hSMass\n",
    "# zHist = bH.Clone(\"z_{m(J_{0},J_{1})}\")\n",
    "# bH = bPtHist[1]\n",
    "# sH = sPtHist[1]\n",
    "# zHist = bH.Clone(\"z_{Pt_{1}}\")\n",
    "\n",
    "\n",
    "L= (0.001)**(-1)\n",
    "sigmaB = 72.38\n",
    "sigmaS = 13.76\n",
    "\n",
    "bH.Scale((L*sigmaB / numOfEntries))\n",
    "sH.Scale((L*sigmaS / sigTreeReader.GetEntries()))\n",
    "\n",
    "for i in range(zHist.GetNbinsX()):\n",
    "    s = sH.Integral(i+1,zHist.GetNbinsX())\n",
    "    b = bH.Integral(i+1,zHist.GetNbinsX())\n",
    "    if s+b != 0:        \n",
    "        zHist.SetBinContent(i+1, s/np.sqrt(s+b))\n",
    "    else:\n",
    "        zHist.SetBinContent(i+1, 0)\n",
    "    zHist.SetBinError(i+1,0)\n",
    "    \n",
    "plotHist(c1,zHist)"
   ]
  }
 ],
 "metadata": {
  "kernelspec": {
   "display_name": "Python 2",
   "language": "python",
   "name": "python2"
  },
  "language_info": {
   "codemirror_mode": {
    "name": "ipython",
    "version": 2
   },
   "file_extension": ".py",
   "mimetype": "text/x-python",
   "name": "python",
   "nbconvert_exporter": "python",
   "pygments_lexer": "ipython2",
   "version": "2.7.15+"
  }
 },
 "nbformat": 4,
 "nbformat_minor": 2
}
