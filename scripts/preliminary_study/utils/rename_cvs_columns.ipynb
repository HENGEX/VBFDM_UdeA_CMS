{
 "cells": [
  {
   "cell_type": "markdown",
   "metadata": {},
   "source": [
    "This notebook changes the columns names of the cvs generated with the notebook \"insert_name_here\"(I don't remeber the name :P ) to suit them with the names used for the vbfdm.py script"
   ]
  },
  {
   "cell_type": "code",
   "execution_count": 2,
   "metadata": {},
   "outputs": [],
   "source": [
    "import pandas as pd"
   ]
  },
  {
   "cell_type": "code",
   "execution_count": 3,
   "metadata": {},
   "outputs": [],
   "source": [
    "csv_path = \"../data/csv/raw_data.csv\"\n",
    "csv_new_path = \"../data/csv/raw_dat_renamed.csv\"\n",
    "df = pd.read_csv(csv_path)\n",
    "col = df.columns"
   ]
  },
  {
   "cell_type": "code",
   "execution_count": 4,
   "metadata": {},
   "outputs": [
    {
     "name": "stdout",
     "output_type": "stream",
     "text": [
      "Unnamed: 0\n",
      "MissingET.MET\n",
      "MissingET.Phi\n",
      "MissingET.Eta\n",
      "Jet.PT[0]\n",
      "Jet.PT[1]\n",
      "Jet.PT[2]\n",
      "Jet.PT[3]\n",
      "Jet.Eta[0]\n",
      "Jet.Eta[1]\n",
      "Jet.Eta[2]\n",
      "Jet.Eta[3]\n",
      "Jet.Phi[0]\n",
      "Jet.Phi[1]\n",
      "Jet.Phi[2]\n",
      "Jet.Phi[3]\n",
      "Jet.Mass[0]\n",
      "Jet.Mass[1]\n",
      "Jet.Mass[2]\n",
      "Jet.Mass[3]\n"
     ]
    }
   ],
   "source": [
    "new_names = []\n",
    "to_drop = [] #columns to errase\n",
    "for c in col:    \n",
    "    if \"jet_pt\" in c:\n",
    "        new_names.append(c.replace(\"jet_pt\",\"Jet.PT[\"))\n",
    "        new_names[-1] = new_names[-1] + \"]\"\n",
    "    elif \"jet_eta\" in c:\n",
    "        new_names.append(c.replace(\"jet_eta\",\"Jet.Eta[\"))\n",
    "        new_names[-1] = new_names[-1] + \"]\"\n",
    "    elif \"jet_phi\" in c:\n",
    "        new_names.append(c.replace(\"jet_phi\",\"Jet.Phi[\"))\n",
    "        new_names[-1] = new_names[-1] + \"]\"\n",
    "    elif \"jet_mass\" in c:\n",
    "        new_names.append(c.replace(\"jet_mass\",\"Jet.Mass[\"))\n",
    "        new_names[-1] = new_names[-1] + \"]\"\n",
    "    elif \"missinget_met\" in c:\n",
    "        new_names.append(c.replace(\"missinget_met\",\"MissingET.MET\"))\n",
    "    elif \"missinget_phi\" in c:\n",
    "        new_names.append(c.replace(\"missinget_phi\",\"MissingET.Phi\"))\n",
    "    elif \"missinget_eta\" in c:\n",
    "        new_names.append(c.replace(\"missinget_eta\",\"MissingET.Eta\"))\n",
    "    else:\n",
    "        new_names.append(c)\n",
    "        to_drop.append(c)\n",
    "        \n",
    "for c in new_names:\n",
    "    print(c)"
   ]
  },
  {
   "cell_type": "code",
   "execution_count": 5,
   "metadata": {},
   "outputs": [],
   "source": [
    "df.columns = new_names;\n",
    "\n",
    "# errase some columns\n",
    "df = df.drop(columns=to_drop)\n",
    "\n",
    "df.to_csv(csv_new_path)"
   ]
  },
  {
   "cell_type": "code",
   "execution_count": 6,
   "metadata": {},
   "outputs": [
    {
     "ename": "NameError",
     "evalue": "name 'np' is not defined",
     "output_type": "error",
     "traceback": [
      "\u001b[0;31m---------------------------------------------------------------------------\u001b[0m",
      "\u001b[0;31mNameError\u001b[0m                                 Traceback (most recent call last)",
      "\u001b[0;32m<ipython-input-6-e1dc5dd5432a>\u001b[0m in \u001b[0;36m<module>\u001b[0;34m\u001b[0m\n\u001b[0;32m----> 1\u001b[0;31m \u001b[0mdf\u001b[0m\u001b[0;34m[\u001b[0m\u001b[0;34m[\u001b[0m\u001b[0;34m\"t2,t3\"\u001b[0m\u001b[0;34m]\u001b[0m\u001b[0;34m]\u001b[0m \u001b[0;34m=\u001b[0m \u001b[0mnp\u001b[0m\u001b[0;34m.\u001b[0m\u001b[0mnan\u001b[0m\u001b[0;34m\u001b[0m\u001b[0;34m\u001b[0m\u001b[0m\n\u001b[0m",
      "\u001b[0;31mNameError\u001b[0m: name 'np' is not defined"
     ]
    }
   ],
   "source": [
    "df[[\"t2,t3\"]] = np.nan"
   ]
  }
 ],
 "metadata": {
  "kernelspec": {
   "display_name": "Python 3",
   "language": "python",
   "name": "python3"
  },
  "language_info": {
   "codemirror_mode": {
    "name": "ipython",
    "version": 3
   },
   "file_extension": ".py",
   "mimetype": "text/x-python",
   "name": "python",
   "nbconvert_exporter": "python",
   "pygments_lexer": "ipython3",
   "version": "3.6.9"
  }
 },
 "nbformat": 4,
 "nbformat_minor": 2
}
