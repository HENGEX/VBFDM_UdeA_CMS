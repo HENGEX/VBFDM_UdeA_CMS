{
 "cells": [
  {
   "cell_type": "code",
   "execution_count": 1,
   "metadata": {},
   "outputs": [
    {
     "name": "stdout",
     "output_type": "stream",
     "text": [
      "Welcome to JupyROOT 6.15/01\n",
      "#include \"/home/santiago/MG5_aMC_v2_6_5/Delphes/classes/DelphesClasses.h\"\n",
      "#include \"/home/santiago/MG5_aMC_v2_6_5/ExRootAnalysis/ExRootTreeReader.h\"\n",
      "Delphes classes imported\n"
     ]
    }
   ],
   "source": [
    "import os\n",
    "from numpy import sqrt\n",
    "from pyroot_module import *\n"
   ]
  },
  {
   "cell_type": "markdown",
   "metadata": {},
   "source": [
    "### Setting PATH and loading libraries for Delphes and ExRootAnalysis "
   ]
  },
  {
   "cell_type": "code",
   "execution_count": 2,
   "metadata": {},
   "outputs": [],
   "source": [
    "#path of folder to save the images\n",
    "imgPath = './images/spin0/28-05-2020/cut_2_maxMass_1000/'"
   ]
  },
  {
   "cell_type": "markdown",
   "metadata": {},
   "source": [
    "### Reading trees and selecting branches"
   ]
  },
  {
   "cell_type": "code",
   "execution_count": 3,
   "metadata": {},
   "outputs": [
    {
     "name": "stderr",
     "output_type": "stream",
     "text": [
      "\u001b[1mExRootAnalysisDict dictionary payload:16:10: \u001b[0m\u001b[0;1;31mfatal error: \u001b[0m\u001b[1m'ExRootAnalysis/ExRootTreeReader.h' file not found\u001b[0m\n",
      "#include \"ExRootAnalysis/ExRootTreeReader.h\"\n",
      "\u001b[0;1;32m         ^~~~~~~~~~~~~~~~~~~~~~~~~~~~~~~~~~~\n",
      "\u001b[0mError in <TInterpreter::AutoParse>: Error parsing payload code for class ExRootTreeReader with content:\n",
      "\n",
      "#line 1 \"ExRootAnalysisDict dictionary payload\"\n",
      "\n",
      "#ifndef G__VECTOR_HAS_CLASS_ITERATOR\n",
      "  #define G__VECTOR_HAS_CLASS_ITERATOR 1\n",
      "#endif\n",
      "\n",
      "#define _BACKWARD_BACKWARD_WARNING_H\n",
      "\n",
      "/** \\class ExRootAnalysisLinkDef\n",
      " *\n",
      " *  Lists classes to be included in cint dicitonary\n",
      " *\n",
      " *  \\author P. Demin - UCL, Louvain-la-Neuve\n",
      " *\n",
      " */\n",
      "\n",
      "#include \"ExRootAnalysis/ExRootTreeReader.h\"\n",
      "#include \"ExRootAnalysis/ExRootTreeWriter.h\"\n",
      "#include \"ExRootAnalysis/ExRootTreeBranch.h\"\n",
      "#include \"ExRootAnalysis/ExRootResult.h\"\n",
      "#include \"ExRootAnalysis/ExRootUtilities.h\"\n",
      "#include \"ExRootAnalysis/ExRootClassifier.h\"\n",
      "#include \"ExRootAnalysis/ExRootFilter.h\"\n",
      "\n",
      "#include \"ExRootAnalysis/ExRootProgressBar.h\"\n",
      "#include \"ExRootAnalysis/ExRootConfReader.h\"\n",
      "#include \"ExRootAnalysis/ExRootTask.h\"\n",
      "\n",
      "#ifdef __CINT__\n",
      "\n",
      "#pragma link off all globals;\n",
      "#pragma link off all classes;\n",
      "#pragma link off all functions;\n",
      "\n",
      "#pragma link C++ class ExRootTreeReader+;\n",
      "#pragma link C++ class ExRootTreeBranch+;\n",
      "#pragma link C++ class ExRootTreeWriter+;\n",
      "#pragma link C++ class ExRootResult+;\n",
      "#pragma link C++ class ExRootClassifier+;\n",
      "#pragma link C++ class ExRootFilter+;\n",
      "\n",
      "#pragma link C++ class ExRootProgressBar+;\n",
      "#pragma link C++ class ExRootConfReader+;\n",
      "#pragma link C++ class ExRootConfParam+;\n",
      "#pragma link C++ class ExRootTask+;\n",
      "\n",
      "#pragma link C++ function HistStyle;\n",
      "#pragma link C++ function FillChain;\n",
      "\n",
      "#endif\n",
      "\n",
      "\n",
      "#undef  _BACKWARD_BACKWARD_WARNING_H\n",
      "\n",
      "\u001b[1mExRootAnalysisDict dictionary payload:19:10: \u001b[0m\u001b[0;1;31mfatal error: \u001b[0m\u001b[1m'ExRootAnalysis/ExRootClasses.h' file not found\u001b[0m\n",
      "#include \"ExRootAnalysis/ExRootClasses.h\"\n",
      "\u001b[0;1;32m         ^~~~~~~~~~~~~~~~~~~~~~~~~~~~~~~~\n",
      "\u001b[0mError in <TInterpreter::AutoParse>: Error parsing payload code for class ExRootTreeReader with content:\n",
      "\n",
      "#line 1 \"ExRootAnalysisDict dictionary payload\"\n",
      "\n",
      "#ifndef G__VECTOR_HAS_CLASS_ITERATOR\n",
      "  #define G__VECTOR_HAS_CLASS_ITERATOR 1\n",
      "#endif\n",
      "\n",
      "#define _BACKWARD_BACKWARD_WARNING_H\n",
      "/** \\class ExRootAnalysisLinkDef\n",
      " *\n",
      " *  Lists classes to be included in cint dicitonary\n",
      " *\n",
      " *  $Date: 2006/12/19 19:18:46 $\n",
      " *  $Revision: 1.5 $\n",
      " *\n",
      " *  \n",
      " *  \\author P. Demin - UCL, Louvain-la-Neuve\n",
      " *\n",
      " */\n",
      "\n",
      "#include \"ExRootAnalysis/ExRootClasses.h\"\n",
      "#include \"ExRootAnalysis/ExRootTreeReader.h\"\n",
      "#include \"ExRootAnalysis/ExRootTreeWriter.h\"\n",
      "#include \"ExRootAnalysis/ExRootTreeBranch.h\"\n",
      "#include \"ExRootAnalysis/ExRootResult.h\"\n",
      "#include \"ExRootAnalysis/ExRootUtilities.h\"\n",
      "#include \"ExRootAnalysis/ExRootClassifier.h\"\n",
      "#include \"ExRootAnalysis/ExRootFilter.h\"\n",
      "\n",
      "#include \"ExRootAnalysis/ExRootFactory.h\"\n",
      "\n",
      "#ifdef __CINT__\n",
      "\n",
      "#pragma link off all globals;\n",
      "#pragma link off all classes;\n",
      "#pragma link off all functions;\n",
      "\n",
      "#pragma link C++ class TSortableObject+;\n",
      "#pragma link C++ class TRootWeight;\n",
      "#pragma link C++ class TRootLHEFEvent+;\n",
      "#pragma link C++ class TRootLHEFParticle+;\n",
      "#pragma link C++ class TRootGenEvent+;\n",
      "#pragma link C++ class TRootGenParticle+;\n",
      "#pragma link C++ class TRootGenJet+;\n",
      "#pragma link C++ class TRootEvent+;\n",
      "#pragma link C++ class TRootMissingET+;\n",
      "#pragma link C++ class TRootPhoton+;\n",
      "#pragma link C++ class TRootElectron+;\n",
      "#pragma link C++ class TRootMuon+;\n",
      "#pragma link C++ class TRootTau+;\n",
      "#pragma link C++ class TRootJet+;\n",
      "\n",
      "#pragma link C++ class ExRootTreeReader+;\n",
      "#pragma link C++ class ExRootTreeBranch+;\n",
      "#pragma link C++ class ExRootTreeWriter+;\n",
      "#pragma link C++ class ExRootResult+;\n",
      "#pragma link C++ class ExRootClassifier+;\n",
      "#pragma link C++ class ExRootFilter+;\n",
      "\n",
      "#pragma link C++ class ExRootFactory+;\n",
      "\n",
      "#pragma link C++ function HistStyle;\n",
      "#pragma link C++ function FillChain;\n",
      "\n",
      "#endif\n",
      "\n",
      "\n",
      "#undef  _BACKWARD_BACKWARD_WARNING_H\n",
      "\n"
     ]
    }
   ],
   "source": [
    "# getting signal and background trees\n",
    "# signal\n",
    "backgroundPath = './data/background/'\n",
    "signalPath = '/home/santiago/VBF_DMSimp_spin0_EWKExcluded/Events/run_20/'\n",
    "\n",
    "fs = [] #Signal files\n",
    "imgFold = [] #Images forlders\n",
    "for f in os.listdir(signalPath):\n",
    "    if os.path.isfile(signalPath + f) and '.root' in f:\n",
    "        fs.append(ROOT.TFile(signalPath + f))\n",
    "    \n",
    "        #create folder to save images\n",
    "        imgFold.append((imgPath+f).replace('.root',''))\n",
    "        if not os.path.exists(imgFold[-1]):\n",
    "            os.makedirs(imgFold[-1])\n",
    "    \n",
    "        \n",
    "#Signal trees\n",
    "s = [f.Get(\"Delphes\") for f in fs]\n",
    "\n",
    "# background\n",
    "b = ROOT.TChain(\"Delphes\")\n",
    "b.Add(backgroundPath + \"santiago_run_02.root\") #no\n",
    "b.Add(backgroundPath + \"santiago_run_05.root\") #no\n",
    "b.Add(backgroundPath + \"santiago_run_07.root\") #no\n",
    "\n",
    "# number of signal and background events \n",
    "nb = int(b.GetEntries())\n",
    "ns = [int(k.GetEntries()) for k in s]\n",
    "\n",
    "# number of bins to book histograms\n",
    "nbBins = int(sqrt(nb))+1\n",
    "nsBins = [int(sqrt(n))+1 for n in ns] \n",
    "\n",
    "# reading trees and selecting branches\n",
    "treeB = ROOT.ExRootTreeReader(b)\n",
    "treeS = [ROOT.ExRootTreeReader(t) for t in s]\n",
    "\n",
    "jetB = treeB.UseBranch(\"Jet\")\n",
    "jetS = [tree.UseBranch(\"Jet\") for tree in treeS]\n",
    "\n",
    "metB = treeB.UseBranch(\"MissingET\")\n",
    "metS = [tree.UseBranch(\"MissingET\") for tree in treeS]\n",
    "\n",
    "# number of jets to use\n",
    "numJets = 5"
   ]
  },
  {
   "cell_type": "markdown",
   "metadata": {},
   "source": [
    "### Book histograms"
   ]
  },
  {
   "cell_type": "code",
   "execution_count": 4,
   "metadata": {},
   "outputs": [],
   "source": [
    "#---------------------------\n",
    "#           signal\n",
    "#---------------------------\n",
    "hsDeltaEtaJet = [ROOT.TH1F(\"hsDeltaEtaJet_{0}\".format(j), \"Delta_Eta_Jet12_{0}\".format(j), 50,0,10)\n",
    "                for j in range(len(s))]\n",
    "\n",
    "#Delta Eta for the two jets with highest invariant mass\n",
    "hsDeltaEtaMaxIM = [ROOT.TH1F(\"hsDeltaEtaM_{0}\".format(j), \"Delta_Eta_M_{0}\".format(j), 50,0,10) \n",
    "                   for j in range(len(s))]\n",
    "hsMass = [ROOT.TH1F(\"hSMass_{0}\".format(j), \"M(j1,j2)_{0}\".format(j), 65,0,4000)\n",
    "         for j in range(len(s))]\n",
    "\n",
    "# Highest invariant mass between to jets\n",
    "hsMassMax = [ROOT.TH1F(\"hsMjj_{0}\".format(j), \"Max_M_{0}\".format(j), 65,0,4000)\n",
    "            for j in range(len(s))]\n",
    "\n",
    "hsDeltaPhi = [ROOT.TH1F(\"hsDeltaPhi_{0}\".format(j), \"delta_Phi_{0}\".format(j), 50, -1, 4)\n",
    "              for j in range(len(s))]\n",
    "\n",
    "# Delta phi for the two jets with highest invariant mass\n",
    "hsDeltaPhiMax = [ROOT.TH1F(\"hsDeltaPhiMax_{0}\".format(j), \"Max_delta_phi_{0}\".format(j), 50, -1, 4)\n",
    "                 for j in range(len(s))]\n",
    "\n",
    "hsDeltaPhiMetJet = [[ROOT.TH1F(\"hsDelPhiMet_j{0}_{1}\".format(i,j),\"dMetJ{0}_{1}\".format(i,j), 50, -1, 4) \n",
    "                     for i in range(numJets)] \n",
    "                    for j in range(len(s))]\n",
    "\n",
    "hsMetET = [ROOT.TH1F(\"hsMetET_{0}\".format(j), \"MET_ET_{0}\".format(j), 50, 0.0, 2000)\n",
    "           for j in range(len(s))]\n",
    "\n",
    "#---------------------------\n",
    "#        background\n",
    "#---------------------------\n",
    "hbDeltaEtaJet = ROOT.TH1F(\"hbDeltaEtaJet\", \"Delta_Eta_Jet12\", 50,0,10)\n",
    "hbDeltaEtaMaxIM = ROOT.TH1F(\"hbDeltaEtaMaxIM\", \"Delta_Eta_MaxIM\", 50,0,10)\n",
    "hbMass = ROOT.TH1F(\"hbMass\", \"M(j1,j2)\", 65,0,4000)\n",
    "hbMassMax = ROOT.TH1F(\"hbMjj\", \"Max_M\", 65,0,4000)\n",
    "hbDeltaPhi = ROOT.TH1F(\"hbDeltaPhi\", \"delta_Phi\", 50, -1, 4)\n",
    "hbDeltaPhiMax = ROOT.TH1F(\"hbDeltaPhiMax\", \"Max_delta_phi\", 50, -1, 4)\n",
    "hbDeltaPhiMetJet = [ROOT.TH1F(\"hbDelPhiMet_j{0}\".format(i),\"dMetJ{0}\".format(i), 50, -1, 4) \n",
    "                    for i in range(numJets)]\n",
    "hbMetET = ROOT.TH1F(\"hbMetET\", \"MET_ET\", 50, 0.0, 2000)"
   ]
  },
  {
   "cell_type": "markdown",
   "metadata": {},
   "source": [
    "### Selecting events and filling histograms"
   ]
  },
  {
   "cell_type": "code",
   "execution_count": 5,
   "metadata": {
    "colab": {},
    "colab_type": "code",
    "id": "IQ1802ETjZdG",
    "outputId": "565ab388-5787-4b8e-ce0f-2c2e083df788"
   },
   "outputs": [
    {
     "name": "stdout",
     "output_type": "stream",
     "text": [
      "0\n"
     ]
    },
    {
     "name": "stderr",
     "output_type": "stream",
     "text": [
      "In file included from ClassesDict dictionary payload:34:\n",
      "\u001b[1m/home/santiago/MG5_aMC_v2_6_5/Delphes/classes/DelphesModule.h:30:10: \u001b[0m\u001b[0;1;31mfatal error: \u001b[0m\u001b[1m'ExRootAnalysis/ExRootTask.h' file not found\u001b[0m\n",
      "#include \"ExRootAnalysis/ExRootTask.h\"\n",
      "\u001b[0;1;32m         ^~~~~~~~~~~~~~~~~~~~~~~~~~~~~\n",
      "\u001b[0mError in <TInterpreter::AutoParse>: Error parsing payload code for class Jet with content:\n",
      "\n",
      "#line 1 \"ClassesDict dictionary payload\"\n",
      "\n",
      "#ifndef G__VECTOR_HAS_CLASS_ITERATOR\n",
      "  #define G__VECTOR_HAS_CLASS_ITERATOR 1\n",
      "#endif\n",
      "\n",
      "#define _BACKWARD_BACKWARD_WARNING_H\n",
      "/*\n",
      " *  Delphes: a framework for fast simulation of a generic collider experiment\n",
      " *  Copyright (C) 2012-2014  Universite catholique de Louvain (UCL), Belgium\n",
      " *\n",
      " *  This program is free software: you can redistribute it and/or modify\n",
      " *  it under the terms of the GNU General Public License as published by\n",
      " *  the Free Software Foundation, either version 3 of the License, or\n",
      " *  (at your option) any later version.\n",
      " *\n",
      " *  This program is distributed in the hope that it will be useful,\n",
      " *  but WITHOUT ANY WARRANTY; without even the implied warranty of\n",
      " *  MERCHANTABILITY or FITNESS FOR A PARTICULAR PURPOSE.  See the\n",
      " *  GNU General Public License for more details.\n",
      " *\n",
      " *  You should have received a copy of the GNU General Public License\n",
      " *  along with this program.  If not, see <http://www.gnu.org/licenses/>.\n",
      " */\n",
      "\n",
      "\n",
      "/** ExRootAnalysisLinkDef\n",
      " *\n",
      " *  Lists classes to be included in cint dicitonary\n",
      " *\n",
      " *  \\author P. Demin - UCL, Louvain-la-Neuve\n",
      " *\n",
      " */\n",
      "\n",
      "#include \"classes/DelphesModule.h\"\n",
      "#include \"classes/DelphesFactory.h\"\n",
      "\n",
      "#include \"classes/SortableObject.h\"\n",
      "#include \"classes/DelphesClasses.h\"\n",
      "\n",
      "#ifdef __CINT__\n",
      "\n",
      "#pragma link off all globals;\n",
      "#pragma link off all classes;\n",
      "#pragma link off all functions;\n",
      "\n",
      "#pragma link C++ class DelphesModule+;\n",
      "#pragma link C++ class DelphesFactory+;\n",
      "\n",
      "#pragma link C++ class SortableObject+;\n",
      "\n",
      "#pragma link C++ class Event+;\n",
      "#pragma link C++ class LHCOEvent+;\n",
      "#pragma link C++ class LHEFEvent+;\n",
      "#pragma link C++ class LHEFWeight+;\n",
      "#pragma link C++ class HepMCEvent+;\n",
      "#pragma link C++ class GenParticle+;\n",
      "#pragma link C++ class Vertex+;\n",
      "#pragma link C++ class MissingET+;\n",
      "#pragma link C++ class ScalarHT+;\n",
      "#pragma link C++ class Rho+;\n",
      "#pragma link C++ class Weight+;\n",
      "#pragma link C++ class Photon+;\n",
      "#pragma link C++ class Electron+;\n",
      "#pragma link C++ class Muon+;\n",
      "#pragma link C++ class Jet+;\n",
      "#pragma link C++ class Track+;\n",
      "#pragma link C++ class Tower+;\n",
      "#pragma link C++ class HectorHit+;\n",
      "\n",
      "#pragma link C++ class Candidate+;\n",
      "\n",
      "#endif\n",
      "\n",
      "\n",
      "#undef  _BACKWARD_BACKWARD_WARNING_H\n",
      "\n",
      "In file included from ClassesDict dictionary payload:34:\n",
      "\u001b[1m/home/santiago/MG5_aMC_v2_6_5/Delphes/classes/DelphesModule.h:30:10: \u001b[0m\u001b[0;1;31mfatal error: \u001b[0m\u001b[1m'ExRootAnalysis/ExRootTask.h' file not found\u001b[0m\n",
      "#include \"ExRootAnalysis/ExRootTask.h\"\n",
      "\u001b[0;1;32m         ^~~~~~~~~~~~~~~~~~~~~~~~~~~~~\n",
      "\u001b[0mError in <TInterpreter::AutoParse>: Error parsing payload code for class SortableObject with content:\n",
      "\n",
      "#line 1 \"ClassesDict dictionary payload\"\n",
      "\n",
      "#ifndef G__VECTOR_HAS_CLASS_ITERATOR\n",
      "  #define G__VECTOR_HAS_CLASS_ITERATOR 1\n",
      "#endif\n",
      "\n",
      "#define _BACKWARD_BACKWARD_WARNING_H\n",
      "/*\n",
      " *  Delphes: a framework for fast simulation of a generic collider experiment\n",
      " *  Copyright (C) 2012-2014  Universite catholique de Louvain (UCL), Belgium\n",
      " *\n",
      " *  This program is free software: you can redistribute it and/or modify\n",
      " *  it under the terms of the GNU General Public License as published by\n",
      " *  the Free Software Foundation, either version 3 of the License, or\n",
      " *  (at your option) any later version.\n",
      " *\n",
      " *  This program is distributed in the hope that it will be useful,\n",
      " *  but WITHOUT ANY WARRANTY; without even the implied warranty of\n",
      " *  MERCHANTABILITY or FITNESS FOR A PARTICULAR PURPOSE.  See the\n",
      " *  GNU General Public License for more details.\n",
      " *\n",
      " *  You should have received a copy of the GNU General Public License\n",
      " *  along with this program.  If not, see <http://www.gnu.org/licenses/>.\n",
      " */\n",
      "\n",
      "\n",
      "/** ExRootAnalysisLinkDef\n",
      " *\n",
      " *  Lists classes to be included in cint dicitonary\n",
      " *\n",
      " *  \\author P. Demin - UCL, Louvain-la-Neuve\n",
      " *\n",
      " */\n",
      "\n",
      "#include \"classes/DelphesModule.h\"\n",
      "#include \"classes/DelphesFactory.h\"\n",
      "\n",
      "#include \"classes/SortableObject.h\"\n",
      "#include \"classes/DelphesClasses.h\"\n",
      "\n",
      "#ifdef __CINT__\n",
      "\n",
      "#pragma link off all globals;\n",
      "#pragma link off all classes;\n",
      "#pragma link off all functions;\n",
      "\n",
      "#pragma link C++ class DelphesModule+;\n",
      "#pragma link C++ class DelphesFactory+;\n",
      "\n",
      "#pragma link C++ class SortableObject+;\n",
      "\n",
      "#pragma link C++ class Event+;\n",
      "#pragma link C++ class LHCOEvent+;\n",
      "#pragma link C++ class LHEFEvent+;\n",
      "#pragma link C++ class LHEFWeight+;\n",
      "#pragma link C++ class HepMCEvent+;\n",
      "#pragma link C++ class GenParticle+;\n",
      "#pragma link C++ class Vertex+;\n",
      "#pragma link C++ class MissingET+;\n",
      "#pragma link C++ class ScalarHT+;\n",
      "#pragma link C++ class Rho+;\n",
      "#pragma link C++ class Weight+;\n",
      "#pragma link C++ class Photon+;\n",
      "#pragma link C++ class Electron+;\n",
      "#pragma link C++ class Muon+;\n",
      "#pragma link C++ class Jet+;\n",
      "#pragma link C++ class Track+;\n",
      "#pragma link C++ class Tower+;\n",
      "#pragma link C++ class HectorHit+;\n",
      "\n",
      "#pragma link C++ class Candidate+;\n",
      "\n",
      "#endif\n",
      "\n",
      "\n",
      "#undef  _BACKWARD_BACKWARD_WARNING_H\n",
      "\n",
      "In file included from ClassesDict dictionary payload:34:\n",
      "\u001b[1m/home/santiago/MG5_aMC_v2_6_5/Delphes/classes/DelphesModule.h:30:10: \u001b[0m\u001b[0;1;31mfatal error: \u001b[0m\u001b[1m'ExRootAnalysis/ExRootTask.h' file not found\u001b[0m\n",
      "#include \"ExRootAnalysis/ExRootTask.h\"\n",
      "\u001b[0;1;32m         ^~~~~~~~~~~~~~~~~~~~~~~~~~~~~\n",
      "\u001b[0mError in <TInterpreter::AutoParse>: Error parsing payload code for class MissingET with content:\n",
      "\n",
      "#line 1 \"ClassesDict dictionary payload\"\n",
      "\n",
      "#ifndef G__VECTOR_HAS_CLASS_ITERATOR\n",
      "  #define G__VECTOR_HAS_CLASS_ITERATOR 1\n",
      "#endif\n",
      "\n",
      "#define _BACKWARD_BACKWARD_WARNING_H\n",
      "/*\n",
      " *  Delphes: a framework for fast simulation of a generic collider experiment\n",
      " *  Copyright (C) 2012-2014  Universite catholique de Louvain (UCL), Belgium\n",
      " *\n",
      " *  This program is free software: you can redistribute it and/or modify\n",
      " *  it under the terms of the GNU General Public License as published by\n",
      " *  the Free Software Foundation, either version 3 of the License, or\n",
      " *  (at your option) any later version.\n",
      " *\n",
      " *  This program is distributed in the hope that it will be useful,\n",
      " *  but WITHOUT ANY WARRANTY; without even the implied warranty of\n",
      " *  MERCHANTABILITY or FITNESS FOR A PARTICULAR PURPOSE.  See the\n",
      " *  GNU General Public License for more details.\n",
      " *\n",
      " *  You should have received a copy of the GNU General Public License\n",
      " *  along with this program.  If not, see <http://www.gnu.org/licenses/>.\n",
      " */\n",
      "\n",
      "\n",
      "/** ExRootAnalysisLinkDef\n",
      " *\n",
      " *  Lists classes to be included in cint dicitonary\n",
      " *\n",
      " *  \\author P. Demin - UCL, Louvain-la-Neuve\n",
      " *\n",
      " */\n",
      "\n",
      "#include \"classes/DelphesModule.h\"\n",
      "#include \"classes/DelphesFactory.h\"\n",
      "\n",
      "#include \"classes/SortableObject.h\"\n",
      "#include \"classes/DelphesClasses.h\"\n",
      "\n",
      "#ifdef __CINT__\n",
      "\n",
      "#pragma link off all globals;\n",
      "#pragma link off all classes;\n",
      "#pragma link off all functions;\n",
      "\n",
      "#pragma link C++ class DelphesModule+;\n",
      "#pragma link C++ class DelphesFactory+;\n",
      "\n",
      "#pragma link C++ class SortableObject+;\n",
      "\n",
      "#pragma link C++ class Event+;\n",
      "#pragma link C++ class LHCOEvent+;\n",
      "#pragma link C++ class LHEFEvent+;\n",
      "#pragma link C++ class LHEFWeight+;\n",
      "#pragma link C++ class HepMCEvent+;\n",
      "#pragma link C++ class GenParticle+;\n",
      "#pragma link C++ class Vertex+;\n",
      "#pragma link C++ class MissingET+;\n",
      "#pragma link C++ class ScalarHT+;\n",
      "#pragma link C++ class Rho+;\n",
      "#pragma link C++ class Weight+;\n",
      "#pragma link C++ class Photon+;\n",
      "#pragma link C++ class Electron+;\n",
      "#pragma link C++ class Muon+;\n",
      "#pragma link C++ class Jet+;\n",
      "#pragma link C++ class Track+;\n",
      "#pragma link C++ class Tower+;\n",
      "#pragma link C++ class HectorHit+;\n",
      "\n",
      "#pragma link C++ class Candidate+;\n",
      "\n",
      "#endif\n",
      "\n",
      "\n",
      "#undef  _BACKWARD_BACKWARD_WARNING_H\n",
      "\n"
     ]
    }
   ],
   "source": [
    "# Loop over all signal events\n",
    "for k in range(len(ns)):\n",
    "    print(k)\n",
    "    for event in range(ns[k]):\n",
    "        #Load selected branches with data from specified event\n",
    "        treeS[k].ReadEntry(event)\n",
    "\n",
    "        # cuts\n",
    "    #     # select events with MET > 200 GeV\n",
    "    #     if metS.At(0).MET < 200: continue\n",
    "        # select events with at least 2 jets\n",
    "        if jetS[k].GetEntries() < 2: continue\n",
    "        \n",
    "    #     # select events with jets in opposite hemispheres \n",
    "        if (jetS[k].At(0).Eta * jetS[k].At(1).Eta) >= 0: continue\n",
    "    #     # select events with jet1 and jet2 PT > 60\n",
    "    #     if jetS[k].At(0).PT < 30: continue\n",
    "    #     if jetS[k].At(1).PT < 30: continue\n",
    "#         if InvariantMass(jetS[k],0,1) < 500: continue\n",
    "            \n",
    "        if abs(DeltaPhi(jetS[k].At(0).Phi,jetS[k].At(1).Phi)) < 2.3: continue\n",
    "    #     if abs(jetS[k].At(0).Eta-jetS[k].At(1).Eta) <= 4.2: continue\n",
    "    #     if abs(jetS[k].At(0).Eta) >= 5: continue\n",
    "    #     if abs(jetS[k].At(1).Eta) >= 5: continue\n",
    "    #     if Hs.At(0).HT <= 200 : continue\n",
    "        i = 0\n",
    "        j = 0\n",
    "        JsMass = 0\n",
    "        NJets = jetS[k].GetEntries() if jetS[k].GetEntries() <= numJets else numJets\n",
    "        dPhiMetJet = []\n",
    "        for n in range(NJets):\n",
    "            # selecting the two jet system \n",
    "            # with the largest invariant mass\n",
    "            dPhiMetJet.append(abs(DeltaPhi(metS[k].At(0).Phi,jetS[k].At(n).Phi)))            \n",
    "            for m in range(NJets):\n",
    "                if n==m:continue\n",
    "                a = InvariantMass(jetS[k],n,m) \n",
    "                if a > JsMass:\n",
    "                    i,j = m,n\n",
    "                    JsMass = a\n",
    "                              \n",
    "        # Cut for maximum invariant mass\n",
    "        if JsMass < 1000 : continue\n",
    "                              \n",
    "        for n in range(NJets):\n",
    "            hsDeltaPhiMetJet[k][n].Fill(dPhiMetJet[n])                              \n",
    "        hsDeltaEtaJet[k].Fill(abs(jetS[k].At(0).Eta-jetS[k].At(1).Eta))\n",
    "        hsDeltaEtaMaxIM[k].Fill(abs(jetS[k].At(i).Eta-jetS[k].At(j).Eta))\n",
    "        hsMass[k].Fill(InvariantMass(jetS[k],0,1))\n",
    "        hsMassMax[k].Fill(JsMass)\n",
    "        hsDeltaPhi[k].Fill(abs(DeltaPhi(jetS[k].At(0).Phi,jetS[k].At(1).Phi)))\n",
    "        hsDeltaPhiMax[k].Fill(abs(DeltaPhi(jetS[k].At(i).Phi,jetS[k].At(j).Phi)))\n",
    "        hsMetET[k].Fill(metS[k].At(0).MET)"
   ]
  },
  {
   "cell_type": "code",
   "execution_count": 6,
   "metadata": {},
   "outputs": [],
   "source": [
    "# Loop over all background events \n",
    "for event in range(nb):\n",
    "    # load selected branches with data from specified event\n",
    "    treeB.ReadEntry(event)\n",
    "    \n",
    "    # cuts\n",
    "#     # select events with MET > 200 GeV\n",
    "#     if metB.At(0).MET < 200: continue\n",
    "    # select events with at least 2 jets\n",
    "    if jetB.GetEntries() < 2: continue\n",
    "    \n",
    "    # select events with jets in opposite hemispheres \n",
    "    if (jetB.At(0).Eta * jetB.At(1).Eta) >= 0: continue\n",
    "#     # select events with jet1 and jet2 PT > 60\n",
    "#     if jetB.At(0).PT <= 30: continue\n",
    "#     if jetB.At(1).PT <= 30: continue\n",
    "#     if InvariantMass(jetB,0,1) <= 500: continue\n",
    "    if abs(DeltaPhi(jetB.At(0).Phi,jetB.At(1).Phi)) < 2.3: continue\n",
    "#     if abs(jetB.At(0).Eta-jetB.At(1).Eta) <= 4.2: continue\n",
    "#     if abs(jetB.At(0).Eta) >= 5: continue\n",
    "#     if abs(jetB.At(1).Eta) >= 5: continue\n",
    "#     if Hb.At(0).HT <= 200 : continue\n",
    "    i = 0\n",
    "    j = 0\n",
    "    JbMass = 0\n",
    "    NJets = jetB.GetEntries() if jetB.GetEntries() <= numJets else numJets\n",
    "    dPhiMetJet = []\n",
    "    for n in range(NJets):\n",
    "        # selecting the two jet system \n",
    "        # with the largest invariant mass\n",
    "        dPhiMetJet.append(abs(DeltaPhi(metB.At(0).Phi,jetB.At(n).Phi)))\n",
    "        for m in range(NJets):\n",
    "            if n==m:continue\n",
    "            a = InvariantMass(jetB,n,m) \n",
    "            if a > JbMass:\n",
    "                i,j = m,n\n",
    "                JbMass = a\n",
    "      \n",
    "    # Cut for maximum invariant mass\n",
    "    if JbMass < 1000 : continue\n",
    "                \n",
    "    for n in range(NJets):         \n",
    "        hbDeltaPhiMetJet[n].Fill(dPhiMetJet[n])        \n",
    "    hbDeltaEtaJet.Fill(abs(jetB.At(0).Eta-jetB.At(1).Eta))\n",
    "    hbDeltaEtaMaxIM.Fill((abs(jetB.At(i).Eta-jetB.At(j).Eta)))\n",
    "    hbMass.Fill(InvariantMass(jetB,0,1))\n",
    "    hbMassMax.Fill(JbMass)\n",
    "    hbDeltaPhi.Fill(abs(DeltaPhi(jetB.At(0).Phi,jetB.At(1).Phi)))\n",
    "    hbDeltaPhiMax.Fill(abs(DeltaPhi(jetB.At(i).Phi,jetB.At(j).Phi)))\n",
    "    hbMetET.Fill(metB.At(0).MET)"
   ]
  },
  {
   "cell_type": "markdown",
   "metadata": {},
   "source": [
    "## Delta_Eta"
   ]
  },
  {
   "cell_type": "code",
   "execution_count": 7,
   "metadata": {},
   "outputs": [
    {
     "name": "stderr",
     "output_type": "stream",
     "text": [
      "Info in <TCanvas::Print>: png file ./images/spin0/28-05-2020/cut_2_maxMass_1000/DMSimpSpin0_MY100_MX10_14052020/hsDeltaEtaJet_0.png has been created\n",
      "Info in <TCanvas::Print>: png file ./images/spin0/28-05-2020/cut_2_maxMass_1000/DMSimpSpin0_MY100_MX10_14052020/hbDeltaEtaJetsignificance.png has been created\n"
     ]
    },
    {
     "data": {
      "image/png": "[encoded data removed]",
      "text/plain": [
       "<IPython.core.display.Image object>"
      ]
     },
     "metadata": {},
     "output_type": "display_data"
    },
    {
     "data": {
      "image/png": "[encoded data removed]",
      "text/plain": [
       "<IPython.core.display.Image object>"
      ]
     },
     "metadata": {},
     "output_type": "display_data"
    }
   ],
   "source": [
    "fList = open(imgPath + \"fileList.txt\",\"w+\")\n",
    "k=0\n",
    "for f in os.listdir(signalPath):\n",
    "    if os.path.isfile(signalPath + f) and '.root' in f:\n",
    "        fList.write('%d\\t%s\\r\\n'%(k,f))\n",
    "        k+=1\n",
    "fList.close()\n",
    "\n",
    "for k in range(len(hsDeltaEtaJet)):\n",
    "    HzsDEta = hsDeltaEtaJet[k].Clone()\n",
    "    HzbDEta = hbDeltaEtaJet.Clone()\n",
    "#     Histos(HzsDEta,HzbDEta, imgFold[k] + '/deltaEta_j12.png')\n",
    "    PlotHistos(HzsDEta,HzbDEta,save=True,savePath=imgFold[k])\n",
    "#     Hz = Sig(HzsDEta, HzbDEta, ns=ns[k], nb=nb)\n",
    "#     Histo(Hz,imgFold[k] + '/z_DeltaEta_j1_j2.png')\n",
    "    Hz = Significance(HzsDEta, HzbDEta, ns=ns[k], nb=nb)\n",
    "    PlotHisto(Hz,save=True,savePath=imgFold[k])"
   ]
  },
  {
   "cell_type": "markdown",
   "metadata": {},
   "source": [
    "### Delta Eta maximum invariant mass jet"
   ]
  },
  {
   "cell_type": "code",
   "execution_count": 8,
   "metadata": {
    "scrolled": true
   },
   "outputs": [
    {
     "name": "stderr",
     "output_type": "stream",
     "text": [
      "Info in <TCanvas::Print>: png file ./images/spin0/28-05-2020/cut_2_maxMass_1000/DMSimpSpin0_MY100_MX10_14052020/hsDeltaEtaM_0.png has been created\n",
      "Info in <TCanvas::Print>: png file ./images/spin0/28-05-2020/cut_2_maxMass_1000/DMSimpSpin0_MY100_MX10_14052020/hbDeltaEtaMaxIMsignificance.png has been created\n"
     ]
    },
    {
     "data": {
      "image/png": "[encoded data removed]",
      "text/plain": [
       "<IPython.core.display.Image object>"
      ]
     },
     "metadata": {},
     "output_type": "display_data"
    },
    {
     "data": {
      "image/png": "[encoded data removed]",
      "text/plain": [
       "<IPython.core.display.Image object>"
      ]
     },
     "metadata": {},
     "output_type": "display_data"
    }
   ],
   "source": [
    "for k in range(len(hsDeltaEtaJet)):\n",
    "    HzsMass = hsDeltaEtaMaxIM[k].Clone()\n",
    "    HzbMass = hbDeltaEtaMaxIM.Clone()\n",
    "#     Histos(HzsMass,HzbMass, imgFold[k] + '/deltaEta_MaxIM.png')\n",
    "#     Hz = Sig(HzsMass, HzbMass, ns=ns[k], nb=nb)\n",
    "#     Histo(Hz,imgFold[k] + '/z_DeltaEta_maxMassInv.png')\n",
    "    PlotHistos(HzsMass,HzbMass,save=True,savePath=imgFold[k])\n",
    "    Hz = Significance(HzsMass, HzbMass, ns=ns[k], nb=nb)\n",
    "    PlotHisto(Hz,save=True,savePath=imgFold[k])"
   ]
  },
  {
   "cell_type": "markdown",
   "metadata": {},
   "source": [
    "## Invariant Mass"
   ]
  },
  {
   "cell_type": "code",
   "execution_count": 9,
   "metadata": {},
   "outputs": [
    {
     "name": "stderr",
     "output_type": "stream",
     "text": [
      "Info in <TCanvas::Print>: png file ./images/spin0/28-05-2020/cut_2_maxMass_1000/DMSimpSpin0_MY100_MX10_14052020/hSMass_0.png has been created\n",
      "Info in <TCanvas::Print>: png file ./images/spin0/28-05-2020/cut_2_maxMass_1000/DMSimpSpin0_MY100_MX10_14052020/hbMasssignificance.png has been created\n"
     ]
    },
    {
     "data": {
      "image/png": "[encoded data removed]",
      "text/plain": [
       "<IPython.core.display.Image object>"
      ]
     },
     "metadata": {},
     "output_type": "display_data"
    },
    {
     "data": {
      "image/png": "[encoded data removed]",
      "text/plain": [
       "<IPython.core.display.Image object>"
      ]
     },
     "metadata": {},
     "output_type": "display_data"
    }
   ],
   "source": [
    "for k in range(len(hsDeltaEtaJet)):\n",
    "    HsMass = hsMass[k].Clone()\n",
    "    HbMass = hbMass.Clone()\n",
    "#     Histos(HsMass,HbMass, imgFold[k] + '/m_j1_j2.png')\n",
    "#     HzM = Sig(HsMass, HbMass, ns=ns[k], nb=nb)\n",
    "#     Histo(HzM,imgFold[k] + '/z_m_j1_j2.png')\n",
    "    PlotHistos(HsMass,HbMass, save=True,savePath=imgFold[k])\n",
    "    HzM = Significance(HsMass, HbMass, ns=ns[k], nb=nb)\n",
    "    PlotHisto(HzM,save=True,savePath=imgFold[k])"
   ]
  },
  {
   "cell_type": "markdown",
   "metadata": {},
   "source": [
    "### Maximum invariant mass"
   ]
  },
  {
   "cell_type": "code",
   "execution_count": 10,
   "metadata": {},
   "outputs": [
    {
     "name": "stderr",
     "output_type": "stream",
     "text": [
      "Info in <TCanvas::Print>: png file ./images/spin0/28-05-2020/cut_2_maxMass_1000/DMSimpSpin0_MY100_MX10_14052020/hsMjj_0.png has been created\n",
      "Info in <TCanvas::Print>: png file ./images/spin0/28-05-2020/cut_2_maxMass_1000/DMSimpSpin0_MY100_MX10_14052020/hbMjjsignificance.png has been created\n"
     ]
    },
    {
     "data": {
      "image/png": "[encoded data removed]",
      "text/plain": [
       "<IPython.core.display.Image object>"
      ]
     },
     "metadata": {},
     "output_type": "display_data"
    },
    {
     "data": {
      "image/png": "[encoded data removed]",
      "text/plain": [
       "<IPython.core.display.Image object>"
      ]
     },
     "metadata": {},
     "output_type": "display_data"
    }
   ],
   "source": [
    "for k in range(len(hsDeltaEtaJet)):\n",
    "    HsMass = hsMassMax[k].Clone()\n",
    "    HbMass = hbMassMax.Clone()\n",
    "#     Histos(HsMass,HbMass, imgFold[k] + '/m_max.png')\n",
    "#     HzM = Sig(HsMass, HbMass, ns=ns[k], nb=nb)\n",
    "#     Histo(HzM,imgFold[k] + '/z_m_maxMassInv.png')\n",
    "    PlotHistos(HsMass,HbMass,save=True,savePath=imgFold[k])\n",
    "    HzM = Significance(HsMass, HbMass, ns=ns[k], nb=nb)\n",
    "    PlotHisto(HzM,save=True,savePath=imgFold[k])"
   ]
  },
  {
   "cell_type": "markdown",
   "metadata": {},
   "source": [
    "### Delta Phi"
   ]
  },
  {
   "cell_type": "code",
   "execution_count": 11,
   "metadata": {},
   "outputs": [
    {
     "name": "stderr",
     "output_type": "stream",
     "text": [
      "Info in <TCanvas::Print>: png file ./images/spin0/28-05-2020/cut_2_maxMass_1000/DMSimpSpin0_MY100_MX10_14052020/hsDeltaPhi_0.png has been created\n",
      "Info in <TCanvas::Print>: png file ./images/spin0/28-05-2020/cut_2_maxMass_1000/DMSimpSpin0_MY100_MX10_14052020/hbDeltaPhisignificance.png has been created\n"
     ]
    },
    {
     "data": {
      "image/png": "[encoded data removed]",
      "text/plain": [
       "<IPython.core.display.Image object>"
      ]
     },
     "metadata": {},
     "output_type": "display_data"
    },
    {
     "data": {
      "image/png": "[encoded data removed]",
      "text/plain": [
       "<IPython.core.display.Image object>"
      ]
     },
     "metadata": {},
     "output_type": "display_data"
    }
   ],
   "source": [
    "for k in range(len(hsDeltaEtaJet)):\n",
    "    HzsPhi = hsDeltaPhi[k].Clone()\n",
    "    HzbPhi = hbDeltaPhi.Clone()\n",
    "#     Histos(HzsPhi,HzbPhi, imgFold[k] + '/deltaPhi(j1,j2).png')\n",
    "    PlotHistos(HzsPhi,HzbPhi, save=True,savePath=imgFold[k])\n",
    "    Hz = Significance(HzsPhi, HzbPhi, ns=ns[k], nb=nb)\n",
    "    PlotHisto(Hz,save=True,savePath=imgFold[k])"
   ]
  },
  {
   "cell_type": "markdown",
   "metadata": {},
   "source": [
    "### Delta Phi maximum invariant mass for two jets"
   ]
  },
  {
   "cell_type": "code",
   "execution_count": 12,
   "metadata": {},
   "outputs": [
    {
     "name": "stderr",
     "output_type": "stream",
     "text": [
      "Info in <TCanvas::Print>: png file ./images/spin0/28-05-2020/cut_2_maxMass_1000/DMSimpSpin0_MY100_MX10_14052020/hsDeltaPhiMax_0.png has been created\n",
      "Info in <TCanvas::Print>: png file ./images/spin0/28-05-2020/cut_2_maxMass_1000/DMSimpSpin0_MY100_MX10_14052020/hbDeltaPhiMaxsignificance.png has been created\n"
     ]
    },
    {
     "data": {
      "image/png": "[encoded data removed]",
      "text/plain": [
       "<IPython.core.display.Image object>"
      ]
     },
     "metadata": {},
     "output_type": "display_data"
    },
    {
     "data": {
      "image/png": "[encoded data removed]",
      "text/plain": [
       "<IPython.core.display.Image object>"
      ]
     },
     "metadata": {},
     "output_type": "display_data"
    }
   ],
   "source": [
    "for k in range(len(hsDeltaEtaJet)):\n",
    "    HzsPhi = hsDeltaPhiMax[k].Clone()\n",
    "    HzbPhi = hbDeltaPhiMax.Clone()\n",
    "#     Histos(HzsPhi,HzbPhi, imgFold[k] + '/deltaPhi__max.png')\n",
    "    PlotHistos(HzsPhi,HzbPhi, save=True,savePath=imgFold[k])\n",
    "    \n",
    "    Hz = Significance(HzsPhi, HzbPhi, ns=ns[k], nb=nb)\n",
    "    PlotHisto(Hz,save=True,savePath=imgFold[k])"
   ]
  },
  {
   "cell_type": "markdown",
   "metadata": {},
   "source": [
    "### DeltaPhi(Met,Jet)"
   ]
  },
  {
   "cell_type": "code",
   "execution_count": 13,
   "metadata": {
    "scrolled": true
   },
   "outputs": [
    {
     "name": "stderr",
     "output_type": "stream",
     "text": [
      "Info in <TCanvas::Print>: png file ./images/spin0/28-05-2020/cut_2_maxMass_1000/DMSimpSpin0_MY100_MX10_14052020/hsDelPhiMet_j0_0.png has been created\n",
      "Info in <TCanvas::Print>: png file ./images/spin0/28-05-2020/cut_2_maxMass_1000/DMSimpSpin0_MY100_MX10_14052020/hbDelPhiMet_j0significance.png has been created\n",
      "Info in <TCanvas::Print>: png file ./images/spin0/28-05-2020/cut_2_maxMass_1000/DMSimpSpin0_MY100_MX10_14052020/hsDelPhiMet_j1_0.png has been created\n",
      "Info in <TCanvas::Print>: png file ./images/spin0/28-05-2020/cut_2_maxMass_1000/DMSimpSpin0_MY100_MX10_14052020/hbDelPhiMet_j1significance.png has been created\n",
      "Info in <TCanvas::Print>: png file ./images/spin0/28-05-2020/cut_2_maxMass_1000/DMSimpSpin0_MY100_MX10_14052020/hsDelPhiMet_j2_0.png has been created\n",
      "Info in <TCanvas::Print>: png file ./images/spin0/28-05-2020/cut_2_maxMass_1000/DMSimpSpin0_MY100_MX10_14052020/hbDelPhiMet_j2significance.png has been created\n",
      "Info in <TCanvas::Print>: png file ./images/spin0/28-05-2020/cut_2_maxMass_1000/DMSimpSpin0_MY100_MX10_14052020/hsDelPhiMet_j3_0.png has been created\n",
      "Info in <TCanvas::Print>: png file ./images/spin0/28-05-2020/cut_2_maxMass_1000/DMSimpSpin0_MY100_MX10_14052020/hbDelPhiMet_j3significance.png has been created\n",
      "Info in <TCanvas::Print>: png file ./images/spin0/28-05-2020/cut_2_maxMass_1000/DMSimpSpin0_MY100_MX10_14052020/hsDelPhiMet_j4_0.png has been created\n",
      "Info in <TCanvas::Print>: png file ./images/spin0/28-05-2020/cut_2_maxMass_1000/DMSimpSpin0_MY100_MX10_14052020/hbDelPhiMet_j4significance.png has been created\n"
     ]
    },
    {
     "data": {
      "image/png": "[encoded data removed]",
      "text/plain": [
       "<IPython.core.display.Image object>"
      ]
     },
     "metadata": {},
     "output_type": "display_data"
    },
    {
     "data": {
      "image/png": "[encoded data removed]",
      "text/plain": [
       "<IPython.core.display.Image object>"
      ]
     },
     "metadata": {},
     "output_type": "display_data"
    },
    {
     "data": {
      "image/png": "[encoded data removed]",
      "text/plain": [
       "<IPython.core.display.Image object>"
      ]
     },
     "metadata": {},
     "output_type": "display_data"
    },
    {
     "data": {
      "image/png": "[encoded data removed]",
      "text/plain": [
       "<IPython.core.display.Image object>"
      ]
     },
     "metadata": {},
     "output_type": "display_data"
    },
    {
     "data": {
      "image/png": "[encoded data removed]",
      "text/plain": [
       "<IPython.core.display.Image object>"
      ]
     },
     "metadata": {},
     "output_type": "display_data"
    },
    {
     "data": {
      "image/png": "[encoded data removed]",
      "text/plain": [
       "<IPython.core.display.Image object>"
      ]
     },
     "metadata": {},
     "output_type": "display_data"
    },
    {
     "data": {
      "image/png": "[encoded data removed]",
      "text/plain": [
       "<IPython.core.display.Image object>"
      ]
     },
     "metadata": {},
     "output_type": "display_data"
    },
    {
     "data": {
      "image/png": "[encoded data removed]",
      "text/plain": [
       "<IPython.core.display.Image object>"
      ]
     },
     "metadata": {},
     "output_type": "display_data"
    },
    {
     "data": {
      "image/png": "[encoded data removed]",
      "text/plain": [
       "<IPython.core.display.Image object>"
      ]
     },
     "metadata": {},
     "output_type": "display_data"
    },
    {
     "data": {
      "image/png": "[encoded data removed]",
      "text/plain": [
       "<IPython.core.display.Image object>"
      ]
     },
     "metadata": {},
     "output_type": "display_data"
    }
   ],
   "source": [
    "for k in range(len(hsDeltaEtaJet)):\n",
    "    for n in range(numJets):\n",
    "        HzsPhi = hsDeltaPhiMetJet[k][n].Clone()\n",
    "        HzbPhi = hbDeltaPhiMetJet[n].Clone()\n",
    "        PlotHistos(HzsPhi,HzbPhi, save=True,savePath=imgFold[k])\n",
    "    \n",
    "        Hz = Significance(HzsPhi, HzbPhi, ns=ns[k], nb=nb,lessThan=True)\n",
    "        PlotHisto(Hz,save=True,savePath=imgFold[k])"
   ]
  },
  {
   "cell_type": "markdown",
   "metadata": {},
   "source": [
    "### MET\n"
   ]
  },
  {
   "cell_type": "code",
   "execution_count": 14,
   "metadata": {},
   "outputs": [
    {
     "name": "stderr",
     "output_type": "stream",
     "text": [
      "Info in <TCanvas::Print>: png file ./images/spin0/28-05-2020/cut_2_maxMass_1000/DMSimpSpin0_MY100_MX10_14052020/hsMetET_0.png has been created\n",
      "Info in <TCanvas::Print>: png file ./images/spin0/28-05-2020/cut_2_maxMass_1000/DMSimpSpin0_MY100_MX10_14052020/hbMetETsignificance.png has been created\n"
     ]
    },
    {
     "data": {
      "image/png": "[encoded data removed]",
      "text/plain": [
       "<IPython.core.display.Image object>"
      ]
     },
     "metadata": {},
     "output_type": "display_data"
    },
    {
     "data": {
      "image/png": "[encoded data removed]",
      "text/plain": [
       "<IPython.core.display.Image object>"
      ]
     },
     "metadata": {},
     "output_type": "display_data"
    }
   ],
   "source": [
    "for k in range(len(hsDeltaEtaJet)):\n",
    "    Hzs = hsMetET[k].Clone()\n",
    "    Hzb = hbMetET.Clone()\n",
    "#     Histos(HzsPhi,HzbPhi, imgFold[k] + '/deltaPhi__max.png')\n",
    "    PlotHistos(Hzs,Hzb, save=True,savePath=imgFold[k])\n",
    "    Hz = Significance(Hzs, Hzb, ns=ns[k], nb=nb)\n",
    "    PlotHisto(Hz,save=True,savePath=imgFold[k])"
   ]
  },
  {
   "cell_type": "code",
   "execution_count": null,
   "metadata": {},
   "outputs": [],
   "source": []
  },
  {
   "cell_type": "code",
   "execution_count": null,
   "metadata": {},
   "outputs": [],
   "source": []
  }
 ],
 "metadata": {
  "colab": {
   "name": "daniel_MET_cut.ipynb",
   "provenance": []
  },
  "kernelspec": {
   "display_name": "Python 2",
   "language": "python",
   "name": "python2"
  },
  "language_info": {
   "codemirror_mode": {
    "name": "ipython",
    "version": 2
   },
   "file_extension": ".py",
   "mimetype": "text/x-python",
   "name": "python",
   "nbconvert_exporter": "python",
   "pygments_lexer": "ipython2",
   "version": "2.7.17"
  }
 },
 "nbformat": 4,
 "nbformat_minor": 1
}
