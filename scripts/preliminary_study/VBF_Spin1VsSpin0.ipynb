{
 "cells": [
  {
   "cell_type": "code",
   "execution_count": 1,
   "metadata": {},
   "outputs": [
    {
     "name": "stdout",
     "output_type": "stream",
     "text": [
      "Welcome to JupyROOT 6.15/01\n",
      "#include \"/home/santiago/MG5_aMC_v2_6_5/Delphes/classes/DelphesClasses.h\"\n",
      "#include \"/home/santiago/MG5_aMC_v2_6_5/ExRootAnalysis/ExRootTreeReader.h\"\n",
      "Delphes classes imported\n"
     ]
    }
   ],
   "source": [
    "import pyroot_module as pr"
   ]
  },
  {
   "cell_type": "markdown",
   "metadata": {},
   "source": [
    "### Importing signal and background data using the `Data` class"
   ]
  },
  {
   "cell_type": "code",
   "execution_count": 2,
   "metadata": {},
   "outputs": [],
   "source": [
    "signal_path = \"/home/santiago/VBF_DMSimp_spin0_EWKExcluded/Events/run_18/*.root\"\n",
    "background_path = \"/home/santiago/VBFDM_UdeA_CMS/scripts/preliminary_study/data/VBF_MDSimp_EWKExcluded/TEST1/*.root\"\n",
    "\n",
    "signal = pr.Data(signal_path, \"signal\")\n",
    "background = pr.Data(background_path, \"background\")"
   ]
  },
  {
   "cell_type": "markdown",
   "metadata": {},
   "source": [
    "we can see the number of events with the `number_of_events` attribute"
   ]
  },
  {
   "cell_type": "code",
   "execution_count": 3,
   "metadata": {},
   "outputs": [
    {
     "name": "stdout",
     "output_type": "stream",
     "text": [
      "signal number of events:  34079\n",
      "background number of events:  50000\n"
     ]
    }
   ],
   "source": [
    "ns = signal.number_of_events\n",
    "nb = background.number_of_events\n",
    "\n",
    "print \"signal number of events: \",ns\n",
    "print \"background number of events: \",nb"
   ]
  },
  {
   "cell_type": "markdown",
   "metadata": {},
   "source": [
    "### Creating and filling histograms \n",
    "\n",
    "We can see the histograms than can be created using the `DisplayHistograms` method on some Data class instance"
   ]
  },
  {
   "cell_type": "code",
   "execution_count": 4,
   "metadata": {},
   "outputs": [
    {
     "name": "stdout",
     "output_type": "stream",
     "text": [
      "hPT[j]: Transverse momentum\n",
      "hEta[j]: jets pseudorapidity\n",
      "hDeltaEta[j]: Difference on pseudorapidity between MET and jets\n",
      "hDeltaPhiMetJet[j]: Difference on the azimuthal angle between the Met and jets\n",
      "hDeltaPhi: Difference on the azimuthal angle between the two leading jets\n",
      "hMass: Invariant mass for the two leading jets\n",
      "hPTdiv: Ratio between the transverse momentum of the two leading jets\n",
      "hMetET: MET transverse energy\n",
      "hMetPhi: Azimuthal angle of the MET\n",
      "hDeltaEtaJet: Difference on pseudorapidity between the two leading jets\n",
      "hDeltaPhiMax: Difference on the azimuthal angle between the two jets with greatest invariant mass\n",
      "hMassMax: Invariant mass for the jets with greatest invariant mass\n",
      "hPTdivMax: Ratio between the transverse momentum of the jets with greatest invariant mass\n",
      "hDeltaEtaJetMax: Difference on pseudorapidity between the jets with greatest invariant mass\n"
     ]
    }
   ],
   "source": [
    "signal.DisplayHistograms()"
   ]
  },
  {
   "cell_type": "markdown",
   "metadata": {},
   "source": [
    "We can see/change some histogram features through the `<histName>_feature` attribute, which contains the number of bins, lower and upper limits, respectively  "
   ]
  },
  {
   "cell_type": "code",
   "execution_count": 5,
   "metadata": {},
   "outputs": [
    {
     "name": "stdout",
     "output_type": "stream",
     "text": [
      "hMass number of bins:  100\n",
      "hMass lower limit:  0.0\n",
      "hMass upper limit:  1800\n"
     ]
    }
   ],
   "source": [
    "print \"hMass number of bins: \",signal.hPT_feature[0]\n",
    "print \"hMass lower limit: \",signal.hPT_feature[1]\n",
    "print \"hMass upper limit: \",signal.hPT_feature[2]"
   ]
  },
  {
   "cell_type": "markdown",
   "metadata": {},
   "source": [
    "Let's initialize the histograms for the signal and background data "
   ]
  },
  {
   "cell_type": "code",
   "execution_count": 6,
   "metadata": {},
   "outputs": [],
   "source": [
    "signal.Histograms()\n",
    "background.Histograms()"
   ]
  },
  {
   "cell_type": "markdown",
   "metadata": {},
   "source": [
    "We can fill the histograms using the `Fill()` method. By default, the method filters jets with $P_T > 30 \\: \\text{GeV}$ and $|\\eta| < 5$. Additionally, it filters events with at least two jets in opposite hemispheres."
   ]
  },
  {
   "cell_type": "code",
   "execution_count": 7,
   "metadata": {},
   "outputs": [
    {
     "name": "stderr",
     "output_type": "stream",
     "text": [
      "\u001b[1mExRootAnalysisDict dictionary payload:16:10: \u001b[0m\u001b[0;1;31mfatal error: \u001b[0m\u001b[1m'ExRootAnalysis/ExRootTreeReader.h' file not found\u001b[0m\n",
      "#include \"ExRootAnalysis/ExRootTreeReader.h\"\n",
      "\u001b[0;1;32m         ^~~~~~~~~~~~~~~~~~~~~~~~~~~~~~~~~~~\n",
      "\u001b[0mError in <TInterpreter::AutoParse>: Error parsing payload code for class ExRootTreeReader with content:\n",
      "\n",
      "#line 1 \"ExRootAnalysisDict dictionary payload\"\n",
      "\n",
      "#ifndef G__VECTOR_HAS_CLASS_ITERATOR\n",
      "  #define G__VECTOR_HAS_CLASS_ITERATOR 1\n",
      "#endif\n",
      "\n",
      "#define _BACKWARD_BACKWARD_WARNING_H\n",
      "\n",
      "/** \\class ExRootAnalysisLinkDef\n",
      " *\n",
      " *  Lists classes to be included in cint dicitonary\n",
      " *\n",
      " *  \\author P. Demin - UCL, Louvain-la-Neuve\n",
      " *\n",
      " */\n",
      "\n",
      "#include \"ExRootAnalysis/ExRootTreeReader.h\"\n",
      "#include \"ExRootAnalysis/ExRootTreeWriter.h\"\n",
      "#include \"ExRootAnalysis/ExRootTreeBranch.h\"\n",
      "#include \"ExRootAnalysis/ExRootResult.h\"\n",
      "#include \"ExRootAnalysis/ExRootUtilities.h\"\n",
      "#include \"ExRootAnalysis/ExRootClassifier.h\"\n",
      "#include \"ExRootAnalysis/ExRootFilter.h\"\n",
      "\n",
      "#include \"ExRootAnalysis/ExRootProgressBar.h\"\n",
      "#include \"ExRootAnalysis/ExRootConfReader.h\"\n",
      "#include \"ExRootAnalysis/ExRootTask.h\"\n",
      "\n",
      "#ifdef __CINT__\n",
      "\n",
      "#pragma link off all globals;\n",
      "#pragma link off all classes;\n",
      "#pragma link off all functions;\n",
      "\n",
      "#pragma link C++ class ExRootTreeReader+;\n",
      "#pragma link C++ class ExRootTreeBranch+;\n",
      "#pragma link C++ class ExRootTreeWriter+;\n",
      "#pragma link C++ class ExRootResult+;\n",
      "#pragma link C++ class ExRootClassifier+;\n",
      "#pragma link C++ class ExRootFilter+;\n",
      "\n",
      "#pragma link C++ class ExRootProgressBar+;\n",
      "#pragma link C++ class ExRootConfReader+;\n",
      "#pragma link C++ class ExRootConfParam+;\n",
      "#pragma link C++ class ExRootTask+;\n",
      "\n",
      "#pragma link C++ function HistStyle;\n",
      "#pragma link C++ function FillChain;\n",
      "\n",
      "#endif\n",
      "\n",
      "\n",
      "#undef  _BACKWARD_BACKWARD_WARNING_H\n",
      "\n",
      "\u001b[1mExRootAnalysisDict dictionary payload:19:10: \u001b[0m\u001b[0;1;31mfatal error: \u001b[0m\u001b[1m'ExRootAnalysis/ExRootClasses.h' file not found\u001b[0m\n",
      "#include \"ExRootAnalysis/ExRootClasses.h\"\n",
      "\u001b[0;1;32m         ^~~~~~~~~~~~~~~~~~~~~~~~~~~~~~~~\n",
      "\u001b[0mError in <TInterpreter::AutoParse>: Error parsing payload code for class ExRootTreeReader with content:\n",
      "\n",
      "#line 1 \"ExRootAnalysisDict dictionary payload\"\n",
      "\n",
      "#ifndef G__VECTOR_HAS_CLASS_ITERATOR\n",
      "  #define G__VECTOR_HAS_CLASS_ITERATOR 1\n",
      "#endif\n",
      "\n",
      "#define _BACKWARD_BACKWARD_WARNING_H\n",
      "/** \\class ExRootAnalysisLinkDef\n",
      " *\n",
      " *  Lists classes to be included in cint dicitonary\n",
      " *\n",
      " *  $Date: 2006/12/19 19:18:46 $\n",
      " *  $Revision: 1.5 $\n",
      " *\n",
      " *  \n",
      " *  \\author P. Demin - UCL, Louvain-la-Neuve\n",
      " *\n",
      " */\n",
      "\n",
      "#include \"ExRootAnalysis/ExRootClasses.h\"\n",
      "#include \"ExRootAnalysis/ExRootTreeReader.h\"\n",
      "#include \"ExRootAnalysis/ExRootTreeWriter.h\"\n",
      "#include \"ExRootAnalysis/ExRootTreeBranch.h\"\n",
      "#include \"ExRootAnalysis/ExRootResult.h\"\n",
      "#include \"ExRootAnalysis/ExRootUtilities.h\"\n",
      "#include \"ExRootAnalysis/ExRootClassifier.h\"\n",
      "#include \"ExRootAnalysis/ExRootFilter.h\"\n",
      "\n",
      "#include \"ExRootAnalysis/ExRootFactory.h\"\n",
      "\n",
      "#ifdef __CINT__\n",
      "\n",
      "#pragma link off all globals;\n",
      "#pragma link off all classes;\n",
      "#pragma link off all functions;\n",
      "\n",
      "#pragma link C++ class TSortableObject+;\n",
      "#pragma link C++ class TRootWeight;\n",
      "#pragma link C++ class TRootLHEFEvent+;\n",
      "#pragma link C++ class TRootLHEFParticle+;\n",
      "#pragma link C++ class TRootGenEvent+;\n",
      "#pragma link C++ class TRootGenParticle+;\n",
      "#pragma link C++ class TRootGenJet+;\n",
      "#pragma link C++ class TRootEvent+;\n",
      "#pragma link C++ class TRootMissingET+;\n",
      "#pragma link C++ class TRootPhoton+;\n",
      "#pragma link C++ class TRootElectron+;\n",
      "#pragma link C++ class TRootMuon+;\n",
      "#pragma link C++ class TRootTau+;\n",
      "#pragma link C++ class TRootJet+;\n",
      "\n",
      "#pragma link C++ class ExRootTreeReader+;\n",
      "#pragma link C++ class ExRootTreeBranch+;\n",
      "#pragma link C++ class ExRootTreeWriter+;\n",
      "#pragma link C++ class ExRootResult+;\n",
      "#pragma link C++ class ExRootClassifier+;\n",
      "#pragma link C++ class ExRootFilter+;\n",
      "\n",
      "#pragma link C++ class ExRootFactory+;\n",
      "\n",
      "#pragma link C++ function HistStyle;\n",
      "#pragma link C++ function FillChain;\n",
      "\n",
      "#endif\n",
      "\n",
      "\n",
      "#undef  _BACKWARD_BACKWARD_WARNING_H\n",
      "\n",
      "In file included from ClassesDict dictionary payload:34:\n",
      "\u001b[1m/home/santiago/MG5_aMC_v2_6_5/Delphes/classes/DelphesModule.h:30:10: \u001b[0m\u001b[0;1;31mfatal error: \u001b[0m\u001b[1m'ExRootAnalysis/ExRootTask.h' file not found\u001b[0m\n",
      "#include \"ExRootAnalysis/ExRootTask.h\"\n",
      "\u001b[0;1;32m         ^~~~~~~~~~~~~~~~~~~~~~~~~~~~~\n",
      "\u001b[0mError in <TInterpreter::AutoParse>: Error parsing payload code for class Jet with content:\n",
      "\n",
      "#line 1 \"ClassesDict dictionary payload\"\n",
      "\n",
      "#ifndef G__VECTOR_HAS_CLASS_ITERATOR\n",
      "  #define G__VECTOR_HAS_CLASS_ITERATOR 1\n",
      "#endif\n",
      "\n",
      "#define _BACKWARD_BACKWARD_WARNING_H\n",
      "/*\n",
      " *  Delphes: a framework for fast simulation of a generic collider experiment\n",
      " *  Copyright (C) 2012-2014  Universite catholique de Louvain (UCL), Belgium\n",
      " *\n",
      " *  This program is free software: you can redistribute it and/or modify\n",
      " *  it under the terms of the GNU General Public License as published by\n",
      " *  the Free Software Foundation, either version 3 of the License, or\n",
      " *  (at your option) any later version.\n",
      " *\n",
      " *  This program is distributed in the hope that it will be useful,\n",
      " *  but WITHOUT ANY WARRANTY; without even the implied warranty of\n",
      " *  MERCHANTABILITY or FITNESS FOR A PARTICULAR PURPOSE.  See the\n",
      " *  GNU General Public License for more details.\n",
      " *\n",
      " *  You should have received a copy of the GNU General Public License\n",
      " *  along with this program.  If not, see <http://www.gnu.org/licenses/>.\n",
      " */\n",
      "\n",
      "\n",
      "/** ExRootAnalysisLinkDef\n",
      " *\n",
      " *  Lists classes to be included in cint dicitonary\n",
      " *\n",
      " *  \\author P. Demin - UCL, Louvain-la-Neuve\n",
      " *\n",
      " */\n",
      "\n",
      "#include \"classes/DelphesModule.h\"\n",
      "#include \"classes/DelphesFactory.h\"\n",
      "\n",
      "#include \"classes/SortableObject.h\"\n",
      "#include \"classes/DelphesClasses.h\"\n",
      "\n",
      "#ifdef __CINT__\n",
      "\n",
      "#pragma link off all globals;\n",
      "#pragma link off all classes;\n",
      "#pragma link off all functions;\n",
      "\n",
      "#pragma link C++ class DelphesModule+;\n",
      "#pragma link C++ class DelphesFactory+;\n",
      "\n",
      "#pragma link C++ class SortableObject+;\n",
      "\n",
      "#pragma link C++ class Event+;\n",
      "#pragma link C++ class LHCOEvent+;\n",
      "#pragma link C++ class LHEFEvent+;\n",
      "#pragma link C++ class LHEFWeight+;\n",
      "#pragma link C++ class HepMCEvent+;\n",
      "#pragma link C++ class GenParticle+;\n",
      "#pragma link C++ class Vertex+;\n",
      "#pragma link C++ class MissingET+;\n",
      "#pragma link C++ class ScalarHT+;\n",
      "#pragma link C++ class Rho+;\n",
      "#pragma link C++ class Weight+;\n",
      "#pragma link C++ class Photon+;\n",
      "#pragma link C++ class Electron+;\n",
      "#pragma link C++ class Muon+;\n",
      "#pragma link C++ class Jet+;\n",
      "#pragma link C++ class Track+;\n",
      "#pragma link C++ class Tower+;\n",
      "#pragma link C++ class HectorHit+;\n",
      "\n",
      "#pragma link C++ class Candidate+;\n",
      "\n",
      "#endif\n",
      "\n",
      "\n",
      "#undef  _BACKWARD_BACKWARD_WARNING_H\n",
      "\n",
      "In file included from ClassesDict dictionary payload:34:\n",
      "\u001b[1m/home/santiago/MG5_aMC_v2_6_5/Delphes/classes/DelphesModule.h:30:10: \u001b[0m\u001b[0;1;31mfatal error: \u001b[0m\u001b[1m'ExRootAnalysis/ExRootTask.h' file not found\u001b[0m\n",
      "#include \"ExRootAnalysis/ExRootTask.h\"\n",
      "\u001b[0;1;32m         ^~~~~~~~~~~~~~~~~~~~~~~~~~~~~\n",
      "\u001b[0mError in <TInterpreter::AutoParse>: Error parsing payload code for class SortableObject with content:\n",
      "\n",
      "#line 1 \"ClassesDict dictionary payload\"\n",
      "\n",
      "#ifndef G__VECTOR_HAS_CLASS_ITERATOR\n",
      "  #define G__VECTOR_HAS_CLASS_ITERATOR 1\n",
      "#endif\n",
      "\n",
      "#define _BACKWARD_BACKWARD_WARNING_H\n",
      "/*\n",
      " *  Delphes: a framework for fast simulation of a generic collider experiment\n",
      " *  Copyright (C) 2012-2014  Universite catholique de Louvain (UCL), Belgium\n",
      " *\n",
      " *  This program is free software: you can redistribute it and/or modify\n",
      " *  it under the terms of the GNU General Public License as published by\n",
      " *  the Free Software Foundation, either version 3 of the License, or\n",
      " *  (at your option) any later version.\n",
      " *\n",
      " *  This program is distributed in the hope that it will be useful,\n",
      " *  but WITHOUT ANY WARRANTY; without even the implied warranty of\n",
      " *  MERCHANTABILITY or FITNESS FOR A PARTICULAR PURPOSE.  See the\n",
      " *  GNU General Public License for more details.\n",
      " *\n",
      " *  You should have received a copy of the GNU General Public License\n",
      " *  along with this program.  If not, see <http://www.gnu.org/licenses/>.\n",
      " */\n",
      "\n",
      "\n",
      "/** ExRootAnalysisLinkDef\n",
      " *\n",
      " *  Lists classes to be included in cint dicitonary\n",
      " *\n",
      " *  \\author P. Demin - UCL, Louvain-la-Neuve\n",
      " *\n",
      " */\n",
      "\n",
      "#include \"classes/DelphesModule.h\"\n",
      "#include \"classes/DelphesFactory.h\"\n",
      "\n",
      "#include \"classes/SortableObject.h\"\n",
      "#include \"classes/DelphesClasses.h\"\n",
      "\n",
      "#ifdef __CINT__\n",
      "\n",
      "#pragma link off all globals;\n",
      "#pragma link off all classes;\n",
      "#pragma link off all functions;\n",
      "\n",
      "#pragma link C++ class DelphesModule+;\n",
      "#pragma link C++ class DelphesFactory+;\n",
      "\n",
      "#pragma link C++ class SortableObject+;\n",
      "\n",
      "#pragma link C++ class Event+;\n",
      "#pragma link C++ class LHCOEvent+;\n",
      "#pragma link C++ class LHEFEvent+;\n",
      "#pragma link C++ class LHEFWeight+;\n",
      "#pragma link C++ class HepMCEvent+;\n",
      "#pragma link C++ class GenParticle+;\n",
      "#pragma link C++ class Vertex+;\n",
      "#pragma link C++ class MissingET+;\n",
      "#pragma link C++ class ScalarHT+;\n",
      "#pragma link C++ class Rho+;\n",
      "#pragma link C++ class Weight+;\n",
      "#pragma link C++ class Photon+;\n",
      "#pragma link C++ class Electron+;\n",
      "#pragma link C++ class Muon+;\n",
      "#pragma link C++ class Jet+;\n",
      "#pragma link C++ class Track+;\n",
      "#pragma link C++ class Tower+;\n",
      "#pragma link C++ class HectorHit+;\n",
      "\n",
      "#pragma link C++ class Candidate+;\n",
      "\n",
      "#endif\n",
      "\n",
      "\n",
      "#undef  _BACKWARD_BACKWARD_WARNING_H\n",
      "\n",
      "In file included from ClassesDict dictionary payload:34:\n",
      "\u001b[1m/home/santiago/MG5_aMC_v2_6_5/Delphes/classes/DelphesModule.h:30:10: \u001b[0m\u001b[0;1;31mfatal error: \u001b[0m\u001b[1m'ExRootAnalysis/ExRootTask.h' file not found\u001b[0m\n",
      "#include \"ExRootAnalysis/ExRootTask.h\"\n",
      "\u001b[0;1;32m         ^~~~~~~~~~~~~~~~~~~~~~~~~~~~~\n",
      "\u001b[0mError in <TInterpreter::AutoParse>: Error parsing payload code for class MissingET with content:\n",
      "\n",
      "#line 1 \"ClassesDict dictionary payload\"\n",
      "\n",
      "#ifndef G__VECTOR_HAS_CLASS_ITERATOR\n",
      "  #define G__VECTOR_HAS_CLASS_ITERATOR 1\n",
      "#endif\n",
      "\n",
      "#define _BACKWARD_BACKWARD_WARNING_H\n",
      "/*\n",
      " *  Delphes: a framework for fast simulation of a generic collider experiment\n",
      " *  Copyright (C) 2012-2014  Universite catholique de Louvain (UCL), Belgium\n",
      " *\n",
      " *  This program is free software: you can redistribute it and/or modify\n",
      " *  it under the terms of the GNU General Public License as published by\n",
      " *  the Free Software Foundation, either version 3 of the License, or\n",
      " *  (at your option) any later version.\n",
      " *\n",
      " *  This program is distributed in the hope that it will be useful,\n",
      " *  but WITHOUT ANY WARRANTY; without even the implied warranty of\n",
      " *  MERCHANTABILITY or FITNESS FOR A PARTICULAR PURPOSE.  See the\n",
      " *  GNU General Public License for more details.\n",
      " *\n",
      " *  You should have received a copy of the GNU General Public License\n",
      " *  along with this program.  If not, see <http://www.gnu.org/licenses/>.\n",
      " */\n",
      "\n",
      "\n",
      "/** ExRootAnalysisLinkDef\n",
      " *\n",
      " *  Lists classes to be included in cint dicitonary\n",
      " *\n",
      " *  \\author P. Demin - UCL, Louvain-la-Neuve\n",
      " *\n",
      " */\n",
      "\n",
      "#include \"classes/DelphesModule.h\"\n",
      "#include \"classes/DelphesFactory.h\"\n",
      "\n",
      "#include \"classes/SortableObject.h\"\n",
      "#include \"classes/DelphesClasses.h\"\n",
      "\n",
      "#ifdef __CINT__\n",
      "\n",
      "#pragma link off all globals;\n",
      "#pragma link off all classes;\n",
      "#pragma link off all functions;\n",
      "\n",
      "#pragma link C++ class DelphesModule+;\n",
      "#pragma link C++ class DelphesFactory+;\n",
      "\n",
      "#pragma link C++ class SortableObject+;\n",
      "\n",
      "#pragma link C++ class Event+;\n",
      "#pragma link C++ class LHCOEvent+;\n",
      "#pragma link C++ class LHEFEvent+;\n",
      "#pragma link C++ class LHEFWeight+;\n",
      "#pragma link C++ class HepMCEvent+;\n",
      "#pragma link C++ class GenParticle+;\n",
      "#pragma link C++ class Vertex+;\n",
      "#pragma link C++ class MissingET+;\n",
      "#pragma link C++ class ScalarHT+;\n",
      "#pragma link C++ class Rho+;\n",
      "#pragma link C++ class Weight+;\n",
      "#pragma link C++ class Photon+;\n",
      "#pragma link C++ class Electron+;\n",
      "#pragma link C++ class Muon+;\n",
      "#pragma link C++ class Jet+;\n",
      "#pragma link C++ class Track+;\n",
      "#pragma link C++ class Tower+;\n",
      "#pragma link C++ class HectorHit+;\n",
      "\n",
      "#pragma link C++ class Candidate+;\n",
      "\n",
      "#endif\n",
      "\n",
      "\n",
      "#undef  _BACKWARD_BACKWARD_WARNING_H\n",
      "\n"
     ]
    }
   ],
   "source": [
    "signal.Fill()\n",
    "background.Fill()"
   ]
  },
  {
   "cell_type": "markdown",
   "metadata": {},
   "source": [
    "To visualize some histogram, we can use the `PlotHistogram()` method. By default, it will create a folder named `Histograms` in the current directory and save the plot there. To change this path use the kwarg `savePath`."
   ]
  },
  {
   "cell_type": "code",
   "execution_count": 8,
   "metadata": {},
   "outputs": [
    {
     "data": {
      "image/png": "[encoded data removed]",
      "text/plain": [
       "<IPython.core.display.Image object>"
      ]
     },
     "metadata": {},
     "output_type": "display_data"
    }
   ],
   "source": [
    "# plotting the MET transverse energy for the signal data\n",
    "pr.PlotHisto(signal.hMetET, title=\"Signal MET ET\", save=False)"
   ]
  },
  {
   "cell_type": "markdown",
   "metadata": {},
   "source": [
    "Alternative, we can plot two histograms in the same canvas using the `PlotHistograms()` method:"
   ]
  },
  {
   "cell_type": "code",
   "execution_count": 9,
   "metadata": {},
   "outputs": [
    {
     "data": {
      "image/png": "[encoded data removed]",
      "text/plain": [
       "<IPython.core.display.Image object>"
      ]
     },
     "metadata": {},
     "output_type": "display_data"
    }
   ],
   "source": [
    "# plotting the tranverse momentum for the leading jets in signal and background data\n",
    "hs = signal.hPT[0]\n",
    "hb = background.hPT[0]\n",
    "\n",
    "pr.PlotHistos(hs, hb, save=False, title=\"Transverse momentum for the leading Jet\")"
   ]
  },
  {
   "cell_type": "markdown",
   "metadata": {},
   "source": [
    "we can obtain a significance histogram made out of hs and hb using the `Significance` method:"
   ]
  },
  {
   "cell_type": "code",
   "execution_count": 10,
   "metadata": {},
   "outputs": [
    {
     "data": {
      "image/png": "[encoded data removed]",
      "text/plain": [
       "<IPython.core.display.Image object>"
      ]
     },
     "metadata": {},
     "output_type": "display_data"
    }
   ],
   "source": [
    "hz = pr.Significance(hs, hb, ns=ns, nb=nb)\n",
    "\n",
    "pr.PlotHisto(hz, title=\"Significance for hPT[0]\" ,save=False)"
   ]
  },
  {
   "cell_type": "markdown",
   "metadata": {},
   "source": [
    "### Applying cuts\n",
    "\n",
    "The number of events that pass some cut are store in the `cuts` attribute (there is a latex-like string of the cuts in the `cuts_keys` attribute): "
   ]
  },
  {
   "cell_type": "code",
   "execution_count": 11,
   "metadata": {},
   "outputs": [
    {
     "name": "stdout",
     "output_type": "stream",
     "text": [
      "number of signal events that pass some cut (only default cuts)\n"
     ]
    },
    {
     "data": {
      "text/plain": [
       "{'cut0': 34079L,\n",
       " 'cut1': 34079,\n",
       " 'cut2': 25747,\n",
       " 'cut3': 0,\n",
       " 'cut4': 0,\n",
       " 'cut5': 0,\n",
       " 'cut6': 0,\n",
       " 'cut7': 0}"
      ]
     },
     "execution_count": 11,
     "metadata": {},
     "output_type": "execute_result"
    }
   ],
   "source": [
    "print \"number of signal events that pass some cut (only default cuts)\"\n",
    "signal.cuts"
   ]
  },
  {
   "cell_type": "markdown",
   "metadata": {},
   "source": [
    "we can activate/deactivate an individual cut or modify its value"
   ]
  },
  {
   "cell_type": "code",
   "execution_count": 12,
   "metadata": {},
   "outputs": [],
   "source": [
    "signal.Fill(h_cut=True, h_cut_value=500)\n",
    "background.Fill(h_cut=True, h_cut_value=500)"
   ]
  },
  {
   "cell_type": "code",
   "execution_count": 13,
   "metadata": {},
   "outputs": [
    {
     "name": "stdout",
     "output_type": "stream",
     "text": [
      "number of signal events that pass some cut (with an additional cut)\n"
     ]
    },
    {
     "data": {
      "text/plain": [
       "{'cut0': 34079L,\n",
       " 'cut1': 34079,\n",
       " 'cut2': 25747,\n",
       " 'cut3': 0,\n",
       " 'cut4': 0,\n",
       " 'cut5': 0,\n",
       " 'cut6': 25717,\n",
       " 'cut7': 0}"
      ]
     },
     "execution_count": 13,
     "metadata": {},
     "output_type": "execute_result"
    }
   ],
   "source": [
    "print \"number of signal events that pass some cut (with an additional cut)\"\n",
    "signal.cuts"
   ]
  },
  {
   "cell_type": "markdown",
   "metadata": {},
   "source": [
    "To apply all the cuts at once we can set the `apply_cut` (`False` by default) attribute to `True` before calling the `Fill` method:"
   ]
  },
  {
   "cell_type": "code",
   "execution_count": 14,
   "metadata": {},
   "outputs": [],
   "source": [
    "pr.Data.apply_cut = True\n",
    "\n",
    "signal.Fill()\n",
    "background.Fill()"
   ]
  },
  {
   "cell_type": "code",
   "execution_count": 15,
   "metadata": {},
   "outputs": [
    {
     "name": "stdout",
     "output_type": "stream",
     "text": [
      "number of signal events that pass some cut (all cuts)\n"
     ]
    },
    {
     "data": {
      "text/plain": [
       "{'cut0': 34079L,\n",
       " 'cut1': 34079,\n",
       " 'cut2': 25747,\n",
       " 'cut3': 826,\n",
       " 'cut4': 419,\n",
       " 'cut5': 14,\n",
       " 'cut6': 14,\n",
       " 'cut7': 1}"
      ]
     },
     "execution_count": 15,
     "metadata": {},
     "output_type": "execute_result"
    }
   ],
   "source": [
    "print \"number of signal events that pass some cut (all cuts)\"\n",
    "signal.cuts"
   ]
  },
  {
   "cell_type": "markdown",
   "metadata": {},
   "source": [
    "We can see the cutflow with the `CutFlow` method:"
   ]
  },
  {
   "cell_type": "code",
   "execution_count": 16,
   "metadata": {},
   "outputs": [],
   "source": [
    "t1, t2 = pr.CutFlow(signal.cuts, background.cuts, signal.cuts_keys, ns=ns, nb=nb)"
   ]
  },
  {
   "cell_type": "code",
   "execution_count": 17,
   "metadata": {},
   "outputs": [
    {
     "data": {
      "text/html": [
       "<div>\n",
       "<style scoped>\n",
       "    .dataframe tbody tr th:only-of-type {\n",
       "        vertical-align: middle;\n",
       "    }\n",
       "\n",
       "    .dataframe tbody tr th {\n",
       "        vertical-align: top;\n",
       "    }\n",
       "\n",
       "    .dataframe thead th {\n",
       "        text-align: right;\n",
       "    }\n",
       "</style>\n",
       "<table border=\"1\" class=\"dataframe\">\n",
       "  <thead>\n",
       "    <tr style=\"text-align: right;\">\n",
       "      <th></th>\n",
       "      <th>${\\textbf{[bold]: GeV}}$</th>\n",
       "      <th>S</th>\n",
       "      <th>B</th>\n",
       "      <th>Z</th>\n",
       "      <th>Z_w</th>\n",
       "    </tr>\n",
       "  </thead>\n",
       "  <tbody>\n",
       "    <tr>\n",
       "      <th>cut0</th>\n",
       "      <td>${\\mathbf{P_T&gt;30}}$, $|\\eta(j)|&lt;5$</td>\n",
       "      <td>34079.0</td>\n",
       "      <td>50000.0</td>\n",
       "      <td>117.528468</td>\n",
       "      <td>234.415327</td>\n",
       "    </tr>\n",
       "    <tr>\n",
       "      <th>cut1</th>\n",
       "      <td>Number of jets $\\geq$ 2</td>\n",
       "      <td>34079.0</td>\n",
       "      <td>40519.0</td>\n",
       "      <td>124.773757</td>\n",
       "      <td>255.666166</td>\n",
       "    </tr>\n",
       "    <tr>\n",
       "      <th>cut2</th>\n",
       "      <td>$\\eta (j_1) * \\eta (j_2) &lt; 0$</td>\n",
       "      <td>25747.0</td>\n",
       "      <td>18841.0</td>\n",
       "      <td>121.931983</td>\n",
       "      <td>267.812099</td>\n",
       "    </tr>\n",
       "    <tr>\n",
       "      <th>cut3</th>\n",
       "      <td>$|\\Delta \\eta (j_1,j_2)| &gt; 4$</td>\n",
       "      <td>826.0</td>\n",
       "      <td>1416.0</td>\n",
       "      <td>17.444649</td>\n",
       "      <td>34.157890</td>\n",
       "    </tr>\n",
       "    <tr>\n",
       "      <th>cut4</th>\n",
       "      <td>$\\mathbf{M(j_1,j_2) &gt;}1000$</td>\n",
       "      <td>419.0</td>\n",
       "      <td>178.0</td>\n",
       "      <td>17.148528</td>\n",
       "      <td>40.942770</td>\n",
       "    </tr>\n",
       "    <tr>\n",
       "      <th>cut5</th>\n",
       "      <td>$\\mathbf{MET &gt;}200$</td>\n",
       "      <td>14.0</td>\n",
       "      <td>64.0</td>\n",
       "      <td>1.585188</td>\n",
       "      <td>2.850721</td>\n",
       "    </tr>\n",
       "    <tr>\n",
       "      <th>cut6</th>\n",
       "      <td>$\\mathbf{H_t &gt;}200$</td>\n",
       "      <td>14.0</td>\n",
       "      <td>63.0</td>\n",
       "      <td>1.595448</td>\n",
       "      <td>2.871947</td>\n",
       "    </tr>\n",
       "    <tr>\n",
       "      <th>cut7</th>\n",
       "      <td>|$\\Delta\\phi(\\text{MET},j)| &gt; 0.5$</td>\n",
       "      <td>1.0</td>\n",
       "      <td>19.0</td>\n",
       "      <td>0.223607</td>\n",
       "      <td>0.382152</td>\n",
       "    </tr>\n",
       "  </tbody>\n",
       "</table>\n",
       "</div>"
      ],
      "text/plain": [
       "                ${\\textbf{[bold]: GeV}}$        S        B           Z  \\\n",
       "cut0  ${\\mathbf{P_T>30}}$, $|\\eta(j)|<5$  34079.0  50000.0  117.528468   \n",
       "cut1             Number of jets $\\geq$ 2  34079.0  40519.0  124.773757   \n",
       "cut2       $\\eta (j_1) * \\eta (j_2) < 0$  25747.0  18841.0  121.931983   \n",
       "cut3       $|\\Delta \\eta (j_1,j_2)| > 4$    826.0   1416.0   17.444649   \n",
       "cut4         $\\mathbf{M(j_1,j_2) >}1000$    419.0    178.0   17.148528   \n",
       "cut5                 $\\mathbf{MET >}200$     14.0     64.0    1.585188   \n",
       "cut6                 $\\mathbf{H_t >}200$     14.0     63.0    1.595448   \n",
       "cut7  |$\\Delta\\phi(\\text{MET},j)| > 0.5$      1.0     19.0    0.223607   \n",
       "\n",
       "             Z_w  \n",
       "cut0  234.415327  \n",
       "cut1  255.666166  \n",
       "cut2  267.812099  \n",
       "cut3   34.157890  \n",
       "cut4   40.942770  \n",
       "cut5    2.850721  \n",
       "cut6    2.871947  \n",
       "cut7    0.382152  "
      ]
     },
     "execution_count": 17,
     "metadata": {},
     "output_type": "execute_result"
    }
   ],
   "source": [
    "t1"
   ]
  },
  {
   "cell_type": "code",
   "execution_count": 18,
   "metadata": {},
   "outputs": [
    {
     "data": {
      "text/html": [
       "<div>\n",
       "<style scoped>\n",
       "    .dataframe tbody tr th:only-of-type {\n",
       "        vertical-align: middle;\n",
       "    }\n",
       "\n",
       "    .dataframe tbody tr th {\n",
       "        vertical-align: top;\n",
       "    }\n",
       "\n",
       "    .dataframe thead th {\n",
       "        text-align: right;\n",
       "    }\n",
       "</style>\n",
       "<table border=\"1\" class=\"dataframe\">\n",
       "  <thead>\n",
       "    <tr style=\"text-align: right;\">\n",
       "      <th></th>\n",
       "      <th>${\\textbf{[bold]: GeV}}$</th>\n",
       "      <th>s_c</th>\n",
       "      <th>s_r</th>\n",
       "      <th>b_a</th>\n",
       "      <th>b_r</th>\n",
       "    </tr>\n",
       "  </thead>\n",
       "  <tbody>\n",
       "    <tr>\n",
       "      <th>cut0</th>\n",
       "      <td>${\\mathbf{P_T&gt;30}}$, $|\\eta(j)|&lt;5$</td>\n",
       "      <td>1</td>\n",
       "      <td>1</td>\n",
       "      <td>1</td>\n",
       "      <td>1</td>\n",
       "    </tr>\n",
       "    <tr>\n",
       "      <th>cut1</th>\n",
       "      <td>Number of jets $\\geq$ 2</td>\n",
       "      <td>1</td>\n",
       "      <td>1</td>\n",
       "      <td>0.81038</td>\n",
       "      <td>0.81038</td>\n",
       "    </tr>\n",
       "    <tr>\n",
       "      <th>cut2</th>\n",
       "      <td>$\\eta (j_1) * \\eta (j_2) &lt; 0$</td>\n",
       "      <td>0.755509</td>\n",
       "      <td>0.755509</td>\n",
       "      <td>0.37682</td>\n",
       "      <td>0.464992</td>\n",
       "    </tr>\n",
       "    <tr>\n",
       "      <th>cut3</th>\n",
       "      <td>$|\\Delta \\eta (j_1,j_2)| &gt; 4$</td>\n",
       "      <td>0.0242378</td>\n",
       "      <td>0.0320814</td>\n",
       "      <td>0.02832</td>\n",
       "      <td>0.0751552</td>\n",
       "    </tr>\n",
       "    <tr>\n",
       "      <th>cut4</th>\n",
       "      <td>$\\mathbf{M(j_1,j_2) &gt;}1000$</td>\n",
       "      <td>0.012295</td>\n",
       "      <td>0.507264</td>\n",
       "      <td>0.00356</td>\n",
       "      <td>0.125706</td>\n",
       "    </tr>\n",
       "    <tr>\n",
       "      <th>cut5</th>\n",
       "      <td>$\\mathbf{MET &gt;}200$</td>\n",
       "      <td>0.00041081</td>\n",
       "      <td>0.0334129</td>\n",
       "      <td>0.00128</td>\n",
       "      <td>0.359551</td>\n",
       "    </tr>\n",
       "    <tr>\n",
       "      <th>cut6</th>\n",
       "      <td>$\\mathbf{H_t &gt;}200$</td>\n",
       "      <td>0.00041081</td>\n",
       "      <td>1</td>\n",
       "      <td>0.00126</td>\n",
       "      <td>0.984375</td>\n",
       "    </tr>\n",
       "    <tr>\n",
       "      <th>cut7</th>\n",
       "      <td>|$\\Delta\\phi(\\text{MET},j)| &gt; 0.5$</td>\n",
       "      <td>2.93436e-05</td>\n",
       "      <td>0.0714286</td>\n",
       "      <td>0.00038</td>\n",
       "      <td>0.301587</td>\n",
       "    </tr>\n",
       "  </tbody>\n",
       "</table>\n",
       "</div>"
      ],
      "text/plain": [
       "                ${\\textbf{[bold]: GeV}}$          s_c        s_r      b_a  \\\n",
       "cut0  ${\\mathbf{P_T>30}}$, $|\\eta(j)|<5$            1          1        1   \n",
       "cut1             Number of jets $\\geq$ 2            1          1  0.81038   \n",
       "cut2       $\\eta (j_1) * \\eta (j_2) < 0$     0.755509   0.755509  0.37682   \n",
       "cut3       $|\\Delta \\eta (j_1,j_2)| > 4$    0.0242378  0.0320814  0.02832   \n",
       "cut4         $\\mathbf{M(j_1,j_2) >}1000$     0.012295   0.507264  0.00356   \n",
       "cut5                 $\\mathbf{MET >}200$   0.00041081  0.0334129  0.00128   \n",
       "cut6                 $\\mathbf{H_t >}200$   0.00041081          1  0.00126   \n",
       "cut7  |$\\Delta\\phi(\\text{MET},j)| > 0.5$  2.93436e-05  0.0714286  0.00038   \n",
       "\n",
       "            b_r  \n",
       "cut0          1  \n",
       "cut1    0.81038  \n",
       "cut2   0.464992  \n",
       "cut3  0.0751552  \n",
       "cut4   0.125706  \n",
       "cut5   0.359551  \n",
       "cut6   0.984375  \n",
       "cut7   0.301587  "
      ]
     },
     "execution_count": 18,
     "metadata": {},
     "output_type": "execute_result"
    }
   ],
   "source": [
    "t2"
   ]
  }
 ],
 "metadata": {
  "kernelspec": {
   "display_name": "Python 2",
   "language": "python",
   "name": "python2"
  },
  "language_info": {
   "codemirror_mode": {
    "name": "ipython",
    "version": 2
   },
   "file_extension": ".py",
   "mimetype": "text/x-python",
   "name": "python",
   "nbconvert_exporter": "python",
   "pygments_lexer": "ipython2",
   "version": "2.7.17"
  }
 },
 "nbformat": 4,
 "nbformat_minor": 2
}
