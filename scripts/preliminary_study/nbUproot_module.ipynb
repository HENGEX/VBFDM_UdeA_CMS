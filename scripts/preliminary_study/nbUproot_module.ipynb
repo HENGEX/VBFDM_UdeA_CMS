{
 "cells": [
  {
   "cell_type": "code",
   "execution_count": null,
   "metadata": {},
   "outputs": [],
   "source": [
    "from uproot_module import Data\n",
    "from vbfdm import VBFDM\n",
    "import uproot\n",
    "import awkward\n",
    "import pandas as pd\n",
    "import numpy as np"
   ]
  },
  {
   "cell_type": "code",
   "execution_count": null,
   "metadata": {},
   "outputs": [],
   "source": [
    "SIGNAL_PATH = \"/home/santiago/VBF_DMSimp_spin0_EWKExcluded/Events/run_18/DMSimpSpin0_MY5000_MX1000_07042020.root\"\n",
    "TREE_NAME = \"Delphes\"\n",
    "N_JETS = 6 #Número de jets\n",
    "\n",
    "pt = (\"Jet.PT[%d]\"%(i) for i in range(N_JETS))\n",
    "phi = (\"Jet.Phi[%d]\"%(i) for i in range(N_JETS))\n",
    "eta = (\"Jet.Eta[%d]\"%(i) for i in range(N_JETS))\n",
    "d = Data(*(*pt,*phi,*eta,\"MissingET.MET\",\"MissingET.Phi\"))\n",
    "d.setSignal(SIGNAL_PATH, TREE_NAME)\n",
    "d.dataframe.head()"
   ]
  },
  {
   "cell_type": "code",
   "execution_count": null,
   "metadata": {},
   "outputs": [],
   "source": [
    "def DeltaPhi(phi1,phi2):\n",
    "    \"\"\"\n",
    "    Returns the difference of phi1 and phi2\n",
    "    \"\"\"\n",
    "    phi = phi1-phi2\n",
    "    for i in range(phi.shape[0]):\n",
    "        if phi[i] >= np.pi:\n",
    "            phi[i] -= 2*np.pi\n",
    "        elif phi[i] < -1*np.pi:\n",
    "            phi[i] += 2*np.pi\n",
    "    return phi\n",
    "\n",
    "# Add new columns to data frame\n",
    "d.dataframe[\"HT\"] = d.dataframe[[\"Jet.PT[{}]\".format(i) for i in range(N_JETS)]].sum(axis=1)\n",
    "\n",
    "# Delta Phi between jets\n",
    "for i in range(N_JETS):\n",
    "    for j in range(i+1,N_JETS):\n",
    "        d.dataframe[f\"DPhi_J{i}_J{j}\"] = DeltaPhi(d.dataframe[f\"Jet.Phi[{i}]\"],d.dataframe[f\"Jet.Phi[{j}]\"])\n",
    "\n",
    "\n",
    "d.dataframe.head()"
   ]
  },
  {
   "cell_type": "code",
   "execution_count": null,
   "metadata": {},
   "outputs": [],
   "source": [
    "# Cuts\n",
    "def cut1(df):\n",
    "    # H > 200\n",
    "    mask = df[\"HT\"] > 200\n",
    "    df = df.loc[mask,:]\n",
    "    return df\n",
    "\n",
    "def cut2(df):\n",
    "    # at least two jets per event \n",
    "    mask = df[\"Jet.PT[0]\"].notnull() & df[\"Jet.PT[1]\"].notnull()\n",
    "    df = df.loc[mask,:]\n",
    "    return df\n",
    "\n",
    "def cut3(df):\n",
    "    # pt > 30 GeV and |eta| < 5 for leading and subleading jets\n",
    "    mask = ((df[\"Jet.PT[0]\"] > 30) & \n",
    "            (df[\"Jet.PT[1]\"] > 30) & \n",
    "            (abs(df[\"Jet.Eta[0]\"]) < 5) &\n",
    "            (abs(df[\"Jet.Eta[1]\"]) < 5))\n",
    "    df = df.loc[mask,:]\n",
    "    return df\n",
    "\n",
    "def cut4(df):\n",
    "    # leading jets in opposite hemispheres\n",
    "    mask = df[\"Jet.Eta[0]\"] * df[\"Jet.Eta[1]\"] < 0\n",
    "    df = df.loc[mask,:]\n",
    "    return df\n",
    "\n",
    "def cut5(df):\n",
    "    # |DeltaPhi| >= 2.3 for leading jets\n",
    "    mask = abs(df[\"DPhi_J0_J1\"]) >= 2.3\n",
    "    df = df.loc[mask,:]\n",
    "    return df\n",
    "\n",
    "def cut6(df):\n",
    "#     # max invariant mass >= 1000\n",
    "#     mask = df.max_inv_mass >= 1000\n",
    "#     df = df.loc[mask,:]\n",
    "    return df\n",
    "\n",
    "def cut7(df):\n",
    "    index = []\n",
    "    for i in range(N_JETS):\n",
    "        for j in range(i+1,N_JETS):\n",
    "            index.append((i,j))\n",
    "            \n",
    "    mask = np.abs(df[[f\"DPhi_J{i}_J{j}\" for i,j in index]]).min(axis=1) > 0.5\n",
    "    df = df.loc[mask,:]\n",
    "    return df"
   ]
  },
  {
   "cell_type": "code",
   "execution_count": null,
   "metadata": {},
   "outputs": [],
   "source": [
    "type(d.dataframe[[\"Jet.PT[{}]\".format(i) for i in range(N_JETS)]].sum(axis=1))"
   ]
  },
  {
   "cell_type": "code",
   "execution_count": null,
   "metadata": {},
   "outputs": [],
   "source": [
    "d.addCut(\"cut1\",cut1)\n",
    "d.addCut(\"cut2\",cut2)\n",
    "d.addCut(\"cut3\",cut3)\n",
    "d.addCut(\"cut4\",cut4)\n",
    "d.addCut(\"cut5\",cut5)\n",
    "d.addCut(\"cut6\",cut6)\n",
    "d.addCut(\"cut7\",cut7)\n",
    "\n",
    "d.cutFlow()"
   ]
  },
  {
   "cell_type": "code",
   "execution_count": null,
   "metadata": {},
   "outputs": [],
   "source": [
    "dic = d.cutFlow()\n",
    "pd.Series(dic)"
   ]
  },
  {
   "cell_type": "code",
   "execution_count": null,
   "metadata": {},
   "outputs": [],
   "source": [
    "SIGNAL_PATH = \"/home/santiago/VBF_DMSimp_spin0_EWKExcluded/Events/run_18/DMSimpSpin0_MY5000_MX1000_07042020.root\"\n",
    "\n",
    "vbf = VBFDM(SIGNAL_PATH, SIGNAL_PATH)"
   ]
  },
  {
   "cell_type": "code",
   "execution_count": null,
   "metadata": {},
   "outputs": [],
   "source": [
    "vbf.cut_flow()"
   ]
  },
  {
   "cell_type": "code",
   "execution_count": null,
   "metadata": {},
   "outputs": [],
   "source": []
  }
 ],
 "metadata": {
  "kernelspec": {
   "display_name": "Python 3",
   "language": "python",
   "name": "python3"
  },
  "language_info": {
   "codemirror_mode": {
    "name": "ipython",
    "version": 3
   },
   "file_extension": ".py",
   "mimetype": "text/x-python",
   "name": "python",
   "nbconvert_exporter": "python",
   "pygments_lexer": "ipython3",
   "version": "3.6.9"
  }
 },
 "nbformat": 4,
 "nbformat_minor": 2
}
