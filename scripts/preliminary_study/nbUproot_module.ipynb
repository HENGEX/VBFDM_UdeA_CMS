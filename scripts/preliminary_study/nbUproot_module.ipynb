{
 "cells": [
  {
   "cell_type": "code",
   "execution_count": null,
   "metadata": {},
   "outputs": [],
   "source": [
    "from uproot_module import Data\n",
    "from vbfdm import VBFDM\n",
    "import uproot\n",
    "import awkward\n",
    "import pandas as pd\n",
    "import numpy as np\n",
    "import matplotlib.pyplot as plt\n",
    "import mplhep as hep\n",
    "\n",
    "#del hep.style.ROOT[\"xaxis.labellocation\"]\n",
    "#del hep.style.ROOT[\"yaxis.labellocation\"]\n",
    "plt.style.use(hep.style.ROOT)"
   ]
  },
  {
   "cell_type": "code",
   "execution_count": null,
   "metadata": {},
   "outputs": [],
   "source": [
    "SIGNAL_PATH = \"/home/santiago/VBF_DMSimp_spin0_EWKExcluded/Events/run_18/DMSimpSpin0_MY5000_MX1000_07042020.root\"\n",
    "BCKGR_PATH = \"/home/santiago/VBFDM_UdeA_CMS/scripts/preliminary_study/data/background/ZjetstoNuNu1_72.172087677pb_renamed.csv\"\n",
    "vbf5000_1000 = VBFDM(SIGNAL_PATH, BCKGR_PATH)"
   ]
  },
  {
   "cell_type": "code",
   "execution_count": null,
   "metadata": {},
   "outputs": [],
   "source": [
    "SIGNAL_PATH = \"/home/santiago/VBF_DMSimp_spin0_EWKExcluded/Events/run_19/DMSimpSpin0_MY1000_MX100_14052020.root\"\n",
    "BCKGR_PATH = \"/home/santiago/VBFDM_UdeA_CMS/scripts/preliminary_study/data/background/ZjetstoNuNu1_72.172087677pb_renamed.csv\"\n",
    "vbf1000_100 = VBFDM(SIGNAL_PATH, BCKGR_PATH)"
   ]
  },
  {
   "cell_type": "code",
   "execution_count": null,
   "metadata": {},
   "outputs": [],
   "source": [
    "SIGNAL_PATH = \"/home/santiago/VBF_DMSimp_spin0_EWKExcluded/Events/run_20/DMSimpSpin0_MY100_MX10_14052020.root\"\n",
    "BCKGR_PATH = \"/home/santiago/VBFDM_UdeA_CMS/scripts/preliminary_study/data/background/ZjetstoNuNu1_72.172087677pb_renamed.csv\"\n",
    "vbf100_10 = VBFDM(SIGNAL_PATH, BCKGR_PATH)"
   ]
  },
  {
   "cell_type": "code",
   "execution_count": null,
   "metadata": {},
   "outputs": [],
   "source": [
    "def plotHisto(bkg, sig, bkg_cs, sig_cs, limits, bkg_label=None, sig_label=None, bins=100, size=(10,6), name=None):\n",
    "    \"\"\"\n",
    "    :param bkg    Array with the background data\n",
    "    :param sig    Array or array list with data of signal/signals\n",
    "    :param bkg_cs Background cross section\n",
    "    :param sig_cs Signal cross section (must be the same size as sig)\n",
    "    :limits       Lower and upper limits\n",
    "    :bkg_label    Label for the background\n",
    "    :sig_label    Label(s) for the signal(s)\n",
    "    :bins         Number of bins\n",
    "    :size         Plot size\n",
    "    \"\"\"\n",
    "    if type(sig) != list:\n",
    "        sig = [sig]\n",
    "    if type(sig_cs) != list:\n",
    "        sig_cs = [sig_cs]\n",
    "    if type(sig_label) != list:\n",
    "        sig_label = [sig_label]\n",
    "        \n",
    "    #TODO: Validate the size of \"sig...\" variables\n",
    "    \n",
    "    luminosity = 150  #fb^-1\n",
    "    b_w = luminosity*bkg_cs/len(bkg)  # weight of the background\n",
    "    \n",
    "    # weight of the signal\n",
    "    s_w = []\n",
    "    for i in range(len(sig)):\n",
    "        s_w.append(luminosity*sig_cs[i]/len(sig[i]))\n",
    "    \n",
    "    fig, ax = plt.subplots(1,figsize=size)\n",
    "    ax.hist(bkg, histtype=\"step\", bins=bins, density=True, label=bkg_label);\n",
    "    for i in range(len(sig)):\n",
    "        ax.hist(sig[i], histtype=\"step\", bins=bins, density=True, label=sig_label[i])\n",
    "    ax.set_xlim(limits[0],limits[1])\n",
    "    \n",
    "    if name is not None:\n",
    "        ax.set(xlabel=name, ylabel=\"Events\")\n",
    "    else:\n",
    "        ax.set(ylabel=\"Events\")\n",
    "    ax.set_title(\"150 fb$^{-1}$ (13 TeV)\", loc=\"right\")\n",
    "    ax.legend(fontsize=\"large\", loc=\"best\");"
   ]
  },
  {
   "cell_type": "code",
   "execution_count": null,
   "metadata": {},
   "outputs": [],
   "source": [
    "vbf100_10.cut_flow(0)\n",
    "vbf1000_100.cut_flow(0)\n",
    "vbf5000_1000.cut_flow(0)"
   ]
  },
  {
   "cell_type": "code",
   "execution_count": null,
   "metadata": {},
   "outputs": [],
   "source": [
    "cut_name = 'HT'\n",
    "bkg = vbf100_10.background.dataframe['HT']\n",
    "s1 = vbf100_10.signal.dataframe['HT']\n",
    "s2 = vbf1000_100.signal.dataframe['HT']\n",
    "s3 = vbf5000_1000.signal.dataframe['HT']\n",
    "\n",
    "plotHisto(bkg[bkg>50],[s1, s2, s3],\n",
    "          7.217209e4,\n",
    "          [8.44992635099, 3.66740016, 0.02681618247],\n",
    "          (0,7000),\n",
    "          bkg_label=\"Z+Jets\",\n",
    "          sig_label=[\"MY100 MX10\", \"MY1000 MX100\", \"MY5000 MX1000\"],\n",
    "          bins=100,\n",
    "          name=cut_name)"
   ]
  },
  {
   "cell_type": "code",
   "execution_count": null,
   "metadata": {},
   "outputs": [],
   "source": [
    "vbf100_10.cut_flow(1)\n",
    "vbf1000_100.cut_flow(1)\n",
    "vbf5000_1000.cut_flow(1)"
   ]
  },
  {
   "cell_type": "code",
   "execution_count": null,
   "metadata": {},
   "outputs": [],
   "source": [
    "cut_name = r'$\\eta(J_0)$'\n",
    "bkg = vbf100_10.background.dataframe['Jet.Eta[0]']\n",
    "s1 = vbf100_10.signal.dataframe['Jet.Eta[0]']\n",
    "s2 = vbf1000_100.signal.dataframe['Jet.Eta[0]']\n",
    "s3 = vbf5000_1000.signal.dataframe['Jet.Eta[0]']\n",
    "\n",
    "plotHisto(bkg,[s1, s2, s3],\n",
    "          7.217209e4,\n",
    "          [8.44992635099, 3.66740016, 0.02681618247],\n",
    "          (5,-5),\n",
    "          bkg_label=\"Z+Jets\",\n",
    "          sig_label=[\"MY100 MX10\", \"MY1000 MX100\", \"MY5000 MX1000\"],\n",
    "          bins=100,         \n",
    "          name=cut_name)"
   ]
  },
  {
   "cell_type": "code",
   "execution_count": null,
   "metadata": {},
   "outputs": [],
   "source": [
    "cut_name = r'$\\eta(J_1)$'\n",
    "bkg = vbf100_10.background.dataframe['Jet.Eta[1]']\n",
    "s1 = vbf100_10.signal.dataframe['Jet.Eta[1]']\n",
    "s2 = vbf1000_100.signal.dataframe['Jet.Eta[1]']\n",
    "s3 = vbf5000_1000.signal.dataframe['Jet.Eta[1]']\n",
    "\n",
    "plotHisto(bkg,[s1, s2, s3],\n",
    "          7.217209e4,\n",
    "          [8.44992635099, 3.66740016, 0.02681618247],\n",
    "          (5,-5),\n",
    "          bkg_label=\"Z+Jets\",\n",
    "          sig_label=[\"MY100 MX10\", \"MY1000 MX100\", \"MY5000 MX1000\"],\n",
    "          bins=100,         \n",
    "          name=cut_name)"
   ]
  },
  {
   "cell_type": "code",
   "execution_count": null,
   "metadata": {},
   "outputs": [],
   "source": [
    "cut_name = r'$\\eta(J_0)*\\eta(J_1)$'\n",
    "bkg = vbf100_10.background.dataframe['Jet.Eta[0]']*vbf100_10.background.dataframe['Jet.Eta[1]']\n",
    "s1 = vbf100_10.signal.dataframe['Jet.Eta[0]']*vbf100_10.signal.dataframe['Jet.Eta[1]']\n",
    "s2 = vbf1000_100.signal.dataframe['Jet.Eta[0]']*vbf1000_100.signal.dataframe['Jet.Eta[1]']\n",
    "s3 = vbf5000_1000.signal.dataframe['Jet.Eta[0]']*vbf5000_1000.signal.dataframe['Jet.Eta[1]']\n",
    "\n",
    "plotHisto(bkg,[s1, s2, s3],\n",
    "          7.217209e4,\n",
    "          [8.44992635099, 3.66740016, 0.02681618247],\n",
    "          (5,-5),\n",
    "          bkg_label=\"Z+Jets\",\n",
    "          sig_label=[\"MY100 MX10\", \"MY1000 MX100\", \"MY5000 MX1000\"],\n",
    "          bins=100,         \n",
    "          name=cut_name)"
   ]
  },
  {
   "cell_type": "code",
   "execution_count": null,
   "metadata": {},
   "outputs": [],
   "source": [
    "vbf100_10.cut_flow(2)\n",
    "vbf1000_100.cut_flow(2)\n",
    "vbf5000_1000.cut_flow(2)"
   ]
  },
  {
   "cell_type": "code",
   "execution_count": null,
   "metadata": {},
   "outputs": [],
   "source": [
    "cut_name = r'$|\\Delta \\phi (J_0,J_1)|$'\n",
    "bkg = np.abs(vbf100_10.background.dataframe['DPhi_J0_J1'])\n",
    "s1 = np.abs(vbf100_10.signal.dataframe['DPhi_J0_J1'])\n",
    "s2 = np.abs(vbf1000_100.signal.dataframe['DPhi_J0_J1'])\n",
    "s3 = np.abs(vbf5000_1000.signal.dataframe['DPhi_J0_J1'])\n",
    "\n",
    "plotHisto(bkg,[s1, s2, s3],\n",
    "          7.217209e4,\n",
    "          [8.44992635099, 3.66740016, 0.02681618247],\n",
    "          (0,4),\n",
    "          bkg_label=\"Z+Jets\",\n",
    "          sig_label=[\"MY100 MX10\", \"MY1000 MX100\", \"MY5000 MX1000\"],\n",
    "          bins=100,         \n",
    "          name=cut_name)"
   ]
  },
  {
   "cell_type": "code",
   "execution_count": null,
   "metadata": {},
   "outputs": [],
   "source": [
    "vbf5000_1000.signal.dataframe.columns\n",
    "# vbf5000_1000.signal.cuts"
   ]
  },
  {
   "cell_type": "code",
   "execution_count": null,
   "metadata": {},
   "outputs": [],
   "source": [
    "vbf100_10.cut_flow(3)\n",
    "vbf1000_100.cut_flow(3)\n",
    "vbf5000_1000.cut_flow(3)"
   ]
  },
  {
   "cell_type": "code",
   "execution_count": null,
   "metadata": {},
   "outputs": [],
   "source": [
    "cut_name = r'$max(m(J_i,J_j))$'\n",
    "bkg = np.abs(vbf100_10.background.dataframe['max_inv_mass'])\n",
    "s1 = np.abs(vbf100_10.signal.dataframe['max_inv_mass'])\n",
    "s2 = np.abs(vbf1000_100.signal.dataframe['max_inv_mass'])\n",
    "s3 = np.abs(vbf5000_1000.signal.dataframe['max_inv_mass'])\n",
    "\n",
    "plotHisto(bkg,[s1, s2, s3],\n",
    "          7.217209e4,\n",
    "          [8.44992635099, 3.66740016, 0.02681618247],\n",
    "          (0,6000),\n",
    "          bkg_label=\"Z+Jets\",\n",
    "          sig_label=[\"MY100 MX10\", \"MY1000 MX100\", \"MY5000 MX1000\"],\n",
    "          bins=100,         \n",
    "          name=cut_name)"
   ]
  },
  {
   "cell_type": "code",
   "execution_count": null,
   "metadata": {},
   "outputs": [],
   "source": [
    "vbf100_10.cut_flow(4)\n",
    "vbf1000_100.cut_flow(4)\n",
    "vbf5000_1000.cut_flow(4)"
   ]
  },
  {
   "cell_type": "code",
   "execution_count": null,
   "metadata": {},
   "outputs": [],
   "source": [
    "def minDEta(df):\n",
    "    return np.abs(df[[f\"DPhi_MET_J{i}\" for i in range(3)]] ).min(axis=1)\n",
    "\n",
    "cut_name = r'$min(|\\Delta\\phi(MET,J_i)|)$'\n",
    "bkg = minDEta(vbf100_10.background.dataframe)\n",
    "s1 = minDEta(vbf100_10.signal.dataframe)\n",
    "s2 = minDEta(vbf1000_100.signal.dataframe)\n",
    "s3 = minDEta(vbf5000_1000.signal.dataframe)\n",
    "\n",
    "plotHisto(bkg,[s1, s2, s3],\n",
    "          7.217209e4,\n",
    "          [8.44992635099, 3.66740016, 0.02681618247],\n",
    "          (0,4),\n",
    "          bkg_label=\"Z+Jets\",\n",
    "          sig_label=[\"MY100 MX10\", \"MY1000 MX100\", \"MY5000 MX1000\"],\n",
    "          bins=100,         \n",
    "          name=cut_name)"
   ]
  },
  {
   "cell_type": "code",
   "execution_count": null,
   "metadata": {},
   "outputs": [],
   "source": [
    "vbf100_10.cut_flow(5)\n",
    "vbf1000_100.cut_flow(5)\n",
    "vbf5000_1000.cut_flow(5)"
   ]
  },
  {
   "cell_type": "code",
   "execution_count": null,
   "metadata": {},
   "outputs": [],
   "source": [
    "def deltaEta(df):\n",
    "    return np.abs(df[\"Jet.Eta[0]\"] - df[\"Jet.Eta[1]\"])\n",
    "\n",
    "cut_name = r'$|\\Delta \\eta (J_0,J_1)|$'\n",
    "bkg = deltaEta(vbf100_10.background.dataframe)\n",
    "s1 = deltaEta(vbf100_10.signal.dataframe)\n",
    "s2 = deltaEta(vbf1000_100.signal.dataframe)\n",
    "s3 = deltaEta(vbf5000_1000.signal.dataframe)\n",
    "\n",
    "plotHisto(bkg,[s1, s2, s3],\n",
    "          7.217209e4,\n",
    "          [8.44992635099, 3.66740016, 0.02681618247],\n",
    "          (0,6),\n",
    "          bkg_label=\"Z+Jets\",\n",
    "          sig_label=[\"MY100 MX10\", \"MY1000 MX100\", \"MY5000 MX1000\"],\n",
    "          bins=100,         \n",
    "          name=cut_name)"
   ]
  },
  {
   "cell_type": "code",
   "execution_count": null,
   "metadata": {},
   "outputs": [],
   "source": [
    "vbf100_10.cut_flow(6)\n",
    "vbf1000_100.cut_flow(6)\n",
    "vbf5000_1000.cut_flow(6)"
   ]
  }
 ],
 "metadata": {
  "kernelspec": {
   "display_name": "Python 3",
   "language": "python",
   "name": "python3"
  },
  "language_info": {
   "codemirror_mode": {
    "name": "ipython",
    "version": 3
   },
   "file_extension": ".py",
   "mimetype": "text/x-python",
   "name": "python",
   "nbconvert_exporter": "python",
   "pygments_lexer": "ipython3",
   "version": "3.6.9"
  }
 },
 "nbformat": 4,
 "nbformat_minor": 2
}
