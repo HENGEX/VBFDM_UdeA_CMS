{
 "cells": [
  {
   "cell_type": "code",
   "execution_count": 1,
   "metadata": {},
   "outputs": [],
   "source": [
    "from uproot_module import Data\n",
    "from vbfdm import VBFDM\n",
    "import uproot\n",
    "import awkward1\n",
    "\n",
    "}import pandas as pd\n",
    "import numpy as np"
   ]
  },
  {
   "cell_type": "code",
   "execution_count": 2,
   "metadata": {},
   "outputs": [],
   "source": [
    "SIGNAL_PATH = \"/home/santiago/VBF_DMSimp_spin0_EWKExcluded/Events/run_18/DMSimpSpin0_MY5000_MX1000_07042020.root\"\n",
    "\n",
    "vbf = VBFDM(SIGNAL_PATH, SIGNAL_PATH)"
   ]
  },
  {
   "cell_type": "code",
   "execution_count": 3,
   "metadata": {},
   "outputs": [
    {
     "data": {
      "text/html": [
       "<div>\n",
       "<style scoped>\n",
       "    .dataframe tbody tr th:only-of-type {\n",
       "        vertical-align: middle;\n",
       "    }\n",
       "\n",
       "    .dataframe tbody tr th {\n",
       "        vertical-align: top;\n",
       "    }\n",
       "\n",
       "    .dataframe thead th {\n",
       "        text-align: right;\n",
       "    }\n",
       "</style>\n",
       "<table border=\"1\" class=\"dataframe\">\n",
       "  <thead>\n",
       "    <tr style=\"text-align: right;\">\n",
       "      <th></th>\n",
       "      <th>sig</th>\n",
       "      <th>back</th>\n",
       "    </tr>\n",
       "  </thead>\n",
       "  <tbody>\n",
       "    <tr>\n",
       "      <th>$no\\ cuts$</th>\n",
       "      <td>34079.0</td>\n",
       "      <td>34079.0</td>\n",
       "    </tr>\n",
       "    <tr>\n",
       "      <th>$H_T &gt; 200$</th>\n",
       "      <td>34078.0</td>\n",
       "      <td>34078.0</td>\n",
       "    </tr>\n",
       "    <tr>\n",
       "      <th>$N^o Jets \\geq 2$</th>\n",
       "      <td>34078.0</td>\n",
       "      <td>34078.0</td>\n",
       "    </tr>\n",
       "    <tr>\n",
       "      <th>$P_T(J_i)&gt;30\\ \\ and\\ \\eta(J_i)&lt;5\\ i=0,1$</th>\n",
       "      <td>34078.0</td>\n",
       "      <td>34078.0</td>\n",
       "    </tr>\n",
       "    <tr>\n",
       "      <th>$\\eta (J_0)*\\eta (J_1) &lt; 0$</th>\n",
       "      <td>25746.0</td>\n",
       "      <td>25746.0</td>\n",
       "    </tr>\n",
       "    <tr>\n",
       "      <th>$|\\Delta \\phi (J_0,J_1)| &gt; 2.3$</th>\n",
       "      <td>25508.0</td>\n",
       "      <td>25508.0</td>\n",
       "    </tr>\n",
       "    <tr>\n",
       "      <th>$max(m(J_i,J_j)) &gt; 1000$</th>\n",
       "      <td>25508.0</td>\n",
       "      <td>25508.0</td>\n",
       "    </tr>\n",
       "    <tr>\n",
       "      <th>$min(|\\Delta\\phi(MET,J_i)|) &gt; 0.5,\\ i=0...4$</th>\n",
       "      <td>4987.0</td>\n",
       "      <td>4987.0</td>\n",
       "    </tr>\n",
       "    <tr>\n",
       "      <th>$|\\Delta \\eta (J_0,J_1)| &lt; 2.5$</th>\n",
       "      <td>4001.0</td>\n",
       "      <td>4001.0</td>\n",
       "    </tr>\n",
       "  </tbody>\n",
       "</table>\n",
       "</div>"
      ],
      "text/plain": [
       "                                                  sig     back\n",
       "$no\\ cuts$                                    34079.0  34079.0\n",
       "$H_T > 200$                                   34078.0  34078.0\n",
       "$N^o Jets \\geq 2$                             34078.0  34078.0\n",
       "$P_T(J_i)>30\\ \\ and\\ \\eta(J_i)<5\\ i=0,1$      34078.0  34078.0\n",
       "$\\eta (J_0)*\\eta (J_1) < 0$                   25746.0  25746.0\n",
       "$|\\Delta \\phi (J_0,J_1)| > 2.3$               25508.0  25508.0\n",
       "$max(m(J_i,J_j)) > 1000$                      25508.0  25508.0\n",
       "$min(|\\Delta\\phi(MET,J_i)|) > 0.5,\\ i=0...4$   4987.0   4987.0\n",
       "$|\\Delta \\eta (J_0,J_1)| < 2.5$                4001.0   4001.0"
      ]
     },
     "execution_count": 3,
     "metadata": {},
     "output_type": "execute_result"
    }
   ],
   "source": [
    "vbf.cut_flow()"
   ]
  },
  {
   "cell_type": "code",
   "execution_count": null,
   "metadata": {},
   "outputs": [],
   "source": []
  },
  {
   "cell_type": "code",
   "execution_count": null,
   "metadata": {},
   "outputs": [],
   "source": []
  },
  {
   "cell_type": "code",
   "execution_count": null,
   "metadata": {},
   "outputs": [],
   "source": []
  }
 ],
 "metadata": {
  "kernelspec": {
   "display_name": "Python 3",
   "language": "python",
   "name": "python3"
  },
  "language_info": {
   "codemirror_mode": {
    "name": "ipython",
    "version": 3
   },
   "file_extension": ".py",
   "mimetype": "text/x-python",
   "name": "python",
   "nbconvert_exporter": "python",
   "pygments_lexer": "ipython3",
   "version": "3.6.9"
  }
 },
 "nbformat": 4,
 "nbformat_minor": 2
}
