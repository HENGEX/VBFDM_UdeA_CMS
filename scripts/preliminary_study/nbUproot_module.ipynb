{
 "cells": [
  {
   "cell_type": "code",
   "execution_count": 22,
   "metadata": {},
   "outputs": [],
   "source": [
    "from uproot_module import Data\n",
    "import uproot\n",
    "import awkward\n",
    "import pandas as pd"
   ]
  },
  {
   "cell_type": "code",
   "execution_count": 6,
   "metadata": {},
   "outputs": [
    {
     "name": "stdout",
     "output_type": "stream",
     "text": [
      "Jet.PT[[0, 1]]\n",
      "Jet.Phi[[0, 1]]\n"
     ]
    },
    {
     "data": {
      "text/html": [
       "<div>\n",
       "<style scoped>\n",
       "    .dataframe tbody tr th:only-of-type {\n",
       "        vertical-align: middle;\n",
       "    }\n",
       "\n",
       "    .dataframe tbody tr th {\n",
       "        vertical-align: top;\n",
       "    }\n",
       "\n",
       "    .dataframe thead th {\n",
       "        text-align: right;\n",
       "    }\n",
       "</style>\n",
       "<table border=\"1\" class=\"dataframe\">\n",
       "  <thead>\n",
       "    <tr style=\"text-align: right;\">\n",
       "      <th></th>\n",
       "      <th>Jet.PT</th>\n",
       "      <th>Jet.Phi</th>\n",
       "      <th>MissingET.MET</th>\n",
       "      <th>MissingET.Phi</th>\n",
       "    </tr>\n",
       "  </thead>\n",
       "  <tbody>\n",
       "    <tr>\n",
       "      <th>0</th>\n",
       "      <td>[2611.701, 2441.1091, 27.122381, 24.460632]</td>\n",
       "      <td>[-1.361408, 1.7731673, -1.8224834, 0.4630849]</td>\n",
       "      <td>198.476883</td>\n",
       "      <td>1.941587</td>\n",
       "    </tr>\n",
       "    <tr>\n",
       "      <th>1</th>\n",
       "      <td>[2121.402, 978.5685, 689.59515, 127.36351, 54....</td>\n",
       "      <td>[0.035726447, 2.9122832, -2.657105, -2.9357722...</td>\n",
       "      <td>472.074036</td>\n",
       "      <td>3.070084</td>\n",
       "    </tr>\n",
       "    <tr>\n",
       "      <th>2</th>\n",
       "      <td>[2065.1433, 1989.5405, 185.70207, 33.396263, 3...</td>\n",
       "      <td>[-0.76010954, 2.4621053, 0.5589036, -2.969895,...</td>\n",
       "      <td>136.096527</td>\n",
       "      <td>2.243740</td>\n",
       "    </tr>\n",
       "    <tr>\n",
       "      <th>3</th>\n",
       "      <td>[1088.2563, 884.0749, 173.26927, 105.40972]</td>\n",
       "      <td>[0.4684148, -2.658156, -2.6574259, -2.0437043]</td>\n",
       "      <td>111.293030</td>\n",
       "      <td>1.529968</td>\n",
       "    </tr>\n",
       "    <tr>\n",
       "      <th>4</th>\n",
       "      <td>[2405.0735, 2305.2903, 203.49843, 67.99351, 37...</td>\n",
       "      <td>[2.937418, -0.23584753, 2.1395578, -1.329002, ...</td>\n",
       "      <td>180.646027</td>\n",
       "      <td>-0.234490</td>\n",
       "    </tr>\n",
       "  </tbody>\n",
       "</table>\n",
       "</div>"
      ],
      "text/plain": [
       "                                              Jet.PT  \\\n",
       "0        [2611.701, 2441.1091, 27.122381, 24.460632]   \n",
       "1  [2121.402, 978.5685, 689.59515, 127.36351, 54....   \n",
       "2  [2065.1433, 1989.5405, 185.70207, 33.396263, 3...   \n",
       "3        [1088.2563, 884.0749, 173.26927, 105.40972]   \n",
       "4  [2405.0735, 2305.2903, 203.49843, 67.99351, 37...   \n",
       "\n",
       "                                             Jet.Phi  MissingET.MET  \\\n",
       "0      [-1.361408, 1.7731673, -1.8224834, 0.4630849]     198.476883   \n",
       "1  [0.035726447, 2.9122832, -2.657105, -2.9357722...     472.074036   \n",
       "2  [-0.76010954, 2.4621053, 0.5589036, -2.969895,...     136.096527   \n",
       "3     [0.4684148, -2.658156, -2.6574259, -2.0437043]     111.293030   \n",
       "4  [2.937418, -0.23584753, 2.1395578, -1.329002, ...     180.646027   \n",
       "\n",
       "   MissingET.Phi  \n",
       "0       1.941587  \n",
       "1       3.070084  \n",
       "2       2.243740  \n",
       "3       1.529968  \n",
       "4      -0.234490  "
      ]
     },
     "execution_count": 6,
     "metadata": {},
     "output_type": "execute_result"
    }
   ],
   "source": [
    "SIGNAL_PATH = \"/home/santiago/VBF_DMSimp_spin0_EWKExcluded/Events/run_18/DMSimpSpin0_MY5000_MX1000_07042020.root\"\n",
    "TREE_NAME = \"Delphes\"\n",
    "\n",
    "pt = (\"Jet.PT[%d]\"%(i) for i in range(2))\n",
    "phi = (\"Jet.Phi[%d]\"%(i) for i in range(2))\n",
    "d = Data(*(*pt,*phi,\"MissingET.MET\",\"MissingET.Phi\"))\n",
    "d.setSignal(SIGNAL_PATH, TREE_NAME)\n",
    "d.dataframe.head()"
   ]
  },
  {
   "cell_type": "code",
   "execution_count": 4,
   "metadata": {},
   "outputs": [],
   "source": [
    "dfPT = d.dataframe[\"Jet.PT\"]"
   ]
  },
  {
   "cell_type": "code",
   "execution_count": 33,
   "metadata": {},
   "outputs": [
    {
     "data": {
      "text/plain": [
       "        entry\n",
       "Jet.PT  0              [2611.701, 2441.1091, 27.122381, 24.460632]\n",
       "        1        [2121.402, 978.5685, 689.59515, 127.36351, 54....\n",
       "        2        [2065.1433, 1989.5405, 185.70207, 33.396263, 3...\n",
       "        3              [1088.2563, 884.0749, 173.26927, 105.40972]\n",
       "        4        [2405.0735, 2305.2903, 203.49843, 67.99351, 37...\n",
       "                                       ...                        \n",
       "        34074    [2582.4846, 2115.521, 535.0259, 221.5823, 64.4...\n",
       "        34075    [2304.3674, 2259.9983, 57.157444, 30.430975, 2...\n",
       "        34076                    [1492.3352, 1305.7035, 46.217793]\n",
       "        34077    [2205.585, 2126.9424, 215.92505, 140.37036, 93...\n",
       "        34078         [1612.1184, 1224.5667, 257.48444, 39.757782]\n",
       "Length: 34079, dtype: object"
      ]
     },
     "execution_count": 33,
     "metadata": {},
     "output_type": "execute_result"
    }
   ],
   "source": [
    "sig = uproot.open(SIGNAL_PATH)[TREE_NAME]\n",
    "arr = sig.arrays(branches=[\"Jet.PT\"], outputtype=pd.DataFrame)\n",
    "arr.unstack()"
   ]
  },
  {
   "cell_type": "code",
   "execution_count": 44,
   "metadata": {},
   "outputs": [
    {
     "data": {
      "text/plain": [
       "Int64Index([0, 1, 2, 3, 4, 5, 6, 7, 8, 9, 10, 11, 12], dtype='int64', name='subentry')"
      ]
     },
     "execution_count": 44,
     "metadata": {},
     "output_type": "execute_result"
    }
   ],
   "source": [
    "df = sig.pandas.df(\"Jet.PT\").unstack()\n",
    "df[\"Jet.PT\"].columns"
   ]
  }
 ],
 "metadata": {
  "kernelspec": {
   "display_name": "Python 3",
   "language": "python",
   "name": "python3"
  },
  "language_info": {
   "codemirror_mode": {
    "name": "ipython",
    "version": 3
   },
   "file_extension": ".py",
   "mimetype": "text/x-python",
   "name": "python",
   "nbconvert_exporter": "python",
   "pygments_lexer": "ipython3",
   "version": "3.6.9"
  }
 },
 "nbformat": 4,
 "nbformat_minor": 2
}
