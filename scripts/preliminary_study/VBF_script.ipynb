{
 "cells": [
  {
   "cell_type": "code",
   "execution_count": 1,
   "metadata": {},
   "outputs": [],
   "source": [
    "# # setting the path for python to find ROOT\n",
    "# import sys\n",
    "# sys.path.append(\"/home/daniel/ROOT/build\")\n",
    "# sys.path.append(\"/home/daniel/ROOT/build/bin/\")\n",
    "# sys.path.append(\"/home/daniel/ROOT/build/include/\")\n",
    "# sys.path.append(\"/home/daniel/ROOT/build/lib/\")"
   ]
  },
  {
   "cell_type": "code",
   "execution_count": 2,
   "metadata": {},
   "outputs": [
    {
     "name": "stdout",
     "output_type": "stream",
     "text": [
      "Welcome to JupyROOT 6.15/01\n"
     ]
    }
   ],
   "source": [
    "from math import *\n",
    "import ROOT\n",
    "from ROOT import gROOT "
   ]
  },
  {
   "cell_type": "markdown",
   "metadata": {},
   "source": [
    "### Setting PATH and loading libraries for Delphes and ExRootAnalysis "
   ]
  },
  {
   "cell_type": "code",
   "execution_count": 3,
   "metadata": {},
   "outputs": [
    {
     "name": "stdout",
     "output_type": "stream",
     "text": [
      "Delphes classes imported\n"
     ]
    },
    {
     "name": "stderr",
     "output_type": "stream",
     "text": [
      "Error in cling::AutoloadingVisitor::InsertIntoAutoloadingState:\n",
      "   Missing FileEntry for ExRootAnalysis/ExRootTreeReader.h\n",
      "   requested to autoload type ExRootTreeReader\n",
      "Error in cling::AutoloadingVisitor::InsertIntoAutoloadingState:\n",
      "   Missing FileEntry for ExRootAnalysis/ExRootTreeWriter.h\n",
      "   requested to autoload type ExRootTreeWriter\n",
      "Error in cling::AutoloadingVisitor::InsertIntoAutoloadingState:\n",
      "   Missing FileEntry for ExRootAnalysis/ExRootTreeBranch.h\n",
      "   requested to autoload type ExRootTreeBranch\n",
      "Error in cling::AutoloadingVisitor::InsertIntoAutoloadingState:\n",
      "   Missing FileEntry for ExRootAnalysis/ExRootResult.h\n",
      "   requested to autoload type ExRootResult\n",
      "Error in cling::AutoloadingVisitor::InsertIntoAutoloadingState:\n",
      "   Missing FileEntry for ExRootAnalysis/ExRootClassifier.h\n",
      "   requested to autoload type ExRootClassifier\n",
      "Error in cling::AutoloadingVisitor::InsertIntoAutoloadingState:\n",
      "   Missing FileEntry for ExRootAnalysis/ExRootFilter.h\n",
      "   requested to autoload type ExRootFilter\n",
      "Error in cling::AutoloadingVisitor::InsertIntoAutoloadingState:\n",
      "   Missing FileEntry for ExRootAnalysis/ExRootProgressBar.h\n",
      "   requested to autoload type ExRootProgressBar\n",
      "Error in cling::AutoloadingVisitor::InsertIntoAutoloadingState:\n",
      "   Missing FileEntry for ExRootAnalysis/ExRootConfReader.h\n",
      "   requested to autoload type ExRootConfParam\n",
      "Error in cling::AutoloadingVisitor::InsertIntoAutoloadingState:\n",
      "   Missing FileEntry for ExRootAnalysis/ExRootConfReader.h\n",
      "   requested to autoload type ExRootConfReader\n",
      "Error in cling::AutoloadingVisitor::InsertIntoAutoloadingState:\n",
      "   Missing FileEntry for ExRootAnalysis/ExRootTask.h\n",
      "   requested to autoload type ExRootTask\n",
      "Warning in <TClassTable::Add>: class ExRootTreeReader already in TClassTable\n",
      "Warning in <TClassTable::Add>: class ExRootTreeWriter already in TClassTable\n",
      "Warning in <TClassTable::Add>: class ExRootTreeBranch already in TClassTable\n",
      "Warning in <TClassTable::Add>: class ExRootResult already in TClassTable\n",
      "Warning in <TClassTable::Add>: class ExRootClassifier already in TClassTable\n",
      "Warning in <TClassTable::Add>: class ExRootFilter already in TClassTable\n",
      "Error in cling::AutoloadingVisitor::InsertIntoAutoloadingState:\n",
      "   Missing FileEntry for ExRootAnalysis/ExRootClasses.h\n",
      "   requested to autoload type TSortableObject\n",
      "Error in cling::AutoloadingVisitor::InsertIntoAutoloadingState:\n",
      "   Missing FileEntry for ExRootAnalysis/ExRootClasses.h\n",
      "   requested to autoload type TRootWeight\n",
      "Error in cling::AutoloadingVisitor::InsertIntoAutoloadingState:\n",
      "   Missing FileEntry for ExRootAnalysis/ExRootClasses.h\n",
      "   requested to autoload type TRootLHEFEvent\n",
      "Error in cling::AutoloadingVisitor::InsertIntoAutoloadingState:\n",
      "   Missing FileEntry for ExRootAnalysis/ExRootClasses.h\n",
      "   requested to autoload type TRootLHEFParticle\n",
      "Error in cling::AutoloadingVisitor::InsertIntoAutoloadingState:\n",
      "   Missing FileEntry for ExRootAnalysis/ExRootClasses.h\n",
      "   requested to autoload type TRootGenEvent\n",
      "Error in cling::AutoloadingVisitor::InsertIntoAutoloadingState:\n",
      "   Missing FileEntry for ExRootAnalysis/ExRootClasses.h\n",
      "   requested to autoload type TRootGenParticle\n",
      "Error in cling::AutoloadingVisitor::InsertIntoAutoloadingState:\n",
      "   Missing FileEntry for ExRootAnalysis/ExRootClasses.h\n",
      "   requested to autoload type TRootGenJet\n",
      "Error in cling::AutoloadingVisitor::InsertIntoAutoloadingState:\n",
      "   Missing FileEntry for ExRootAnalysis/ExRootClasses.h\n",
      "   requested to autoload type TRootEvent\n",
      "Error in cling::AutoloadingVisitor::InsertIntoAutoloadingState:\n",
      "   Missing FileEntry for ExRootAnalysis/ExRootClasses.h\n",
      "   requested to autoload type TRootMissingET\n",
      "Error in cling::AutoloadingVisitor::InsertIntoAutoloadingState:\n",
      "   Missing FileEntry for ExRootAnalysis/ExRootClasses.h\n",
      "   requested to autoload type TRootPhoton\n",
      "Error in cling::AutoloadingVisitor::InsertIntoAutoloadingState:\n",
      "   Missing FileEntry for ExRootAnalysis/ExRootClasses.h\n",
      "   requested to autoload type TRootElectron\n",
      "Error in cling::AutoloadingVisitor::InsertIntoAutoloadingState:\n",
      "   Missing FileEntry for ExRootAnalysis/ExRootClasses.h\n",
      "   requested to autoload type TRootMuon\n",
      "Error in cling::AutoloadingVisitor::InsertIntoAutoloadingState:\n",
      "   Missing FileEntry for ExRootAnalysis/ExRootClasses.h\n",
      "   requested to autoload type TRootTau\n",
      "Error in cling::AutoloadingVisitor::InsertIntoAutoloadingState:\n",
      "   Missing FileEntry for ExRootAnalysis/ExRootClasses.h\n",
      "   requested to autoload type TRootJet\n",
      "Error in cling::AutoloadingVisitor::InsertIntoAutoloadingState:\n",
      "   Missing FileEntry for ExRootAnalysis/ExRootTreeReader.h\n",
      "   requested to autoload type ExRootTreeReader\n",
      "Error in cling::AutoloadingVisitor::InsertIntoAutoloadingState:\n",
      "   Missing FileEntry for ExRootAnalysis/ExRootTreeWriter.h\n",
      "   requested to autoload type ExRootTreeWriter\n",
      "Error in cling::AutoloadingVisitor::InsertIntoAutoloadingState:\n",
      "   Missing FileEntry for ExRootAnalysis/ExRootTreeBranch.h\n",
      "   requested to autoload type ExRootTreeBranch\n",
      "Error in cling::AutoloadingVisitor::InsertIntoAutoloadingState:\n",
      "   Missing FileEntry for ExRootAnalysis/ExRootResult.h\n",
      "   requested to autoload type ExRootResult\n",
      "Error in cling::AutoloadingVisitor::InsertIntoAutoloadingState:\n",
      "   Missing FileEntry for ExRootAnalysis/ExRootClassifier.h\n",
      "   requested to autoload type ExRootClassifier\n",
      "Error in cling::AutoloadingVisitor::InsertIntoAutoloadingState:\n",
      "   Missing FileEntry for ExRootAnalysis/ExRootFilter.h\n",
      "   requested to autoload type ExRootFilter\n",
      "Error in cling::AutoloadingVisitor::InsertIntoAutoloadingState:\n",
      "   Missing FileEntry for ExRootAnalysis/ExRootFactory.h\n",
      "   requested to autoload type ExRootFactory\n"
     ]
    }
   ],
   "source": [
    "# Delphes_Path=\"/home/daniel/Documents/Madgraph/MG5_aMC_v2_6_6/Delphes/\"\n",
    "Delphes_Path='/home/santiago/MG5_aMC_v2_6_5/Delphes'\n",
    "ROOT.gSystem.AddDynamicPath(Delphes_Path)\n",
    "ROOT.gSystem.Load(\"libDelphes.so\");\n",
    "\n",
    "# ER_Path=\"/home/daniel/Documents/Madgraph/MG5_aMC_v2_6_6/ExRootAnalysis/\"\n",
    "ER_Path=\"/home/santiago/MG5_aMC_v2_6_5/ExRootAnalysis/\"\n",
    "ROOT.gSystem.AddDynamicPath(ER_Path)\n",
    "ROOT.gSystem.Load(\"libExRootAnalysis.so\");\n",
    "\n",
    "try:\n",
    "    ROOT.gInterpreter.Declare('#include \"classes/DelphesClasses.h\"')\n",
    "    ROOT.gInterpreter.Declare('#include \"external/ExRootAnalysis/ExRootTreeReader.h\"')\n",
    "    print(\"Delphes classes imported\")\n",
    "except:\n",
    "    pass"
   ]
  },
  {
   "cell_type": "code",
   "execution_count": 4,
   "metadata": {
    "colab": {},
    "colab_type": "code",
    "id": "n_LqiNyrjZc7",
    "outputId": "33224fd0-f939-4946-8dd0-3f0bf5385bbb"
   },
   "outputs": [],
   "source": [
    "# Delphes_Path=\"/home/santiago/MG5_aMC_v2_6_5/Delphes/\"\n",
    "# ROOT.gSystem.AddDynamicPath(Delphes_Path)\n",
    "# ROOT.gSystem.Load(\"libDelphes.so\");\n",
    "\n",
    "# ER_Path=\"/home/santiago/MG5_aMC_v2_6_5/ExRootAnalysis/\"\n",
    "# ROOT.gSystem.AddDynamicPath(ER_Path)\n",
    "# ROOT.gSystem.Load(\"libExRootAnalysis.so\");\n",
    "\n",
    "# try:\n",
    "#     ROOT.gInterpreter.Declare('#include \"/home/santiago/MG5_aMC_v2_6_5/Delphes/classes/DelphesClasses.h\"')\n",
    "#     ROOT.gInterpreter.Declare('#include \"/home/santiago/MG5_aMC_v2_6_5/ExRootAnalysis/ExRootAnalysis/ExRootTreeReader.h\"')\n",
    "#     print(\"Delphes classes imported\")\n",
    "# except:\n",
    "#     pass"
   ]
  },
  {
   "cell_type": "markdown",
   "metadata": {},
   "source": [
    "### Functions"
   ]
  },
  {
   "cell_type": "code",
   "execution_count": 5,
   "metadata": {
    "colab": {},
    "colab_type": "code",
    "id": "QA11oi_xjZc_"
   },
   "outputs": [],
   "source": [
    "def DeltaPhi(phi1,phi2):\n",
    "    \"\"\"\n",
    "    Description: Returns the difference of\n",
    "                 the two angles phi1 and phi2\n",
    "    \"\"\"\n",
    "    PHI=phi1-phi2\n",
    "    if PHI >= pi:\n",
    "        PHI -= 2*pi\n",
    "    elif PHI < -1*pi:\n",
    "        PHI += 2*pi\n",
    "    return PHI\n",
    "\n",
    "def MaxValueHist(h1, h2):\n",
    "    \"\"\"\n",
    "    Description: Returns the maximum value from \n",
    "                 both histograms h1 and h2\n",
    "    \"\"\"\n",
    "    return max(h1.GetBinContent(h1.GetMaximumBin()),\n",
    "               h2.GetBinContent(h2.GetMaximumBin()))*1.1\n",
    "\n",
    "def Histos(hs, hb,savePath=None):\n",
    "    \"\"\"\n",
    "    Description: Plot the two histograms hs and hb\n",
    "                 in the same canvas\n",
    "    \"\"\"\n",
    "    canvas = ROOT.TCanvas()\n",
    "    canvas.cd()\n",
    "    hs.Scale(1/hs.Integral())\n",
    "    hb.Scale(1/hb.Integral())\n",
    "    hs.SetStats(0)\n",
    "    hb.SetStats(0)\n",
    "    hb.SetLineColor(2)\n",
    "    hs.SetMaximum(MaxValueHist(hs, hb))\n",
    "    hs.SetLineColor(1)\n",
    "#     hs.Draw(\"text\")\n",
    "    hs.Draw()\n",
    "    hb.Draw(\"h,same\")\n",
    "    \n",
    "    legend = ROOT.TLegend(0.6,0.6,0.9,0.9)\n",
    "    #legend.AddEntry(hss, \"Signal\")\n",
    "    #legend.AddEntry(hbb, \"Background\")\n",
    "    legend.Draw()\n",
    "    canvas.Update()\n",
    "    canvas.Draw()\n",
    "    if savePath != None:\n",
    "        canvas.SaveAs(savePath)\n",
    "    #gROOT.GetListOfCanvases().Draw()\n",
    "    \n",
    "def Histo(h,savePath=None):\n",
    "    \"\"\"\n",
    "    Description: Plot a singular histogram h\n",
    "    \"\"\"\n",
    "    canvas = ROOT.TCanvas()\n",
    "    h.SetStats(0)\n",
    "    canvas.cd()\n",
    "    h.Draw(\"h\")\n",
    "    legend = ROOT.TLegend()\n",
    "    legend.AddEntry(h, \"Significance\", \"l\")\n",
    "    legend.Draw()\n",
    "    canvas.Update()\n",
    "    canvas.Draw()\n",
    "    if savePath != None :\n",
    "        canvas.SaveAs(savePath)\n",
    "    #canvas.Update()\n",
    "    #gROOT.GetListOfCanvases().Draw()     \n",
    "    \n",
    "def InvariantMass(jet,i,j):\n",
    "    \"\"\"\n",
    "    Description: Returns the invariant mass for a system\n",
    "                 made out of jet[i] and jet[j] in the branch jet\n",
    "    \"\"\"\n",
    "    jets = [ROOT.TLorentzVector(), ROOT.TLorentzVector()]\n",
    "    jets[0].SetPtEtaPhiE(jet.At(i).PT, jet.At(i).Eta, jet.At(i).Phi, jet.At(i).Mass)\n",
    "    jets[1].SetPtEtaPhiE(jet.At(j).PT, jet.At(j).Eta, jet.At(j).Phi, jet.At(j).Mass)\n",
    "    return abs((jets[0]+jets[1]).M())\n",
    "\n",
    "\n",
    "def Sig(hs, hb, ns=50000, nb=50000, L=1000, sigmab=72.38, sigmas=13.76):\n",
    "    \"\"\"\n",
    "    Description: Returns a significance histogram\n",
    "                 made out of the signal and background \n",
    "                 histograms hs and hb\n",
    "    \n",
    "    L: Integrated luminosity in pb^-(1)\n",
    "    \n",
    "    ns, nb: Number of signal and background events\n",
    "    \n",
    "    sigmas, sigmab: cross sections for the signal and\n",
    "                    background events in pb\n",
    "    \"\"\"\n",
    "    hs.Scale((L*sigmas/ns))\n",
    "    hb.Scale((L*sigmab/nb))\n",
    "    hz = hb.Clone(\"SigHisto\")\n",
    "    hz.SetTitle(\"{} Significance\".format(hs.GetTitle()))\n",
    "    for i in range(hz.GetNbinsX()):\n",
    "        s = hs.Integral(i+1,hz.GetNbinsX())\n",
    "        b = hb.Integral(i+1,hz.GetNbinsX())\n",
    "        if i==0:\n",
    "            print(\"s:\",s)\n",
    "            print(\"b: \",b)\n",
    "            print(\"Z: \",s/sqrt(s+b))\n",
    "        if s+b != 0:\n",
    "            hz.SetBinContent(i+1,s/sqrt(s+b))\n",
    "        else:\n",
    "            hz.SetBinContent(i+1,0)\n",
    "        hz.SetBinError(i+1,0)\n",
    "    return hz"
   ]
  },
  {
   "cell_type": "markdown",
   "metadata": {},
   "source": [
    "### Reading trees and selecting branches"
   ]
  },
  {
   "cell_type": "code",
   "execution_count": 6,
   "metadata": {},
   "outputs": [
    {
     "name": "stderr",
     "output_type": "stream",
     "text": [
      "Error in <TFile::TFile>: file /home/daniel/Documents/VBF/bg/santiago_run_04.root does not exist\n",
      "\u001b[1mExRootAnalysisDict dictionary payload:16:10: \u001b[0m\u001b[0;1;31mfatal error: \u001b[0m\u001b[1m'ExRootAnalysis/ExRootTreeReader.h' file not found\u001b[0m\n",
      "#include \"ExRootAnalysis/ExRootTreeReader.h\"\n",
      "\u001b[0;1;32m         ^~~~~~~~~~~~~~~~~~~~~~~~~~~~~~~~~~~\n",
      "\u001b[0mError in <TInterpreter::AutoParse>: Error parsing payload code for class ExRootTreeReader with content:\n",
      "\n",
      "#line 1 \"ExRootAnalysisDict dictionary payload\"\n",
      "\n",
      "#ifndef G__VECTOR_HAS_CLASS_ITERATOR\n",
      "  #define G__VECTOR_HAS_CLASS_ITERATOR 1\n",
      "#endif\n",
      "\n",
      "#define _BACKWARD_BACKWARD_WARNING_H\n",
      "\n",
      "/** \\class ExRootAnalysisLinkDef\n",
      " *\n",
      " *  Lists classes to be included in cint dicitonary\n",
      " *\n",
      " *  \\author P. Demin - UCL, Louvain-la-Neuve\n",
      " *\n",
      " */\n",
      "\n",
      "#include \"ExRootAnalysis/ExRootTreeReader.h\"\n",
      "#include \"ExRootAnalysis/ExRootTreeWriter.h\"\n",
      "#include \"ExRootAnalysis/ExRootTreeBranch.h\"\n",
      "#include \"ExRootAnalysis/ExRootResult.h\"\n",
      "#include \"ExRootAnalysis/ExRootUtilities.h\"\n",
      "#include \"ExRootAnalysis/ExRootClassifier.h\"\n",
      "#include \"ExRootAnalysis/ExRootFilter.h\"\n",
      "\n",
      "#include \"ExRootAnalysis/ExRootProgressBar.h\"\n",
      "#include \"ExRootAnalysis/ExRootConfReader.h\"\n",
      "#include \"ExRootAnalysis/ExRootTask.h\"\n",
      "\n",
      "#ifdef __CINT__\n",
      "\n",
      "#pragma link off all globals;\n",
      "#pragma link off all classes;\n",
      "#pragma link off all functions;\n",
      "\n",
      "#pragma link C++ class ExRootTreeReader+;\n",
      "#pragma link C++ class ExRootTreeBranch+;\n",
      "#pragma link C++ class ExRootTreeWriter+;\n",
      "#pragma link C++ class ExRootResult+;\n",
      "#pragma link C++ class ExRootClassifier+;\n",
      "#pragma link C++ class ExRootFilter+;\n",
      "\n",
      "#pragma link C++ class ExRootProgressBar+;\n",
      "#pragma link C++ class ExRootConfReader+;\n",
      "#pragma link C++ class ExRootConfParam+;\n",
      "#pragma link C++ class ExRootTask+;\n",
      "\n",
      "#pragma link C++ function HistStyle;\n",
      "#pragma link C++ function FillChain;\n",
      "\n",
      "#endif\n",
      "\n",
      "\n",
      "#undef  _BACKWARD_BACKWARD_WARNING_H\n",
      "\n",
      "\u001b[1mExRootAnalysisDict dictionary payload:19:10: \u001b[0m\u001b[0;1;31mfatal error: \u001b[0m\u001b[1m'ExRootAnalysis/ExRootClasses.h' file not found\u001b[0m\n",
      "#include \"ExRootAnalysis/ExRootClasses.h\"\n",
      "\u001b[0;1;32m         ^~~~~~~~~~~~~~~~~~~~~~~~~~~~~~~~\n",
      "\u001b[0mError in <TInterpreter::AutoParse>: Error parsing payload code for class ExRootTreeReader with content:\n",
      "\n",
      "#line 1 \"ExRootAnalysisDict dictionary payload\"\n",
      "\n",
      "#ifndef G__VECTOR_HAS_CLASS_ITERATOR\n",
      "  #define G__VECTOR_HAS_CLASS_ITERATOR 1\n",
      "#endif\n",
      "\n",
      "#define _BACKWARD_BACKWARD_WARNING_H\n",
      "/** \\class ExRootAnalysisLinkDef\n",
      " *\n",
      " *  Lists classes to be included in cint dicitonary\n",
      " *\n",
      " *  $Date: 2006/12/19 19:18:46 $\n",
      " *  $Revision: 1.5 $\n",
      " *\n",
      " *  \n",
      " *  \\author P. Demin - UCL, Louvain-la-Neuve\n",
      " *\n",
      " */\n",
      "\n",
      "#include \"ExRootAnalysis/ExRootClasses.h\"\n",
      "#include \"ExRootAnalysis/ExRootTreeReader.h\"\n",
      "#include \"ExRootAnalysis/ExRootTreeWriter.h\"\n",
      "#include \"ExRootAnalysis/ExRootTreeBranch.h\"\n",
      "#include \"ExRootAnalysis/ExRootResult.h\"\n",
      "#include \"ExRootAnalysis/ExRootUtilities.h\"\n",
      "#include \"ExRootAnalysis/ExRootClassifier.h\"\n",
      "#include \"ExRootAnalysis/ExRootFilter.h\"\n",
      "\n",
      "#include \"ExRootAnalysis/ExRootFactory.h\"\n",
      "\n",
      "#ifdef __CINT__\n",
      "\n",
      "#pragma link off all globals;\n",
      "#pragma link off all classes;\n",
      "#pragma link off all functions;\n",
      "\n",
      "#pragma link C++ class TSortableObject+;\n",
      "#pragma link C++ class TRootWeight;\n",
      "#pragma link C++ class TRootLHEFEvent+;\n",
      "#pragma link C++ class TRootLHEFParticle+;\n",
      "#pragma link C++ class TRootGenEvent+;\n",
      "#pragma link C++ class TRootGenParticle+;\n",
      "#pragma link C++ class TRootGenJet+;\n",
      "#pragma link C++ class TRootEvent+;\n",
      "#pragma link C++ class TRootMissingET+;\n",
      "#pragma link C++ class TRootPhoton+;\n",
      "#pragma link C++ class TRootElectron+;\n",
      "#pragma link C++ class TRootMuon+;\n",
      "#pragma link C++ class TRootTau+;\n",
      "#pragma link C++ class TRootJet+;\n",
      "\n",
      "#pragma link C++ class ExRootTreeReader+;\n",
      "#pragma link C++ class ExRootTreeBranch+;\n",
      "#pragma link C++ class ExRootTreeWriter+;\n",
      "#pragma link C++ class ExRootResult+;\n",
      "#pragma link C++ class ExRootClassifier+;\n",
      "#pragma link C++ class ExRootFilter+;\n",
      "\n",
      "#pragma link C++ class ExRootFactory+;\n",
      "\n",
      "#pragma link C++ function HistStyle;\n",
      "#pragma link C++ function FillChain;\n",
      "\n",
      "#endif\n",
      "\n",
      "\n",
      "#undef  _BACKWARD_BACKWARD_WARNING_H\n",
      "\n"
     ]
    }
   ],
   "source": [
    "# getting signal and background trees\n",
    "# signal\n",
    "backgroundPath = './data/background/'\n",
    "# signalPath = './data/VBF_MDSimp_EWKExcluded/daniel_run_05.root'\n",
    "signalPath = './data/VBF_MDSimp_EWKExcluded/DMSimpSpin1_MY5000_MX1000.root'\n",
    "fs = ROOT.TFile(signalPath)\n",
    "s = fs.Get(\"Delphes\")\n",
    "# background\n",
    "b = ROOT.TChain(\"Delphes\")\n",
    "#b.Add(\"/home/daniel/Documents/VBF/bg/santiago_run_01.root\") #si\n",
    "b.Add(backgroundPath + \"santiago_run_02.root\") #no\n",
    "#b.Add(\"/home/daniel/Documents/VBF/bg/santiago_run_03.root\") #si\n",
    "b.Add(\"/home/daniel/Documents/VBF/bg/santiago_run_04.root\") #si\n",
    "# b.Add(backgroundPath + \"santiago_run_05.root\") #no\n",
    "#b.Add(\"/home/daniel/Documents/VBF/bg/santiago_run_06.root\") #si\n",
    "# b.Add(backgroundPath + \"santiago_run_07.root\") #no\n",
    "\n",
    "# number of signal and background events \n",
    "nb = int(b.GetEntries())\n",
    "ns = int(s.GetEntries())\n",
    "\n",
    "# number of bins to book histograms\n",
    "nsBins = int(sqrt(ns))+1 \n",
    "nbBins = int(sqrt(nb))+1 \n",
    "\n",
    "# reading trees and selecting branches\n",
    "treeS = ROOT.ExRootTreeReader(s)\n",
    "treeB = ROOT.ExRootTreeReader(b)\n",
    "\n",
    "jetS = treeS.UseBranch(\"Jet\")\n",
    "jetB = treeB.UseBranch(\"Jet\")\n",
    "\n",
    "metS = treeS.UseBranch(\"MissingET\")\n",
    "metB = treeB.UseBranch(\"MissingET\")\n",
    "\n",
    "Hs = treeS.UseBranch(\"ScalarHT\")\n",
    "Hb = treeB.UseBranch(\"ScalarHT\")\n",
    "\n",
    "# number of jets to use\n",
    "numJets = 5"
   ]
  },
  {
   "cell_type": "markdown",
   "metadata": {},
   "source": [
    "### Book histograms"
   ]
  },
  {
   "cell_type": "code",
   "execution_count": 7,
   "metadata": {},
   "outputs": [],
   "source": [
    "# # signal\n",
    "# hsPT = [ROOT.TH1F(\"hs{}PT\".format(i+1), \"jet[{}] P_T\".format(i+1), 400, 0.0, 2000) for i in range(numJets)]\n",
    "# hsEta = [ROOT.TH1F(\"hs{}Eta\".format(i+1), \"jet[{}] \\eta\".format(i+1), 100, -5, 5) for i in range(numJets)]\n",
    "# hsDeltaEta = [ROOT.TH1F(\"hs{}DeltaEta\".format(i+1), \"|\\Delta\\eta(j{},MET)|\".format(i+1), 100, 0, 10) for i in range(numJets)]\n",
    "# hsDeltaPhi = [ROOT.TH1F(\"hs{}DeltaPhi\".format(i+1), \"|\\Delta\\phi(j{},MET)|\".format(i+1), 100, 0, 10) for i in range(numJets)]\n",
    "# hsH = ROOT.TH1F(\"hsH\",\"H_T\",200,0,1000)\n",
    "# hsPTdiv = ROOT.TH1F(\"hsPT\",\"P_{T}(j1)/P_{T}(j2)\",nsBins,0,20)\n",
    "# hsMetET = ROOT.TH1F(\"hsMetET\", \"MET_ET\", 400, 0.0, 2000)\n",
    "# hsMetPhi = ROOT.TH1F(\"hsMetPhi\", \"MET_PHI\", 100, -5, 5)\n",
    "# hsDeltaEtaJet = ROOT.TH1F(\"hsDeltaEtaJet\", \"Delta_Eta_Jet12\", 50,0,10)\n",
    "# hsDeltaEtaJetMax = ROOT.TH1F(\"hsDeltaEtaJetMax\", \"Max_Delta_Eta_Jet\", 50,0,10)\n",
    "# hsMass = ROOT.TH1F(\"hSMass\", \"M(j1,j2)\", 150,0,1500)\n",
    "# hsMassMax = ROOT.TH1F(\"hsMjj\", \"Max_M\", 150,0,1500)\n",
    "\n",
    "# # background\n",
    "# hbPT = [ROOT.TH1F(\"hb{}PT\".format(i+1), \"jet[{}] P_T\".format(i+1), 400, 0.0, 2000) for i in range(numJets)]\n",
    "# hbEta = [ROOT.TH1F(\"hb{}Eta\".format(i+1), \"jet[{}] \\eta\".format(i+1), 100, -5, 5) for i in range(numJets)]\n",
    "# hbDeltaEta = [ROOT.TH1F(\"hb{}DeltaEta\".format(i+1), \"|\\Delta\\eta(j{},MET)|\".format(i+1), 100, 0, 10) for i in range(numJets)]\n",
    "# hbDeltaPhi = [ROOT.TH1F(\"hb{}DeltaPhi\".format(i+1), \"|\\Delta\\phi(j{},MET)|\".format(i+1), 100, 0, 10) for i in range(numJets)]\n",
    "# hbH = ROOT.TH1F(\"hbH\",\"H_T\",200,0,1000)\n",
    "# hbPTdiv = ROOT.TH1F(\"hbPT\",\"P_{T}(j1)/P_{T}(j2)\",nsBins,0,20)\n",
    "# hbMetET = ROOT.TH1F(\"hbMetET\", \"MET_ET\", 400, 0.0, 2000)\n",
    "# hbMetPhi = ROOT.TH1F(\"hbMetPhi\", \"MET_PHI\", 100, -5, 5)\n",
    "# hbDeltaEtaJet = ROOT.TH1F(\"hbDeltaEtaJet\", \"Delta_Eta_Jet12\", 50,0,10)\n",
    "# hbDeltaEtaJetMax = ROOT.TH1F(\"hbDeltaEtaJetMax\", \"Max_Delta_Eta_Jet\", 50,0,10)\n",
    "# hbMass = ROOT.TH1F(\"hbMass\", \"M(j1,j2)\", 150,0,1500)\n",
    "# hbMassMax = ROOT.TH1F(\"hbMjj\", \"Max_M\", 150,0,1500)\n",
    "\n",
    "# signal\n",
    "hsPT = [ROOT.TH1F(\"hs{}PT\".format(i+1), \"jet[{}] P_T\".format(i+1), 1000, 0.0, 2000) for i in range(numJets)]\n",
    "hsEta = [ROOT.TH1F(\"hs{}Eta\".format(i+1), \"jet[{}] \\eta\".format(i+1), 50, -5, 5) for i in range(numJets)]\n",
    "hsDeltaEta = [ROOT.TH1F(\"hs{}DeltaEta\".format(i+1), \"|\\Delta\\eta(j{},MET)|\".format(i+1), 50, 0, 10) for i in range(numJets)]\n",
    "hsDeltaPhi = [ROOT.TH1F(\"hs{}DeltaPhi\".format(i+1), \"|\\Delta\\phi(j{},MET)|\".format(i+1), 50, 0, 10) for i in range(numJets)]\n",
    "hsH = ROOT.TH1F(\"hsH\",\"H_T\",50,0,1000)\n",
    "hsPTdiv = ROOT.TH1F(\"hsPT\",\"P_{T}(j1)/P_{T}(j2)\",nsBins,0,20)\n",
    "hsMetET = ROOT.TH1F(\"hsMetET\", \"MET_ET\", 50, 0.0, 2000)\n",
    "hsMetPhi = ROOT.TH1F(\"hsMetPhi\", \"MET_PHI\", 50, -5, 5)\n",
    "hsDeltaEtaJet = ROOT.TH1F(\"hsDeltaEtaJet\", \"Delta_Eta_Jet12\", 50,0,10)\n",
    "hsDeltaEtaJetMax = ROOT.TH1F(\"hsDeltaEtaJetMax\", \"Max_Delta_Eta_Jet\", 50,0,10)\n",
    "hsMass = ROOT.TH1F(\"hSMass\", \"M(j1,j2)\", 50,0,1500)\n",
    "hsMassMax = ROOT.TH1F(\"hsMjj\", \"Max_M\", 50,0,1500)\n",
    "\n",
    "# background\n",
    "hbPT = [ROOT.TH1F(\"hb{}PT\".format(i+1), \"jet[{}] P_T\".format(i+1), 1000, 0.0, 2000) for i in range(numJets)]\n",
    "hbEta = [ROOT.TH1F(\"hb{}Eta\".format(i+1), \"jet[{}] \\eta\".format(i+1), 50, -5, 5) for i in range(numJets)]\n",
    "hbDeltaEta = [ROOT.TH1F(\"hb{}DeltaEta\".format(i+1), \"|\\Delta\\eta(j{},MET)|\".format(i+1), 50, 0, 10) for i in range(numJets)]\n",
    "hbDeltaPhi = [ROOT.TH1F(\"hb{}DeltaPhi\".format(i+1), \"|\\Delta\\phi(j{},MET)|\".format(i+1), 50, 0, 10) for i in range(numJets)]\n",
    "hbH = ROOT.TH1F(\"hbH\",\"H_T\",50,0,1000)\n",
    "hbPTdiv = ROOT.TH1F(\"hbPT\",\"P_{T}(j1)/P_{T}(j2)\",nsBins,0,20)\n",
    "hbMetET = ROOT.TH1F(\"hbMetET\", \"MET_ET\", 50, 0.0, 2000)\n",
    "hbMetPhi = ROOT.TH1F(\"hbMetPhi\", \"MET_PHI\", 50, -5, 5)\n",
    "hbDeltaEtaJet = ROOT.TH1F(\"hbDeltaEtaJet\", \"Delta_Eta_Jet12\", 50,0,10)\n",
    "hbDeltaEtaJetMax = ROOT.TH1F(\"hbDeltaEtaJetMax\", \"Max_Delta_Eta_Jet\", 50,0,10)\n",
    "hbMass = ROOT.TH1F(\"hbMass\", \"M(j1,j2)\", 50,0,1500)\n",
    "hbMassMax = ROOT.TH1F(\"hbMjj\", \"Max_M\", 50,0,1500)"
   ]
  },
  {
   "cell_type": "markdown",
   "metadata": {},
   "source": [
    "### Selecting events and filling histograms"
   ]
  },
  {
   "cell_type": "code",
   "execution_count": 8,
   "metadata": {
    "colab": {},
    "colab_type": "code",
    "id": "IQ1802ETjZdG",
    "outputId": "565ab388-5787-4b8e-ce0f-2c2e083df788"
   },
   "outputs": [
    {
     "name": "stderr",
     "output_type": "stream",
     "text": [
      "In file included from ClassesDict dictionary payload:34:\n",
      "\u001b[1m/home/santiago/MG5_aMC_v2_6_5/Delphes/classes/DelphesModule.h:30:10: \u001b[0m\u001b[0;1;31mfatal error: \u001b[0m\u001b[1m'ExRootAnalysis/ExRootTask.h' file not found\u001b[0m\n",
      "#include \"ExRootAnalysis/ExRootTask.h\"\n",
      "\u001b[0;1;32m         ^~~~~~~~~~~~~~~~~~~~~~~~~~~~~\n",
      "\u001b[0mError in <TInterpreter::AutoParse>: Error parsing payload code for class Jet with content:\n",
      "\n",
      "#line 1 \"ClassesDict dictionary payload\"\n",
      "\n",
      "#ifndef G__VECTOR_HAS_CLASS_ITERATOR\n",
      "  #define G__VECTOR_HAS_CLASS_ITERATOR 1\n",
      "#endif\n",
      "\n",
      "#define _BACKWARD_BACKWARD_WARNING_H\n",
      "/*\n",
      " *  Delphes: a framework for fast simulation of a generic collider experiment\n",
      " *  Copyright (C) 2012-2014  Universite catholique de Louvain (UCL), Belgium\n",
      " *\n",
      " *  This program is free software: you can redistribute it and/or modify\n",
      " *  it under the terms of the GNU General Public License as published by\n",
      " *  the Free Software Foundation, either version 3 of the License, or\n",
      " *  (at your option) any later version.\n",
      " *\n",
      " *  This program is distributed in the hope that it will be useful,\n",
      " *  but WITHOUT ANY WARRANTY; without even the implied warranty of\n",
      " *  MERCHANTABILITY or FITNESS FOR A PARTICULAR PURPOSE.  See the\n",
      " *  GNU General Public License for more details.\n",
      " *\n",
      " *  You should have received a copy of the GNU General Public License\n",
      " *  along with this program.  If not, see <http://www.gnu.org/licenses/>.\n",
      " */\n",
      "\n",
      "\n",
      "/** ExRootAnalysisLinkDef\n",
      " *\n",
      " *  Lists classes to be included in cint dicitonary\n",
      " *\n",
      " *  \\author P. Demin - UCL, Louvain-la-Neuve\n",
      " *\n",
      " */\n",
      "\n",
      "#include \"classes/DelphesModule.h\"\n",
      "#include \"classes/DelphesFactory.h\"\n",
      "\n",
      "#include \"classes/SortableObject.h\"\n",
      "#include \"classes/DelphesClasses.h\"\n",
      "\n",
      "#ifdef __CINT__\n",
      "\n",
      "#pragma link off all globals;\n",
      "#pragma link off all classes;\n",
      "#pragma link off all functions;\n",
      "\n",
      "#pragma link C++ class DelphesModule+;\n",
      "#pragma link C++ class DelphesFactory+;\n",
      "\n",
      "#pragma link C++ class SortableObject+;\n",
      "\n",
      "#pragma link C++ class Event+;\n",
      "#pragma link C++ class LHCOEvent+;\n",
      "#pragma link C++ class LHEFEvent+;\n",
      "#pragma link C++ class LHEFWeight+;\n",
      "#pragma link C++ class HepMCEvent+;\n",
      "#pragma link C++ class GenParticle+;\n",
      "#pragma link C++ class Vertex+;\n",
      "#pragma link C++ class MissingET+;\n",
      "#pragma link C++ class ScalarHT+;\n",
      "#pragma link C++ class Rho+;\n",
      "#pragma link C++ class Weight+;\n",
      "#pragma link C++ class Photon+;\n",
      "#pragma link C++ class Electron+;\n",
      "#pragma link C++ class Muon+;\n",
      "#pragma link C++ class Jet+;\n",
      "#pragma link C++ class Track+;\n",
      "#pragma link C++ class Tower+;\n",
      "#pragma link C++ class HectorHit+;\n",
      "\n",
      "#pragma link C++ class Candidate+;\n",
      "\n",
      "#endif\n",
      "\n",
      "\n",
      "#undef  _BACKWARD_BACKWARD_WARNING_H\n",
      "\n",
      "In file included from ClassesDict dictionary payload:34:\n",
      "\u001b[1m/home/santiago/MG5_aMC_v2_6_5/Delphes/classes/DelphesModule.h:30:10: \u001b[0m\u001b[0;1;31mfatal error: \u001b[0m\u001b[1m'ExRootAnalysis/ExRootTask.h' file not found\u001b[0m\n",
      "#include \"ExRootAnalysis/ExRootTask.h\"\n",
      "\u001b[0;1;32m         ^~~~~~~~~~~~~~~~~~~~~~~~~~~~~\n",
      "\u001b[0mError in <TInterpreter::AutoParse>: Error parsing payload code for class SortableObject with content:\n",
      "\n",
      "#line 1 \"ClassesDict dictionary payload\"\n",
      "\n",
      "#ifndef G__VECTOR_HAS_CLASS_ITERATOR\n",
      "  #define G__VECTOR_HAS_CLASS_ITERATOR 1\n",
      "#endif\n",
      "\n",
      "#define _BACKWARD_BACKWARD_WARNING_H\n",
      "/*\n",
      " *  Delphes: a framework for fast simulation of a generic collider experiment\n",
      " *  Copyright (C) 2012-2014  Universite catholique de Louvain (UCL), Belgium\n",
      " *\n",
      " *  This program is free software: you can redistribute it and/or modify\n",
      " *  it under the terms of the GNU General Public License as published by\n",
      " *  the Free Software Foundation, either version 3 of the License, or\n",
      " *  (at your option) any later version.\n",
      " *\n",
      " *  This program is distributed in the hope that it will be useful,\n",
      " *  but WITHOUT ANY WARRANTY; without even the implied warranty of\n",
      " *  MERCHANTABILITY or FITNESS FOR A PARTICULAR PURPOSE.  See the\n",
      " *  GNU General Public License for more details.\n",
      " *\n",
      " *  You should have received a copy of the GNU General Public License\n",
      " *  along with this program.  If not, see <http://www.gnu.org/licenses/>.\n",
      " */\n",
      "\n",
      "\n",
      "/** ExRootAnalysisLinkDef\n",
      " *\n",
      " *  Lists classes to be included in cint dicitonary\n",
      " *\n",
      " *  \\author P. Demin - UCL, Louvain-la-Neuve\n",
      " *\n",
      " */\n",
      "\n",
      "#include \"classes/DelphesModule.h\"\n",
      "#include \"classes/DelphesFactory.h\"\n",
      "\n",
      "#include \"classes/SortableObject.h\"\n",
      "#include \"classes/DelphesClasses.h\"\n",
      "\n",
      "#ifdef __CINT__\n",
      "\n",
      "#pragma link off all globals;\n",
      "#pragma link off all classes;\n",
      "#pragma link off all functions;\n",
      "\n",
      "#pragma link C++ class DelphesModule+;\n",
      "#pragma link C++ class DelphesFactory+;\n",
      "\n",
      "#pragma link C++ class SortableObject+;\n",
      "\n",
      "#pragma link C++ class Event+;\n",
      "#pragma link C++ class LHCOEvent+;\n",
      "#pragma link C++ class LHEFEvent+;\n",
      "#pragma link C++ class LHEFWeight+;\n",
      "#pragma link C++ class HepMCEvent+;\n",
      "#pragma link C++ class GenParticle+;\n",
      "#pragma link C++ class Vertex+;\n",
      "#pragma link C++ class MissingET+;\n",
      "#pragma link C++ class ScalarHT+;\n",
      "#pragma link C++ class Rho+;\n",
      "#pragma link C++ class Weight+;\n",
      "#pragma link C++ class Photon+;\n",
      "#pragma link C++ class Electron+;\n",
      "#pragma link C++ class Muon+;\n",
      "#pragma link C++ class Jet+;\n",
      "#pragma link C++ class Track+;\n",
      "#pragma link C++ class Tower+;\n",
      "#pragma link C++ class HectorHit+;\n",
      "\n",
      "#pragma link C++ class Candidate+;\n",
      "\n",
      "#endif\n",
      "\n",
      "\n",
      "#undef  _BACKWARD_BACKWARD_WARNING_H\n",
      "\n",
      "In file included from ClassesDict dictionary payload:34:\n",
      "\u001b[1m/home/santiago/MG5_aMC_v2_6_5/Delphes/classes/DelphesModule.h:30:10: \u001b[0m\u001b[0;1;31mfatal error: \u001b[0m\u001b[1m'ExRootAnalysis/ExRootTask.h' file not found\u001b[0m\n",
      "#include \"ExRootAnalysis/ExRootTask.h\"\n",
      "\u001b[0;1;32m         ^~~~~~~~~~~~~~~~~~~~~~~~~~~~~\n",
      "\u001b[0mError in <TInterpreter::AutoParse>: Error parsing payload code for class MissingET with content:\n",
      "\n",
      "#line 1 \"ClassesDict dictionary payload\"\n",
      "\n",
      "#ifndef G__VECTOR_HAS_CLASS_ITERATOR\n",
      "  #define G__VECTOR_HAS_CLASS_ITERATOR 1\n",
      "#endif\n",
      "\n",
      "#define _BACKWARD_BACKWARD_WARNING_H\n",
      "/*\n",
      " *  Delphes: a framework for fast simulation of a generic collider experiment\n",
      " *  Copyright (C) 2012-2014  Universite catholique de Louvain (UCL), Belgium\n",
      " *\n",
      " *  This program is free software: you can redistribute it and/or modify\n",
      " *  it under the terms of the GNU General Public License as published by\n",
      " *  the Free Software Foundation, either version 3 of the License, or\n",
      " *  (at your option) any later version.\n",
      " *\n",
      " *  This program is distributed in the hope that it will be useful,\n",
      " *  but WITHOUT ANY WARRANTY; without even the implied warranty of\n",
      " *  MERCHANTABILITY or FITNESS FOR A PARTICULAR PURPOSE.  See the\n",
      " *  GNU General Public License for more details.\n",
      " *\n",
      " *  You should have received a copy of the GNU General Public License\n",
      " *  along with this program.  If not, see <http://www.gnu.org/licenses/>.\n",
      " */\n",
      "\n",
      "\n",
      "/** ExRootAnalysisLinkDef\n",
      " *\n",
      " *  Lists classes to be included in cint dicitonary\n",
      " *\n",
      " *  \\author P. Demin - UCL, Louvain-la-Neuve\n",
      " *\n",
      " */\n",
      "\n",
      "#include \"classes/DelphesModule.h\"\n",
      "#include \"classes/DelphesFactory.h\"\n",
      "\n",
      "#include \"classes/SortableObject.h\"\n",
      "#include \"classes/DelphesClasses.h\"\n",
      "\n",
      "#ifdef __CINT__\n",
      "\n",
      "#pragma link off all globals;\n",
      "#pragma link off all classes;\n",
      "#pragma link off all functions;\n",
      "\n",
      "#pragma link C++ class DelphesModule+;\n",
      "#pragma link C++ class DelphesFactory+;\n",
      "\n",
      "#pragma link C++ class SortableObject+;\n",
      "\n",
      "#pragma link C++ class Event+;\n",
      "#pragma link C++ class LHCOEvent+;\n",
      "#pragma link C++ class LHEFEvent+;\n",
      "#pragma link C++ class LHEFWeight+;\n",
      "#pragma link C++ class HepMCEvent+;\n",
      "#pragma link C++ class GenParticle+;\n",
      "#pragma link C++ class Vertex+;\n",
      "#pragma link C++ class MissingET+;\n",
      "#pragma link C++ class ScalarHT+;\n",
      "#pragma link C++ class Rho+;\n",
      "#pragma link C++ class Weight+;\n",
      "#pragma link C++ class Photon+;\n",
      "#pragma link C++ class Electron+;\n",
      "#pragma link C++ class Muon+;\n",
      "#pragma link C++ class Jet+;\n",
      "#pragma link C++ class Track+;\n",
      "#pragma link C++ class Tower+;\n",
      "#pragma link C++ class HectorHit+;\n",
      "\n",
      "#pragma link C++ class Candidate+;\n",
      "\n",
      "#endif\n",
      "\n",
      "\n",
      "#undef  _BACKWARD_BACKWARD_WARNING_H\n",
      "\n",
      "In file included from ClassesDict dictionary payload:34:\n",
      "\u001b[1m/home/santiago/MG5_aMC_v2_6_5/Delphes/classes/DelphesModule.h:30:10: \u001b[0m\u001b[0;1;31mfatal error: \u001b[0m\u001b[1m'ExRootAnalysis/ExRootTask.h' file not found\u001b[0m\n",
      "#include \"ExRootAnalysis/ExRootTask.h\"\n",
      "\u001b[0;1;32m         ^~~~~~~~~~~~~~~~~~~~~~~~~~~~~\n",
      "\u001b[0mError in <TInterpreter::AutoParse>: Error parsing payload code for class ScalarHT with content:\n",
      "\n",
      "#line 1 \"ClassesDict dictionary payload\"\n",
      "\n",
      "#ifndef G__VECTOR_HAS_CLASS_ITERATOR\n",
      "  #define G__VECTOR_HAS_CLASS_ITERATOR 1\n",
      "#endif\n",
      "\n",
      "#define _BACKWARD_BACKWARD_WARNING_H\n",
      "/*\n",
      " *  Delphes: a framework for fast simulation of a generic collider experiment\n",
      " *  Copyright (C) 2012-2014  Universite catholique de Louvain (UCL), Belgium\n",
      " *\n",
      " *  This program is free software: you can redistribute it and/or modify\n",
      " *  it under the terms of the GNU General Public License as published by\n",
      " *  the Free Software Foundation, either version 3 of the License, or\n",
      " *  (at your option) any later version.\n",
      " *\n",
      " *  This program is distributed in the hope that it will be useful,\n",
      " *  but WITHOUT ANY WARRANTY; without even the implied warranty of\n",
      " *  MERCHANTABILITY or FITNESS FOR A PARTICULAR PURPOSE.  See the\n",
      " *  GNU General Public License for more details.\n",
      " *\n",
      " *  You should have received a copy of the GNU General Public License\n",
      " *  along with this program.  If not, see <http://www.gnu.org/licenses/>.\n",
      " */\n",
      "\n",
      "\n",
      "/** ExRootAnalysisLinkDef\n",
      " *\n",
      " *  Lists classes to be included in cint dicitonary\n",
      " *\n",
      " *  \\author P. Demin - UCL, Louvain-la-Neuve\n",
      " *\n",
      " */\n",
      "\n",
      "#include \"classes/DelphesModule.h\"\n",
      "#include \"classes/DelphesFactory.h\"\n",
      "\n",
      "#include \"classes/SortableObject.h\"\n",
      "#include \"classes/DelphesClasses.h\"\n",
      "\n",
      "#ifdef __CINT__\n",
      "\n",
      "#pragma link off all globals;\n",
      "#pragma link off all classes;\n",
      "#pragma link off all functions;\n",
      "\n",
      "#pragma link C++ class DelphesModule+;\n",
      "#pragma link C++ class DelphesFactory+;\n",
      "\n",
      "#pragma link C++ class SortableObject+;\n",
      "\n",
      "#pragma link C++ class Event+;\n",
      "#pragma link C++ class LHCOEvent+;\n",
      "#pragma link C++ class LHEFEvent+;\n",
      "#pragma link C++ class LHEFWeight+;\n",
      "#pragma link C++ class HepMCEvent+;\n",
      "#pragma link C++ class GenParticle+;\n",
      "#pragma link C++ class Vertex+;\n",
      "#pragma link C++ class MissingET+;\n",
      "#pragma link C++ class ScalarHT+;\n",
      "#pragma link C++ class Rho+;\n",
      "#pragma link C++ class Weight+;\n",
      "#pragma link C++ class Photon+;\n",
      "#pragma link C++ class Electron+;\n",
      "#pragma link C++ class Muon+;\n",
      "#pragma link C++ class Jet+;\n",
      "#pragma link C++ class Track+;\n",
      "#pragma link C++ class Tower+;\n",
      "#pragma link C++ class HectorHit+;\n",
      "\n",
      "#pragma link C++ class Candidate+;\n",
      "\n",
      "#endif\n",
      "\n",
      "\n",
      "#undef  _BACKWARD_BACKWARD_WARNING_H\n",
      "\n"
     ]
    }
   ],
   "source": [
    "# Loop over all signal events \n",
    "for event in range(ns):\n",
    "    #Load selected branches with data from specified event\n",
    "    treeS.ReadEntry(event)\n",
    "    \n",
    "    # cuts\n",
    "#     # select events with MET > 200 GeV\n",
    "#     if metS.At(0).MET < 200: continue\n",
    "    # select events with at least 2 jets\n",
    "    if jetS.GetEntries() < 2: continue\n",
    "#     # select events with jets in opposite hemispheres \n",
    "    if (jetS.At(0).Eta * jetS.At(1).Eta) >= 0: continue\n",
    "#     # select events with jet1 and jet2 PT > 60\n",
    "#     if jetS.At(0).PT < 30: continue\n",
    "#     if jetS.At(1).PT < 30: continue\n",
    "#     if InvariantMass(jetS,0,1) < 750: continue\n",
    "#     if abs(jetS.At(0).Eta-jetS.At(1).Eta) <= 4.2: continue\n",
    "#     if abs(jetS.At(0).Eta) >= 5: continue\n",
    "#     if abs(jetS.At(1).Eta) >= 5: continue\n",
    "#     if Hs.At(0).HT <= 200 : continue\n",
    "\n",
    "    JsMass = 0\n",
    "    i = 0\n",
    "    k = 0\n",
    "    NJets = jetS.GetEntries() if jetS.GetEntries() <= numJets else numJets\n",
    "    for n in range(NJets):\n",
    "        hsPT[n].Fill(jetS.At(n).PT)\n",
    "        hsDeltaPhi[n].Fill(abs(DeltaPhi(metS.At(0).Phi,jetS.At(n).Phi)) )\n",
    "        hsDeltaEta[n].Fill(abs(metS.At(0).Eta-jetS.At(n).Eta))\n",
    "        # selecting the two jet system \n",
    "        # with the largest invariant mass\n",
    "        for m in range(NJets):\n",
    "            if n==m:continue\n",
    "            a = InvariantMass(jetS,n,m) \n",
    "            if a > JsMass:\n",
    "                i, k = n,m\n",
    "                JsMass = a  \n",
    "    hsPTdiv.Fill(jetS.At(0).PT/jetS.At(1).PT)\n",
    "    hsH.Fill(Hs.At(0).HT)\n",
    "    hsMetET.Fill(metS.At(0).MET)\n",
    "    hsMetPhi.Fill(metS.At(0).Phi) \n",
    "    \n",
    "    hsDeltaEtaJet.Fill(abs(jetS.At(0).Eta-jetS.At(1).Eta))\n",
    "    hsDeltaEtaJetMax.Fill(abs(jetS.At(i).Eta-jetS.At(k).Eta))\n",
    "    \n",
    "    hsMass.Fill(InvariantMass(jetS,0,1)) \n",
    "    hsMassMax.Fill(InvariantMass(jetS,i,k))"
   ]
  },
  {
   "cell_type": "code",
   "execution_count": 9,
   "metadata": {},
   "outputs": [],
   "source": [
    "# Loop over all background events \n",
    "for event in range(ns):\n",
    "    # load selected branches with data from specified event\n",
    "    treeB.ReadEntry(event)\n",
    "    \n",
    "    # cuts\n",
    "#     # select events with MET > 200 GeV\n",
    "#     if metB.At(0).MET < 200: continue\n",
    "    # select events with at least 2 jets\n",
    "    if jetB.GetEntries() < 2: continue\n",
    "    # select events with jets in opposite hemispheres \n",
    "    if (jetB.At(0).Eta * jetB.At(1).Eta) >= 0: continue\n",
    "#     # select events with jet1 and jet2 PT > 60\n",
    "#     if jetB.At(0).PT <= 30: continue\n",
    "#     if jetB.At(1).PT <= 30: continue\n",
    "#     if InvariantMass(jetB,0,1) <= 750: continue\n",
    "#     if abs(jetB.At(0).Eta-jetB.At(1).Eta) <= 4.2: continue\n",
    "#     if abs(jetB.At(0).Eta) >= 5: continue\n",
    "#     if abs(jetB.At(1).Eta) >= 5: continue\n",
    "#     if Hb.At(0).HT <= 200 : continue\n",
    "        \n",
    "    JbMass = 0\n",
    "    i, k = 0,0\n",
    "    \n",
    "    NJets = jetB.GetEntries() if jetB.GetEntries() <= numJets else numJets\n",
    "    for n in range(NJets):\n",
    "        hbPT[n].Fill(jetB.At(n).PT)\n",
    "        hbDeltaPhi[n].Fill(abs(DeltaPhi(metB.At(0).Phi,jetB.At(n).Phi)))\n",
    "        hbDeltaEta[n].Fill(abs(metB.At(0).Eta-jetB.At(n).Eta))\n",
    "        # selecting the two jet system \n",
    "        # with the largest invariant mass\n",
    "        for m in range(NJets):\n",
    "            if n==m:continue\n",
    "            a = InvariantMass(jetB,n,m) \n",
    "            if a > JbMass:\n",
    "                i, k = n,m\n",
    "                JbMass = a \n",
    "    hbPTdiv.Fill(jetB.At(0).PT/jetB.At(1).PT)\n",
    "    hbH.Fill(Hb.At(0).HT)\n",
    "    hbMetET.Fill(metB.At(0).MET)\n",
    "    hbMetPhi.Fill(metB.At(0).Phi)\n",
    "    \n",
    "    hbDeltaEtaJet.Fill(abs(jetB.At(0).Eta-jetB.At(1).Eta))\n",
    "    hbDeltaEtaJetMax.Fill(abs(jetB.At(i).Eta-jetB.At(k).Eta))\n",
    "    \n",
    "    hbMass.Fill(InvariantMass(jetB,0,1)) \n",
    "    hbMassMax.Fill(InvariantMass(jetB,i,k))   "
   ]
  },
  {
   "cell_type": "markdown",
   "metadata": {},
   "source": [
    "### MET_ET"
   ]
  },
  {
   "cell_type": "code",
   "execution_count": 10,
   "metadata": {},
   "outputs": [
    {
     "name": "stderr",
     "output_type": "stream",
     "text": [
      "Info in <TCanvas::SaveSource>: C++ Macro file: ./images/COMHEP/cuts26_11_09/met.C has been generated\n"
     ]
    },
    {
     "data": {
      "image/png": "[encoded data removed]",
      "text/plain": [
       "<IPython.core.display.Image object>"
      ]
     },
     "metadata": {},
     "output_type": "display_data"
    }
   ],
   "source": [
    "Hs = hsMetET.Clone(\"MetSHisto\")\n",
    "Hb = hbMetET.Clone(\"MetBHisto\")\n",
    "Histos(Hs,Hb,'./images/COMHEP/cuts26_11_09/met.C')"
   ]
  },
  {
   "cell_type": "code",
   "execution_count": 11,
   "metadata": {},
   "outputs": [
    {
     "name": "stdout",
     "output_type": "stream",
     "text": [
      "('s:', 5792.1343384981155)\n",
      "('b: ', 25912.166711211205)\n",
      "('Z: ', 32.52966077506296)\n"
     ]
    },
    {
     "data": {
      "image/png": "[encoded data removed]",
      "text/plain": [
       "<IPython.core.display.Image object>"
      ]
     },
     "metadata": {},
     "output_type": "display_data"
    }
   ],
   "source": [
    "hzMET = Sig(hsMetET, hbMetET, ns=ns, nb=nb)\n",
    "Histo(hzMET)"
   ]
  },
  {
   "cell_type": "markdown",
   "metadata": {},
   "source": [
    "## Jet_PT"
   ]
  },
  {
   "cell_type": "code",
   "execution_count": 12,
   "metadata": {},
   "outputs": [
    {
     "name": "stderr",
     "output_type": "stream",
     "text": [
      "Info in <TCanvas::SaveSource>: C++ Macro file: ./images/COMHEP/cuts26_11_09/pt1.C has been generated\n"
     ]
    },
    {
     "data": {
      "image/png": "[encoded data removed]",
      "text/plain": [
       "<IPython.core.display.Image object>"
      ]
     },
     "metadata": {},
     "output_type": "display_data"
    }
   ],
   "source": [
    "Hspt = hsPT[0].Clone()\n",
    "Hbpt = hbPT[0].Clone()\n",
    "Histos(Hspt,Hbpt,'./images/COMHEP/cuts26_11_09/pt1.C')"
   ]
  },
  {
   "cell_type": "code",
   "execution_count": 13,
   "metadata": {},
   "outputs": [
    {
     "name": "stdout",
     "output_type": "stream",
     "text": [
      "('s:', 5791.859222650528)\n",
      "('b: ', 25912.167041540146)\n",
      "('Z: ', 32.528256639066825)\n"
     ]
    },
    {
     "data": {
      "image/png": "[encoded data removed]",
      "text/plain": [
       "<IPython.core.display.Image object>"
      ]
     },
     "metadata": {},
     "output_type": "display_data"
    }
   ],
   "source": [
    "hzPT = Sig(hsPT[0], hbPT[0], ns=ns, nb=nb)\n",
    "Histo(hzPT)"
   ]
  },
  {
   "cell_type": "code",
   "execution_count": 14,
   "metadata": {},
   "outputs": [
    {
     "name": "stderr",
     "output_type": "stream",
     "text": [
      "Info in <TCanvas::SaveSource>: C++ Macro file: ./images/COMHEP/cuts26_11_09/pt2.C has been generated\n"
     ]
    },
    {
     "data": {
      "image/png": "[encoded data removed]",
      "text/plain": [
       "<IPython.core.display.Image object>"
      ]
     },
     "metadata": {},
     "output_type": "display_data"
    }
   ],
   "source": [
    "Hspt = hsPT[1].Clone()\n",
    "Hbpt = hbPT[1].Clone()\n",
    "Histos(Hspt,Hbpt,'./images/COMHEP/cuts26_11_09/pt2.C')"
   ]
  },
  {
   "cell_type": "code",
   "execution_count": 15,
   "metadata": {
    "scrolled": true
   },
   "outputs": [
    {
     "name": "stdout",
     "output_type": "stream",
     "text": [
      "('s:', 5793.785613656044)\n",
      "('b: ', 25912.16715300083)\n",
      "('Z: ', 32.53808706467998)\n"
     ]
    },
    {
     "data": {
      "image/png": "[encoded data removed]",
      "text/plain": [
       "<IPython.core.display.Image object>"
      ]
     },
     "metadata": {},
     "output_type": "display_data"
    }
   ],
   "source": [
    "hzPT = Sig(hsPT[1], hbPT[1], ns=ns, nb=nb)\n",
    "Histo(hzPT)"
   ]
  },
  {
   "cell_type": "markdown",
   "metadata": {},
   "source": [
    "## Delta_Eta"
   ]
  },
  {
   "cell_type": "code",
   "execution_count": 16,
   "metadata": {},
   "outputs": [
    {
     "name": "stderr",
     "output_type": "stream",
     "text": [
      "Info in <TCanvas::SaveSource>: C++ Macro file: ./images/COMHEP/cuts26_11_09/deltaEta_j12.C has been generated\n"
     ]
    },
    {
     "data": {
      "image/png": "[encoded data removed]",
      "text/plain": [
       "<IPython.core.display.Image object>"
      ]
     },
     "metadata": {},
     "output_type": "display_data"
    }
   ],
   "source": [
    "HzsDEta = hsDeltaEtaJet.Clone()\n",
    "HzbDEta = hbDeltaEtaJet.Clone()\n",
    "Histos(HzsDEta,HzbDEta,'./images/COMHEP/cuts26_11_09/deltaEta_j12.C')"
   ]
  },
  {
   "cell_type": "code",
   "execution_count": 17,
   "metadata": {},
   "outputs": [
    {
     "name": "stdout",
     "output_type": "stream",
     "text": [
      "('s:', 5793.785515904427)\n",
      "('b: ', 25912.167014718056)\n",
      "('Z: ', 32.53808663681834)\n"
     ]
    },
    {
     "data": {
      "image/png": "[encoded data removed]",
      "text/plain": [
       "<IPython.core.display.Image object>"
      ]
     },
     "metadata": {},
     "output_type": "display_data"
    }
   ],
   "source": [
    "HzDeltaEtaJet = Sig(hsDeltaEtaJet, hbDeltaEtaJet, ns=ns, nb=nb)\n",
    "Histo(HzDeltaEtaJet)"
   ]
  },
  {
   "cell_type": "code",
   "execution_count": 18,
   "metadata": {},
   "outputs": [
    {
     "data": {
      "image/png": "[encoded data removed]",
      "text/plain": [
       "<IPython.core.display.Image object>"
      ]
     },
     "metadata": {},
     "output_type": "display_data"
    }
   ],
   "source": [
    "HszDJ = hsDeltaEtaJetMax.Clone()\n",
    "HbzDJ = hbDeltaEtaJetMax.Clone()\n",
    "Histos(HszDJ,HbzDJ)"
   ]
  },
  {
   "cell_type": "code",
   "execution_count": 19,
   "metadata": {},
   "outputs": [
    {
     "name": "stdout",
     "output_type": "stream",
     "text": [
      "('s:', 5793.785565018654)\n",
      "('b: ', 25912.1672103405)\n",
      "('Z: ', 32.538086787065495)\n"
     ]
    },
    {
     "data": {
      "image/png": "[encoded data removed]",
      "text/plain": [
       "<IPython.core.display.Image object>"
      ]
     },
     "metadata": {},
     "output_type": "display_data"
    }
   ],
   "source": [
    "HzDJ = Sig(hsDeltaEtaJetMax, hbDeltaEtaJetMax, ns=ns, nb=nb)\n",
    "Histo(HzDJ)"
   ]
  },
  {
   "cell_type": "markdown",
   "metadata": {},
   "source": [
    "## Invariant Mass"
   ]
  },
  {
   "cell_type": "code",
   "execution_count": 20,
   "metadata": {},
   "outputs": [
    {
     "name": "stderr",
     "output_type": "stream",
     "text": [
      "Info in <TCanvas::SaveSource>: C++ Macro file: ./images/COMHEP/cuts26_11_09/m_j1_j2.C has been generated\n"
     ]
    },
    {
     "data": {
      "image/png": "[encoded data removed]",
      "text/plain": [
       "<IPython.core.display.Image object>"
      ]
     },
     "metadata": {},
     "output_type": "display_data"
    }
   ],
   "source": [
    "HzsMass = hsMass.Clone()\n",
    "HzbMass = hbMass.Clone()\n",
    "Histos(HzsMass,HzbMass,'./images/COMHEP/cuts26_11_09/m_j1_j2.C')"
   ]
  },
  {
   "cell_type": "code",
   "execution_count": 21,
   "metadata": {},
   "outputs": [
    {
     "name": "stdout",
     "output_type": "stream",
     "text": [
      "('s:', 5732.691139698029)\n",
      "('b: ', 25236.878602027893)\n",
      "('Z: ', 32.57549007070342)\n"
     ]
    },
    {
     "data": {
      "image/png": "[encoded data removed]",
      "text/plain": [
       "<IPython.core.display.Image object>"
      ]
     },
     "metadata": {},
     "output_type": "display_data"
    }
   ],
   "source": [
    "HzMass = Sig(hsMass, hbMass, ns=ns, nb=nb)\n",
    "Histo(HzMass)"
   ]
  },
  {
   "cell_type": "code",
   "execution_count": 22,
   "metadata": {},
   "outputs": [
    {
     "data": {
      "image/png": "[encoded data removed]",
      "text/plain": [
       "<IPython.core.display.Image object>"
      ]
     },
     "metadata": {},
     "output_type": "display_data"
    }
   ],
   "source": [
    "HzsM = hsMassMax.Clone()\n",
    "HzbM = hbMassMax.Clone()\n",
    "Histos(HzsM,HzbM)"
   ]
  },
  {
   "cell_type": "code",
   "execution_count": 23,
   "metadata": {},
   "outputs": [
    {
     "name": "stdout",
     "output_type": "stream",
     "text": [
      "('s:', 5632.793601989746)\n",
      "('b: ', 24143.413359761238)\n",
      "('Z: ', 32.64293128583412)\n"
     ]
    },
    {
     "data": {
      "image/png": "[encoded data removed]",
      "text/plain": [
       "<IPython.core.display.Image object>"
      ]
     },
     "metadata": {},
     "output_type": "display_data"
    }
   ],
   "source": [
    "HzM = Sig(hsMassMax, hbMassMax, ns=ns, nb=nb)\n",
    "Histo(HzM)"
   ]
  },
  {
   "cell_type": "markdown",
   "metadata": {},
   "source": [
    "## HT"
   ]
  },
  {
   "cell_type": "code",
   "execution_count": 24,
   "metadata": {},
   "outputs": [
    {
     "name": "stderr",
     "output_type": "stream",
     "text": [
      "Info in <TCanvas::SaveSource>: C++ Macro file: ./images/COMHEP/cuts26_11_09/ht.C has been generated\n"
     ]
    },
    {
     "data": {
      "image/png": "[encoded data removed]",
      "text/plain": [
       "<IPython.core.display.Image object>"
      ]
     },
     "metadata": {},
     "output_type": "display_data"
    }
   ],
   "source": [
    "Hs = hsH.Clone(\"HtHisto\")\n",
    "Hb = hbH.Clone(\"HtHisto\")\n",
    "Histos(Hs,Hb,'./images/COMHEP/cuts26_11_09/ht.C')"
   ]
  },
  {
   "cell_type": "code",
   "execution_count": 25,
   "metadata": {},
   "outputs": [
    {
     "name": "stdout",
     "output_type": "stream",
     "text": [
      "s = 5543.35359573\n",
      "b = 25638.8008105\n",
      "sig = 31.3920388446\n"
     ]
    }
   ],
   "source": [
    "L=1000\n",
    "sigmab=72.38\n",
    "sigmas=13.76\n",
    "\n",
    "hsH.Scale((L*sigmas/ns))\n",
    "hbH.Scale((L*sigmab/nb))\n",
    "\n",
    "s = hsH.Integral()\n",
    "b = hbH.Integral()\n",
    "print(\"s = {0}\".format(s))\n",
    "print(\"b = {0}\".format(b))\n",
    "print(\"sig = {0}\".format(s/sqrt(s+b)))"
   ]
  },
  {
   "cell_type": "code",
   "execution_count": 26,
   "metadata": {},
   "outputs": [
    {
     "name": "stdout",
     "output_type": "stream",
     "text": [
      "21053.0\n"
     ]
    }
   ],
   "source": [
    "print(hsH.GetEntries())"
   ]
  }
 ],
 "metadata": {
  "colab": {
   "name": "daniel_MET_cut.ipynb",
   "provenance": []
  },
  "kernelspec": {
   "display_name": "Python 2",
   "language": "python",
   "name": "python2"
  },
  "language_info": {
   "codemirror_mode": {
    "name": "ipython",
    "version": 2
   },
   "file_extension": ".py",
   "mimetype": "text/x-python",
   "name": "python",
   "nbconvert_exporter": "python",
   "pygments_lexer": "ipython2",
   "version": "2.7.15+"
  }
 },
 "nbformat": 4,
 "nbformat_minor": 1
}
